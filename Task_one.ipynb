{
  "cells": [
    {
      "cell_type": "code",
      "id": "initial_id",
      "metadata": {
        "collapsed": true,
        "ExecuteTime": {
          "end_time": "2024-07-22T20:20:21.532155Z",
          "start_time": "2024-07-22T20:20:21.528393Z"
        },
        "id": "initial_id"
      },
      "source": [
        "#### Data Visualization here\n",
        "data_normal = pd.read_csv('/content/ptbdb_normal.csv', header = None)\n",
        "data_abnormal = pd.read_csv('/content/ptbdb_abnormal.csv', header = None)"
      ],
      "outputs": [],
      "execution_count": null
    },
    {
      "cell_type": "code",
      "source": [
        "classes_names = {0 : \"normal\",\n",
        "                 1 : \"abnormal\"}\n",
        "\n",
        "num_cols = data_normal.shape[1] - 1\n",
        "time = np.arange(0, num_cols) / 125\n",
        "time = time * 1000\n",
        "data_normal.columns = list(time) + [\"label\"]\n",
        "data_abnormal.columns = list(time) + [\"label\"]\n",
        "df_ptbd = pd.concat([data_normal, data_abnormal], axis = 0)\n",
        "counts = df_ptbd[\"label\"].value_counts()\n",
        "counts.index = counts.index.map(classes_names)"
      ],
      "metadata": {
        "id": "_T_rojNCIrSV"
      },
      "id": "_T_rojNCIrSV",
      "execution_count": null,
      "outputs": []
    },
    {
      "cell_type": "code",
      "source": [
        "# create a figure\n",
        "plt.figure(figsize = (10, 5))\n",
        "# plot a bar chart\n",
        "counts.plot(kind = \"bar\")\n",
        "# plot xticks in angle\n",
        "plt.xticks(rotation = 0)\n",
        "plt.title(\"Number of samples in each class\")\n",
        "plt.show()\n",
        "plt.close()"
      ],
      "metadata": {
        "id": "AeTH51cRJBsB"
      },
      "id": "AeTH51cRJBsB",
      "execution_count": null,
      "outputs": []
    },
    {
      "metadata": {
        "ExecuteTime": {
          "end_time": "2024-07-22T20:20:44.084546Z",
          "start_time": "2024-07-22T20:20:44.082014Z"
        },
        "id": "de15b4654e3845c9"
      },
      "cell_type": "code",
      "source": [
        "#### Data concatenation and preparation here"
      ],
      "id": "de15b4654e3845c9",
      "outputs": [],
      "execution_count": null
    },
    {
      "metadata": {
        "ExecuteTime": {
          "end_time": "2024-07-22T20:20:53.942105Z",
          "start_time": "2024-07-22T20:20:53.938357Z"
        },
        "id": "2c38c269e4d9cea7"
      },
      "cell_type": "code",
      "source": [
        "#### Model init and training here"
      ],
      "id": "2c38c269e4d9cea7",
      "outputs": [],
      "execution_count": null
    },
    {
      "metadata": {
        "id": "86ff38e0187fcd1b"
      },
      "cell_type": "code",
      "outputs": [],
      "execution_count": null,
      "source": [],
      "id": "86ff38e0187fcd1b"
    }
  ],
  "metadata": {
    "kernelspec": {
      "display_name": "Python 3",
      "language": "python",
      "name": "python3"
    },
    "language_info": {
      "codemirror_mode": {
        "name": "ipython",
        "version": 2
      },
      "file_extension": ".py",
      "mimetype": "text/x-python",
      "name": "python",
      "nbconvert_exporter": "python",
      "pygments_lexer": "ipython2",
      "version": "2.7.6"
    },
    "colab": {
      "provenance": []
    }
  },
  "nbformat": 4,
  "nbformat_minor": 5
}