{
  "cells": [
    {
      "cell_type": "markdown",
      "metadata": {
        "id": "view-in-github",
        "colab_type": "text"
      },
      "source": [
        "<a href=\"https://colab.research.google.com/github/Dhawal-Modi/DSC_2024_Space_Jam/blob/main/Task_one.ipynb\" target=\"_parent\"><img src=\"https://colab.research.google.com/assets/colab-badge.svg\" alt=\"Open In Colab\"/></a>"
      ]
    },
    {
      "cell_type": "code",
      "source": [
        "import pandas as pd\n",
        "import numpy as np\n",
        "import matplotlib.pyplot as plt"
      ],
      "metadata": {
        "id": "rUf2NvfSH2ey"
      },
      "id": "rUf2NvfSH2ey",
      "execution_count": 1,
      "outputs": []
    },
    {
      "cell_type": "code",
      "id": "initial_id",
      "metadata": {
        "collapsed": true,
        "ExecuteTime": {
          "end_time": "2024-07-22T20:20:21.532155Z",
          "start_time": "2024-07-22T20:20:21.528393Z"
        },
        "id": "initial_id"
      },
      "source": [
        "#### Data Visualization here"
      ],
      "outputs": [],
      "execution_count": null
    },
    {
      "metadata": {
        "ExecuteTime": {
          "end_time": "2024-07-22T20:20:44.084546Z",
          "start_time": "2024-07-22T20:20:44.082014Z"
        },
        "id": "de15b4654e3845c9"
      },
      "cell_type": "code",
      "source": [
        "#### Data concatenation and preparation here\n",
        "abnormal_df = pd.read_csv(\"ptbdb_abnormal.csv\", header=None)\n",
        "normal_df = pd.read_csv(\"ptbdb_normal.csv\", header=None)\n",
        "abnormal_df.rename(columns={'187': \"Label\"}, inplace=True)\n",
        "normal_df.rename(columns={'187': \"Label\"}, inplace=True)\n",
        "#downsample the abnormal df to a size closer to the normal df\n",
        "abnormal_df = abnormal_df.sample(n=5000, random_state=1)\n",
        "total_df = pd.concat([normal_df, abnormal_df])"
      ],
      "id": "de15b4654e3845c9",
      "outputs": [],
      "execution_count": null
    },
    {
      "metadata": {
        "ExecuteTime": {
          "end_time": "2024-07-22T20:20:53.942105Z",
          "start_time": "2024-07-22T20:20:53.938357Z"
        },
        "id": "2c38c269e4d9cea7"
      },
      "cell_type": "code",
      "source": [
        "#### Model init and training here"
      ],
      "id": "2c38c269e4d9cea7",
      "outputs": [],
      "execution_count": null
    },
    {
      "metadata": {
        "id": "86ff38e0187fcd1b"
      },
      "cell_type": "code",
      "outputs": [],
      "execution_count": null,
      "source": [],
      "id": "86ff38e0187fcd1b"
    }
  ],
  "metadata": {
    "kernelspec": {
      "display_name": "Python 3",
      "language": "python",
      "name": "python3"
    },
    "language_info": {
      "codemirror_mode": {
        "name": "ipython",
        "version": 2
      },
      "file_extension": ".py",
      "mimetype": "text/x-python",
      "name": "python",
      "nbconvert_exporter": "python",
      "pygments_lexer": "ipython2",
      "version": "2.7.6"
    },
    "colab": {
      "provenance": [],
      "include_colab_link": true
    }
  },
  "nbformat": 4,
  "nbformat_minor": 5
}