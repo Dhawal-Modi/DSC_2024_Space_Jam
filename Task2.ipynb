{
  "cells": [
    {
      "cell_type": "code",
      "execution_count": 355,
      "metadata": {
        "id": "jScZUDgLrgZQ"
      },
      "outputs": [],
      "source": [
        "import pandas as pd\n",
        "import numpy as np\n",
        "import matplotlib.pyplot as plt\n",
        "import seaborn as sns\n",
        "import random"
      ]
    },
    {
      "cell_type": "markdown",
      "source": [
        "### **Loading in the Datasets**"
      ],
      "metadata": {
        "id": "IOQFCjFr4aoX"
      }
    },
    {
      "cell_type": "code",
      "execution_count": 356,
      "metadata": {
        "id": "tGeo1b8Er_ij"
      },
      "outputs": [],
      "source": [
        "mitbih_test = pd.read_csv('mitbih_test.csv', header= None)\n",
        "mitbih_train = pd.read_csv('mitbih_train.csv', header = None)"
      ]
    },
    {
      "cell_type": "markdown",
      "source": [
        "### **Renaming the labels column, making the train and test into datasets**"
      ],
      "metadata": {
        "id": "gzjGojBD4jYf"
      }
    },
    {
      "cell_type": "code",
      "execution_count": 357,
      "metadata": {
        "colab": {
          "base_uri": "https://localhost:8080/"
        },
        "id": "5rZBW0iXtZwG",
        "outputId": "74481051-9fa4-45b0-9b5c-247bd2c7c857"
      },
      "outputs": [
        {
          "output_type": "stream",
          "name": "stdout",
          "text": [
            "<class 'pandas.core.frame.DataFrame'>\n",
            "RangeIndex: 21892 entries, 0 to 21891\n",
            "Columns: 188 entries, 0 to 187\n",
            "dtypes: float64(188)\n",
            "memory usage: 31.4 MB\n"
          ]
        }
      ],
      "source": [
        "mitbih_test.info()\n",
        "mitbih_test = mitbih_test.rename(columns={'187': 'labels'})"
      ]
    },
    {
      "cell_type": "code",
      "execution_count": 358,
      "metadata": {
        "colab": {
          "base_uri": "https://localhost:8080/"
        },
        "id": "aAkw9wFstn8Q",
        "outputId": "cccf259c-b209-422f-996e-52c8b8568874"
      },
      "outputs": [
        {
          "output_type": "stream",
          "name": "stdout",
          "text": [
            "<class 'pandas.core.frame.DataFrame'>\n",
            "RangeIndex: 87554 entries, 0 to 87553\n",
            "Columns: 188 entries, 0 to 187\n",
            "dtypes: float64(188)\n",
            "memory usage: 125.6 MB\n"
          ]
        }
      ],
      "source": [
        "mitbih_train.info()\n",
        "mitbih_train = mitbih_train.rename(columns={'187': 'labels'})"
      ]
    },
    {
      "cell_type": "code",
      "source": [
        "df_test = pd.DataFrame(mitbih_test)\n",
        "df_test = df_test.rename(columns ={187 : 'label'})"
      ],
      "metadata": {
        "id": "52Os3EAQf89u"
      },
      "execution_count": 359,
      "outputs": []
    },
    {
      "cell_type": "code",
      "source": [
        "df_train = pd.DataFrame(mitbih_train)\n",
        "df_train = df_train.rename(columns ={187 : 'label'})\n",
        "df_train\n",
        "df_train.label.unique()"
      ],
      "metadata": {
        "colab": {
          "base_uri": "https://localhost:8080/"
        },
        "id": "LsUTbUhggfhd",
        "outputId": "e7cf71fb-c043-499a-bad8-bb62c5679f80"
      },
      "execution_count": 360,
      "outputs": [
        {
          "output_type": "execute_result",
          "data": {
            "text/plain": [
              "array([0., 1., 2., 3., 4.])"
            ]
          },
          "metadata": {},
          "execution_count": 360
        }
      ]
    },
    {
      "cell_type": "markdown",
      "source": [
        "### **Counting number of each type of rhythms in the train dataset + visualizing the number**"
      ],
      "metadata": {
        "id": "IeWK27Qs8Rut"
      }
    },
    {
      "cell_type": "code",
      "source": [
        "print(\"This is 0 (Normal Heart Rhythms):\", df_train['label'].value_counts()[0])\n",
        "print(\"This is 1 (Supraventricular Arrhythmias):\", df_train['label'].value_counts()[1])\n",
        "print(\"This is 2 (Ventricular Arrhythmias):\", df_train['label'].value_counts()[2])\n",
        "print(\"This is 3 (Fusion Beats):\", df_train['label'].value_counts()[3])\n",
        "print(\"This is 4 (Unknown or Unclassified heartbeats):\", df_train['label'].value_counts()[4])"
      ],
      "metadata": {
        "colab": {
          "base_uri": "https://localhost:8080/"
        },
        "id": "Jhr6ahdph9ET",
        "outputId": "6164047f-01a5-4c78-bb6c-04bf38d28f33"
      },
      "execution_count": 361,
      "outputs": [
        {
          "output_type": "stream",
          "name": "stdout",
          "text": [
            "This is 0 (Normal Heart Rhythms): 72471\n",
            "This is 1 (Supraventricular Arrhythmias): 2223\n",
            "This is 2 (Ventricular Arrhythmias): 5788\n",
            "This is 3 (Fusion Beats): 641\n",
            "This is 4 (Unknown or Unclassified heartbeats): 6431\n"
          ]
        }
      ]
    },
    {
      "cell_type": "code",
      "source": [
        "plt.figure(figsize=(10, 7))\n",
        "plt.title(\"Overall Spread of Data prior to Normalization\")\n",
        "plt.ylabel(\"Number of Data Points\")\n",
        "plt.hist(df_train['label'])\n",
        "plt.show()"
      ],
      "metadata": {
        "colab": {
          "base_uri": "https://localhost:8080/",
          "height": 599
        },
        "id": "YYcobWdBfCkk",
        "outputId": "fff172bd-7bbf-44aa-ee34-087ae029afbc"
      },
      "execution_count": 362,
      "outputs": [
        {
          "output_type": "display_data",
          "data": {
            "text/plain": [
              "<Figure size 1000x700 with 1 Axes>"
            ],
            "image/png": "[encoded data removed]"
          },
          "metadata": {}
        }
      ]
    },
    {
      "cell_type": "markdown",
      "source": [
        "### **Normalizing the train dataset**"
      ],
      "metadata": {
        "id": "VQLET7BF8eHt"
      }
    },
    {
      "cell_type": "code",
      "source": [
        "df_zero = df_train[df_train['label'] == 0]\n",
        "df_one = df_train[df_train['label'] == 1]\n",
        "df_two = df_train[df_train['label'] == 2]\n",
        "df_three = df_train[df_train['label'] == 3]\n",
        "df_four = df_train[df_train['label'] == 4]"
      ],
      "metadata": {
        "id": "Re9Bmnj0ngsS"
      },
      "execution_count": 363,
      "outputs": []
    },
    {
      "cell_type": "code",
      "source": [
        "plt.figure(figsize=(20, 10))\n",
        "\n",
        "plt.subplot(2, 2, 1)\n",
        "plt.plot(df_zero.iloc[0, :187], color='blue', label='Normal Heartbeat')\n",
        "plt.plot(df_one.iloc[0, :187], color='orange', label='Supraventricular Heartbeat')\n",
        "plt.xlabel('Time')\n",
        "plt.ylabel('Amplitude')\n",
        "plt.legend()\n",
        "\n",
        "plt.subplot(2, 2, 2)\n",
        "plt.plot(df_zero.iloc[0, :187], color='blue', label='Normal Heartbeat')\n",
        "plt.plot(df_four.iloc[0, :187], color='grey', label='Unknown Heartbeat')\n",
        "plt.xlabel('Time')\n",
        "plt.ylabel('Amplitude')\n",
        "plt.legend()\n",
        "\n",
        "plt.subplot(2, 2, 3)\n",
        "plt.plot(df_zero.iloc[0, :187], color='blue', label='Normal Heartbeat')\n",
        "plt.plot(df_two.iloc[0, :187], color='red', label='Ventricular Heartbeat')\n",
        "plt.xlabel('Time')\n",
        "plt.ylabel('Amplitude')\n",
        "plt.legend()\n",
        "\n",
        "plt.subplot(2, 2, 4)\n",
        "plt.plot(df_zero.iloc[0, :187], color='blue', label='Normal Heartbeat')\n",
        "plt.plot(df_three.iloc[0, :187], color='brown', label='Fusion Heartbeat')\n",
        "plt.xlabel('Time')\n",
        "plt.ylabel('Amplitude')\n",
        "plt.legend()\n",
        "\n",
        "plt.show()"
      ],
      "metadata": {
        "colab": {
          "base_uri": "https://localhost:8080/",
          "height": 457
        },
        "id": "dH63KwRy_Phc",
        "outputId": "9e2f7e5a-20f4-4319-cf1f-d503d7ec0a5f"
      },
      "execution_count": 364,
      "outputs": [
        {
          "output_type": "display_data",
          "data": {
            "text/plain": [
              "<Figure size 2000x1000 with 4 Axes>"
            ],
            "image/png": "[encoded data removed]"
          },
          "metadata": {}
        }
      ]
    },
    {
      "cell_type": "code",
      "source": [
        "df_zero = df_zero.sample(n=1200, random_state=1)\n",
        "df_one = df_one.sample(n=1200, random_state=1)\n",
        "df_two = df_two.sample(n=1200, random_state=1)\n",
        "df_four = df_four.sample(n=1200, random_state=1)\n",
        "\n",
        "df_train_normalized = pd.concat([df_zero, df_one, df_two, df_three, df_four, df_three])\n"
      ],
      "metadata": {
        "id": "zjAJux5GmH2g"
      },
      "execution_count": 365,
      "outputs": []
    },
    {
      "cell_type": "code",
      "source": [
        "df_train_normalized.info()\n",
        "df_train_normalized.label.unique()"
      ],
      "metadata": {
        "colab": {
          "base_uri": "https://localhost:8080/"
        },
        "id": "v1_8tstEtMFk",
        "outputId": "fed9289a-f957-4548-b968-3b229856dcda"
      },
      "execution_count": 366,
      "outputs": [
        {
          "output_type": "stream",
          "name": "stdout",
          "text": [
            "<class 'pandas.core.frame.DataFrame'>\n",
            "Index: 6082 entries, 65728 to 81122\n",
            "Columns: 188 entries, 0 to label\n",
            "dtypes: float64(188)\n",
            "memory usage: 8.8 MB\n"
          ]
        },
        {
          "output_type": "execute_result",
          "data": {
            "text/plain": [
              "array([0., 1., 2., 3., 4.])"
            ]
          },
          "metadata": {},
          "execution_count": 366
        }
      ]
    },
    {
      "cell_type": "code",
      "source": [
        "\n",
        "print(\"This is 2 (Ventricular Arrhythmias):\", df_train_normalized['label'].value_counts()[2])\n",
        "print(\"This is 3 (Fusion Beats):\", df_train_normalized['label'].value_counts()[3])\n",
        "print(\"This is 4 (Unknown or Unclassified heartbeats):\", df_train_normalized['label'].value_counts()[4])"
      ],
      "metadata": {
        "colab": {
          "base_uri": "https://localhost:8080/"
        },
        "id": "aK-qk6MZNZ2t",
        "outputId": "c23e0df0-4980-4e59-85fc-13ff579d8276"
      },
      "execution_count": 367,
      "outputs": [
        {
          "output_type": "stream",
          "name": "stdout",
          "text": [
            "This is 2 (Ventricular Arrhythmias): 1200\n",
            "This is 3 (Fusion Beats): 1282\n",
            "This is 4 (Unknown or Unclassified heartbeats): 1200\n"
          ]
        }
      ]
    },
    {
      "cell_type": "code",
      "source": [
        "df_test.info()"
      ],
      "metadata": {
        "colab": {
          "base_uri": "https://localhost:8080/"
        },
        "id": "WkZFwyeMto7y",
        "outputId": "b1a62255-a903-46bb-9d39-8f28e3c10044"
      },
      "execution_count": 368,
      "outputs": [
        {
          "output_type": "stream",
          "name": "stdout",
          "text": [
            "<class 'pandas.core.frame.DataFrame'>\n",
            "RangeIndex: 21892 entries, 0 to 21891\n",
            "Columns: 188 entries, 0 to label\n",
            "dtypes: float64(188)\n",
            "memory usage: 31.4 MB\n"
          ]
        }
      ]
    },
    {
      "cell_type": "code",
      "source": [
        "#df_downsampled_test = df_test.sample(n=1360, random_state=1)"
      ],
      "metadata": {
        "id": "njYqGW8Qp7vv"
      },
      "execution_count": 369,
      "outputs": []
    },
    {
      "cell_type": "markdown",
      "source": [
        "### **Importing the neccesary classifiers for models**"
      ],
      "metadata": {
        "id": "bO8FcPqo8l4q"
      }
    },
    {
      "cell_type": "code",
      "source": [
        "from sklearn.linear_model import LogisticRegression\n",
        "from sklearn.metrics import confusion_matrix\n",
        "from sklearn import metrics\n",
        "from sklearn.neighbors import KNeighborsClassifier\n",
        "from sklearn.ensemble import RandomForestClassifier\n",
        "from sklearn.ensemble import AdaBoostClassifier\n",
        "from sklearn.metrics import accuracy_score\n",
        "from sklearn.ensemble import GradientBoostingClassifier\n",
        "from sklearn.model_selection import GridSearchCV\n",
        "from sklearn.metrics import recall_score\n",
        "from sklearn.model_selection import cross_val_score\n",
        "from xgboost import XGBClassifier\n",
        "from sklearn.metrics import mean_absolute_error\n",
        "import xgboost as xgb"
      ],
      "metadata": {
        "id": "8vLS-LjG8rRJ"
      },
      "execution_count": 397,
      "outputs": []
    },
    {
      "cell_type": "markdown",
      "source": [
        "### **Making Models and Graphs**"
      ],
      "metadata": {
        "id": "kT4dpLs6ZIrI"
      }
    },
    {
      "cell_type": "code",
      "source": [
        "X_train, y_train = df_train_normalized.iloc[:,:187], df_train_normalized.iloc[:,-1:]\n",
        "X_test, y_test = df_test.iloc[:,:187], df_test.iloc[:,-1:]\n",
        "\n",
        "#X_test, y_test = df_downsampled_test.iloc[:,:187], df_downsampled_test.iloc[:,-1:]\n",
        "\n",
        "accuracy = []"
      ],
      "metadata": {
        "id": "suQBjQJcqHOr"
      },
      "execution_count": 371,
      "outputs": []
    },
    {
      "cell_type": "markdown",
      "source": [
        "#### *Logistic Regression*"
      ],
      "metadata": {
        "id": "gNUZkNMu9JQE"
      }
    },
    {
      "cell_type": "code",
      "source": [
        "clf = LogisticRegression(penalty='l2', tol=0.0001, max_iter=1000, random_state=1)\n",
        "clf = clf.fit(X_train, y_train)\n",
        "y_predicted_LR = clf.predict(X_test)\n",
        "accuracyLR = accuracy_score(y_test, y_predicted_LR)\n",
        "print(\"Accuracy:\", accuracyLR)\n",
        "\n",
        "print(\"Recall Score : \",recall_score(y_test, y_predicted_LR, pos_label='positive',average='macro'))\n",
        "\n",
        "\n",
        "print(y_predicted_LR)\n",
        "confusion_matrix_LR = confusion_matrix(y_test, y_predicted_LR, normalize='true')"
      ],
      "metadata": {
        "colab": {
          "base_uri": "https://localhost:8080/"
        },
        "id": "iYFiZjxPq6y6",
        "outputId": "162f02bc-06ef-4159-f599-4eddcb25bf2d"
      },
      "execution_count": 372,
      "outputs": [
        {
          "output_type": "stream",
          "name": "stderr",
          "text": [
            "/usr/local/lib/python3.10/dist-packages/sklearn/utils/validation.py:1183: DataConversionWarning: A column-vector y was passed when a 1d array was expected. Please change the shape of y to (n_samples, ), for example using ravel().\n",
            "  y = column_or_1d(y, warn=True)\n"
          ]
        },
        {
          "output_type": "stream",
          "name": "stdout",
          "text": [
            "Accuracy: 0.6338388452402705\n",
            "Recall Score :  0.7519904980155511\n",
            "[0. 0. 0. ... 2. 4. 4.]\n"
          ]
        },
        {
          "output_type": "stream",
          "name": "stderr",
          "text": [
            "/usr/local/lib/python3.10/dist-packages/sklearn/metrics/_classification.py:1523: UserWarning: Note that pos_label (set to 'positive') is ignored when average != 'binary' (got 'macro'). You may use labels=[pos_label] to specify a single positive class.\n",
            "  warnings.warn(\n"
          ]
        }
      ]
    },
    {
      "cell_type": "code",
      "source": [
        "cm_display = metrics.ConfusionMatrixDisplay(confusion_matrix  = confusion_matrix_LR, display_labels = [\"Normal\", \"Supraventricular\", \"Ventricular\", \"Fusion\", \"Unknown\"])\n",
        "cm_display.plot()\n",
        "\n",
        "\n",
        "plt.title(\"Logistic Regression Confusion Matrix\")\n",
        "plt.show()"
      ],
      "metadata": {
        "colab": {
          "base_uri": "https://localhost:8080/",
          "height": 472
        },
        "id": "kfKYq5u6z6U2",
        "outputId": "f4b6fcb0-10a7-4572-f04b-079386038c3a"
      },
      "execution_count": 373,
      "outputs": [
        {
          "output_type": "display_data",
          "data": {
            "text/plain": [
              "<Figure size 640x480 with 2 Axes>"
            ],
            "image/png": "[encoded data removed]"
          },
          "metadata": {}
        }
      ]
    },
    {
      "cell_type": "code",
      "source": [
        "accuracy.append(accuracyLR)"
      ],
      "metadata": {
        "id": "vLKcb4GIRxrJ"
      },
      "execution_count": null,
      "outputs": []
    },
    {
      "cell_type": "markdown",
      "source": [
        "#### *K Nearest-Neighbors*"
      ],
      "metadata": {
        "id": "Iw_Ed7oa9ON7"
      }
    },
    {
      "cell_type": "code",
      "source": [
        "knn = KNeighborsClassifier(n_neighbors=3)\n",
        "knn.fit(X_train, y_train)\n",
        "y_pred_KNN = knn.predict(X_test)\n",
        "accuracyKNN = accuracy_score(y_test, y_pred_KNN)\n",
        "\n",
        "print(\"Accuracy:\", accuracyKNN)\n",
        "\n",
        "print(\"Recall Score : \",recall_score(y_test, y_pred_KNN,\n",
        "                                           pos_label='positive',\n",
        "                                           average='macro'))"
      ],
      "metadata": {
        "colab": {
          "base_uri": "https://localhost:8080/"
        },
        "id": "ZjuHbLCir_hw",
        "outputId": "40f972ce-f8dc-49de-f9ce-b5553ff3fc9e"
      },
      "execution_count": 374,
      "outputs": [
        {
          "output_type": "stream",
          "name": "stderr",
          "text": [
            "/usr/local/lib/python3.10/dist-packages/sklearn/neighbors/_classification.py:233: DataConversionWarning: A column-vector y was passed when a 1d array was expected. Please change the shape of y to (n_samples,), for example using ravel().\n",
            "  return self._fit(X, y)\n"
          ]
        },
        {
          "output_type": "stream",
          "name": "stdout",
          "text": [
            "Accuracy: 0.813128083318107\n",
            "Recall Score :  0.8695435789763696\n"
          ]
        },
        {
          "output_type": "stream",
          "name": "stderr",
          "text": [
            "/usr/local/lib/python3.10/dist-packages/sklearn/metrics/_classification.py:1523: UserWarning: Note that pos_label (set to 'positive') is ignored when average != 'binary' (got 'macro'). You may use labels=[pos_label] to specify a single positive class.\n",
            "  warnings.warn(\n"
          ]
        }
      ]
    },
    {
      "cell_type": "code",
      "source": [
        "confusion_matrix_KNN = confusion_matrix(y_test, y_pred_KNN, normalize='true')\n",
        "\n",
        "cm_display = metrics.ConfusionMatrixDisplay(confusion_matrix = confusion_matrix_KNN,\n",
        "                                            display_labels = [\"Normal\", \"Supraventricular\", \"Ventricular\", \"Fusion\", \"Unknown\"])\n",
        "cm_display.plot()\n",
        "plt.title(\"KNN Confusion Matrix\")\n",
        "plt.show()"
      ],
      "metadata": {
        "colab": {
          "base_uri": "https://localhost:8080/",
          "height": 472
        },
        "id": "wLRFcwk0x3-D",
        "outputId": "c5ad29c2-18b2-43a6-afa9-024e04c295ba"
      },
      "execution_count": 375,
      "outputs": [
        {
          "output_type": "display_data",
          "data": {
            "text/plain": [
              "<Figure size 640x480 with 2 Axes>"
            ],
            "image/png": "[encoded data removed]"
          },
          "metadata": {}
        }
      ]
    },
    {
      "cell_type": "code",
      "source": [
        "accuracy.append(accuracyKNN)"
      ],
      "metadata": {
        "id": "KQkG1ZSwR10F"
      },
      "execution_count": null,
      "outputs": []
    },
    {
      "cell_type": "markdown",
      "source": [
        "#### *Random Forest*"
      ],
      "metadata": {
        "id": "2nzoA_K79USc"
      }
    },
    {
      "cell_type": "code",
      "source": [
        "rf = RandomForestClassifier()\n",
        "rf.fit(X_train, y_train)\n",
        "y_pred_RF = rf.predict(X_test)\n",
        "accuracyRF = accuracy_score(y_test, y_pred_RF)"
      ],
      "metadata": {
        "colab": {
          "base_uri": "https://localhost:8080/"
        },
        "id": "bjiRDB6RuseB",
        "outputId": "e7191c1d-3042-40a0-d8a4-9354871a039f"
      },
      "execution_count": 376,
      "outputs": [
        {
          "output_type": "stream",
          "name": "stderr",
          "text": [
            "/usr/local/lib/python3.10/dist-packages/sklearn/base.py:1152: DataConversionWarning: A column-vector y was passed when a 1d array was expected. Please change the shape of y to (n_samples,), for example using ravel().\n",
            "  return fit_method(estimator, *args, **kwargs)\n"
          ]
        }
      ]
    },
    {
      "cell_type": "code",
      "source": [
        "from sklearn.ensemble import RandomForestRegressor\n",
        "rf = RandomForestRegressor(random_state = 42)\n",
        "from pprint import pprint\n",
        "# Look at parameters used by our current forest\n",
        "print('Parameters currently in use:\\n')\n",
        "pprint(rf.get_params())"
      ],
      "metadata": {
        "colab": {
          "base_uri": "https://localhost:8080/"
        },
        "id": "NMM11JO39mnm",
        "outputId": "700d831c-a895-44e7-e10d-1791628e1b45"
      },
      "execution_count": 377,
      "outputs": [
        {
          "output_type": "stream",
          "name": "stdout",
          "text": [
            "Parameters currently in use:\n",
            "\n",
            "{'bootstrap': True,\n",
            " 'ccp_alpha': 0.0,\n",
            " 'criterion': 'squared_error',\n",
            " 'max_depth': None,\n",
            " 'max_features': 1.0,\n",
            " 'max_leaf_nodes': None,\n",
            " 'max_samples': None,\n",
            " 'min_impurity_decrease': 0.0,\n",
            " 'min_samples_leaf': 1,\n",
            " 'min_samples_split': 2,\n",
            " 'min_weight_fraction_leaf': 0.0,\n",
            " 'n_estimators': 100,\n",
            " 'n_jobs': None,\n",
            " 'oob_score': False,\n",
            " 'random_state': 42,\n",
            " 'verbose': 0,\n",
            " 'warm_start': False}\n"
          ]
        }
      ]
    },
    {
      "cell_type": "code",
      "source": [
        "'''\n",
        "model = RandomForestClassifier()\n",
        "param_grid = {\"n_estimators\":[150,175], \"min_samples_split\":[5,10]}\n",
        "grid_search = GridSearchCV(model, param_grid=param_grid, cv=2, scoring=\"recall\")\n",
        "grid_search.fit(X_train, y_train)\n",
        "print(grid_search.best_params_)\n",
        "print(grid_search.best_score_)\n",
        "'''"
      ],
      "metadata": {
        "colab": {
          "base_uri": "https://localhost:8080/",
          "height": 70
        },
        "id": "-aMbPwpW904B",
        "outputId": "b2be725f-5d55-419a-dabf-67c1d78ac470"
      },
      "execution_count": 378,
      "outputs": [
        {
          "output_type": "execute_result",
          "data": {
            "text/plain": [
              "'\\nmodel = RandomForestClassifier()\\nparam_grid = {\"n_estimators\":[150,175], \"min_samples_split\":[5,10]}\\ngrid_search = GridSearchCV(model, param_grid=param_grid, cv=2, scoring=\"recall\")\\ngrid_search.fit(X_train, y_train)\\nprint(grid_search.best_params_)\\nprint(grid_search.best_score_)\\n'"
            ],
            "application/vnd.google.colaboratory.intrinsic+json": {
              "type": "string"
            }
          },
          "metadata": {},
          "execution_count": 378
        }
      ]
    },
    {
      "cell_type": "code",
      "source": [
        "model = RandomForestClassifier(n_estimators = 150, min_samples_split=5, random_state=1, bootstrap=False)\n",
        "model.fit(X_train, y_train)\n",
        "\n",
        "\n",
        "y_pred_RF =  model.predict(X_test)\n",
        "accuracyRF = accuracy_score(y_test, y_pred_RF)\n",
        "\n",
        "\n",
        "print(\"Accuracy:\", accuracyRF)\n",
        "\n",
        "print(\"Recall Score : \",recall_score(y_test, y_pred_RF,\n",
        "                                           pos_label='positive',\n",
        "                                           average='macro'))"
      ],
      "metadata": {
        "colab": {
          "base_uri": "https://localhost:8080/"
        },
        "id": "Qk8cGmNg-Cvw",
        "outputId": "d0f9d42b-5610-420f-936f-7be91cbd35a3"
      },
      "execution_count": 379,
      "outputs": [
        {
          "output_type": "stream",
          "name": "stderr",
          "text": [
            "/usr/local/lib/python3.10/dist-packages/sklearn/base.py:1152: DataConversionWarning: A column-vector y was passed when a 1d array was expected. Please change the shape of y to (n_samples,), for example using ravel().\n",
            "  return fit_method(estimator, *args, **kwargs)\n"
          ]
        },
        {
          "output_type": "stream",
          "name": "stdout",
          "text": [
            "Accuracy: 0.9120226566782387\n",
            "Recall Score :  0.9028101631233939\n"
          ]
        },
        {
          "output_type": "stream",
          "name": "stderr",
          "text": [
            "/usr/local/lib/python3.10/dist-packages/sklearn/metrics/_classification.py:1523: UserWarning: Note that pos_label (set to 'positive') is ignored when average != 'binary' (got 'macro'). You may use labels=[pos_label] to specify a single positive class.\n",
            "  warnings.warn(\n"
          ]
        }
      ]
    },
    {
      "cell_type": "code",
      "source": [
        "accuracy.append(accuracyRF)"
      ],
      "metadata": {
        "id": "gQYGkcz7R8Eu"
      },
      "execution_count": null,
      "outputs": []
    },
    {
      "cell_type": "code",
      "source": [
        "confusion_matrix_RF = confusion_matrix(y_test, y_pred_RF, normalize='true')\n",
        "\n",
        "cm_display = metrics.ConfusionMatrixDisplay(confusion_matrix  = confusion_matrix_RF,\n",
        "                                            display_labels = [\"Normal\", \"Supraventricular\", \"Ventricular\", \"Fusion\", \"Unknown\"])\n",
        "cm_display.plot()\n",
        "plt.title(\"Random Forest Confusion Matrix\")\n",
        "plt.show()"
      ],
      "metadata": {
        "colab": {
          "base_uri": "https://localhost:8080/",
          "height": 472
        },
        "id": "gjtLCBBdx6aL",
        "outputId": "11f940eb-b3b9-4a4b-d45e-3673ee800e55"
      },
      "execution_count": 380,
      "outputs": [
        {
          "output_type": "display_data",
          "data": {
            "text/plain": [
              "<Figure size 640x480 with 2 Axes>"
            ],
            "image/png": "[encoded data removed]"
          },
          "metadata": {}
        }
      ]
    },
    {
      "cell_type": "markdown",
      "source": [
        "#### *ADA Boosting*"
      ],
      "metadata": {
        "id": "KLfB85mR9XG9"
      }
    },
    {
      "cell_type": "code",
      "source": [
        "# Create adaboost classifer object\n",
        "abc = AdaBoostClassifier(n_estimators=50, learning_rate=1)\n",
        "# Train Adaboost Classifer\n",
        "model = abc.fit(X_train, y_train)\n",
        "\n",
        "#Predict the response for test dataset\n",
        "y_pred_ADA = model.predict(X_test)\n",
        "\n",
        "accuracyADA = metrics.accuracy_score(y_test, y_pred_ADA)\n",
        "\n",
        "# Model Accuracy, how often is the classifier correct?\n",
        "print(\"Accuracy:\",accuracyADA)\n",
        "\n",
        "print(\"Recall Score : \",recall_score(y_test, y_pred_ADA,\n",
        "                                           pos_label='positive',\n",
        "                                           average='macro'))"
      ],
      "metadata": {
        "colab": {
          "base_uri": "https://localhost:8080/"
        },
        "id": "AwoHM-qOu8p7",
        "outputId": "185ff7e2-6a1e-45fb-dd38-2481b94b3136"
      },
      "execution_count": 381,
      "outputs": [
        {
          "output_type": "stream",
          "name": "stderr",
          "text": [
            "/usr/local/lib/python3.10/dist-packages/sklearn/utils/validation.py:1183: DataConversionWarning: A column-vector y was passed when a 1d array was expected. Please change the shape of y to (n_samples, ), for example using ravel().\n",
            "  y = column_or_1d(y, warn=True)\n"
          ]
        },
        {
          "output_type": "stream",
          "name": "stdout",
          "text": [
            "Accuracy: 0.4166362141421524\n",
            "Recall Score :  0.6618071766537754\n"
          ]
        },
        {
          "output_type": "stream",
          "name": "stderr",
          "text": [
            "/usr/local/lib/python3.10/dist-packages/sklearn/metrics/_classification.py:1523: UserWarning: Note that pos_label (set to 'positive') is ignored when average != 'binary' (got 'macro'). You may use labels=[pos_label] to specify a single positive class.\n",
            "  warnings.warn(\n"
          ]
        }
      ]
    },
    {
      "cell_type": "code",
      "source": [
        "accuracy.append(accuracyADA)"
      ],
      "metadata": {
        "id": "xAOewbDSR_GG"
      },
      "execution_count": null,
      "outputs": []
    },
    {
      "cell_type": "code",
      "source": [
        "confusion_matrix_ADA = confusion_matrix(y_test, y_pred_ADA, normalize='true')\n",
        "\n",
        "cm_display = metrics.ConfusionMatrixDisplay(confusion_matrix  = confusion_matrix_ADA, display_labels = [0, 1, 2, 3, 4])\n",
        "cm_display.plot()\n",
        "plt.title(\"ADA Boosting Confusion Matrix\")\n",
        "plt.show()"
      ],
      "metadata": {
        "colab": {
          "base_uri": "https://localhost:8080/",
          "height": 472
        },
        "id": "jLCnEOEkvkVn",
        "outputId": "2cdad9ed-793f-40a4-a709-19f3c0ab5740"
      },
      "execution_count": 382,
      "outputs": [
        {
          "output_type": "display_data",
          "data": {
            "text/plain": [
              "<Figure size 640x480 with 2 Axes>"
            ],
            "image/png": "[encoded data removed]"
          },
          "metadata": {}
        }
      ]
    },
    {
      "cell_type": "code",
      "source": [
        "from sklearn.ensemble import AdaBoostClassifier\n",
        "from sklearn.tree import DecisionTreeClassifier\n",
        "\n",
        "weak_learner = DecisionTreeClassifier(max_leaf_nodes=8)\n",
        "n_estimators = 300\n",
        "\n",
        "adaboost_clf = AdaBoostClassifier(\n",
        "    estimator=weak_learner,\n",
        "    n_estimators=n_estimators,\n",
        "    algorithm=\"SAMME\",\n",
        "    random_state=42,\n",
        ").fit(X_train, y_train)"
      ],
      "metadata": {
        "colab": {
          "base_uri": "https://localhost:8080/"
        },
        "id": "atgSNmjNTrhY",
        "outputId": "f2047c6b-ec97-49b1-c2f0-e230f1540e62"
      },
      "execution_count": 383,
      "outputs": [
        {
          "output_type": "stream",
          "name": "stderr",
          "text": [
            "/usr/local/lib/python3.10/dist-packages/sklearn/utils/validation.py:1183: DataConversionWarning: A column-vector y was passed when a 1d array was expected. Please change the shape of y to (n_samples, ), for example using ravel().\n",
            "  y = column_or_1d(y, warn=True)\n"
          ]
        }
      ]
    },
    {
      "cell_type": "code",
      "source": [
        "def misclassification_error(y_true, y_pred):\n",
        "    return 1 - accuracy_score(y_true, y_pred)\n",
        "\n",
        "\n",
        "weak_learners_misclassification_error = misclassification_error(\n",
        "    y_test, weak_learner.fit(X_train, y_train).predict(X_test))\n",
        "\n",
        "\n",
        "print(\n",
        "    \"DecisionTreeClassifier's misclassification_error: \"\n",
        "    f\"{weak_learners_misclassification_error:.3f}\"\n",
        ")"
      ],
      "metadata": {
        "colab": {
          "base_uri": "https://localhost:8080/"
        },
        "id": "ABfPvQ6ETmO2",
        "outputId": "7f05c898-fa97-438a-d496-07abe306cc41"
      },
      "execution_count": 384,
      "outputs": [
        {
          "output_type": "stream",
          "name": "stdout",
          "text": [
            "DecisionTreeClassifier's misclassification_error: 0.402\n"
          ]
        }
      ]
    },
    {
      "cell_type": "code",
      "source": [
        "boosting_errors = pd.DataFrame(\n",
        "    {\n",
        "        \"Number of trees\": range(1, n_estimators + 1),\n",
        "        \"AdaBoost\": [\n",
        "            misclassification_error(y_test, y_pred)\n",
        "            for y_pred in adaboost_clf.staged_predict(X_test)\n",
        "        ],\n",
        "    }\n",
        ").set_index(\"Number of trees\")\n",
        "ax = boosting_errors.plot()\n",
        "ax.set_ylabel(\"Misclassification error on test set\")\n",
        "ax.set_title(\"Convergence of AdaBoost algorithm\")\n",
        "plt.plot(\n",
        "    [boosting_errors.index.min(), boosting_errors.index.max()],\n",
        "    [weak_learners_misclassification_error, weak_learners_misclassification_error],\n",
        "    color=\"tab:orange\",\n",
        "    linestyle=\"dashed\",\n",
        ")\n",
        "plt.legend([\"AdaBoost\", \"DecisionTreeClassifier\"], loc=1)\n",
        "plt.show()"
      ],
      "metadata": {
        "colab": {
          "base_uri": "https://localhost:8080/",
          "height": 472
        },
        "id": "Zt8xRecO4W5l",
        "outputId": "bec2d549-addc-45e6-a5eb-d437a501368f"
      },
      "execution_count": 385,
      "outputs": [
        {
          "output_type": "display_data",
          "data": {
            "text/plain": [
              "<Figure size 640x480 with 1 Axes>"
            ],
            "image/png": "[encoded data removed]"
          },
          "metadata": {}
        }
      ]
    },
    {
      "cell_type": "code",
      "source": [
        "weak_learners_info = pd.DataFrame(\n",
        "    {\n",
        "        \"Number of trees\": range(1, n_estimators + 1),\n",
        "        \"Errors\": adaboost_clf.estimator_errors_,\n",
        "        \"Weights\": adaboost_clf.estimator_weights_,\n",
        "    }\n",
        ").set_index(\"Number of trees\")\n",
        "\n",
        "axs = weak_learners_info.plot(\n",
        "    subplots=True, layout=(1, 2), figsize=(10, 4), legend=False, color=\"purple\"\n",
        ")\n",
        "axs[0, 0].set_ylabel(\"Train error\")\n",
        "axs[0, 0].set_title(\"Weak learner's training error\")\n",
        "axs[0, 1].set_ylabel(\"Weight\")\n",
        "axs[0, 1].set_title(\"Weak learner's weight\")\n",
        "fig = axs[0, 0].get_figure()\n",
        "fig.suptitle(\"Weak learner's errors and weights for the AdaBoostClassifier\")\n",
        "fig.tight_layout()"
      ],
      "metadata": {
        "colab": {
          "base_uri": "https://localhost:8080/",
          "height": 360
        },
        "id": "573PHdOqUkHk",
        "outputId": "d3995b92-6980-43fb-ff5b-5f16f0fe0ccd"
      },
      "execution_count": 386,
      "outputs": [
        {
          "output_type": "display_data",
          "data": {
            "text/plain": [
              "<Figure size 1000x400 with 2 Axes>"
            ],
            "image/png": "[encoded data removed]"
          },
          "metadata": {}
        }
      ]
    },
    {
      "cell_type": "markdown",
      "source": [
        "#### *XGBoost*"
      ],
      "metadata": {
        "id": "8JOK6d_1xDsR"
      }
    },
    {
      "cell_type": "code",
      "source": [
        "model = XGBClassifier()\n",
        "model.fit(X_train, y_train)\n",
        "y_pred_XGB = model.predict(X_test)\n",
        "accuracy_XGB = accuracy_score(y_test, y_pred_XGB)\n",
        "print(\"Accuracy: %.2f%%\" % (accuracy_XGB * 100.0))"
      ],
      "metadata": {
        "id": "IfDnpUKzxIht",
        "outputId": "7e384219-ed0d-4391-bc9b-e231ed96f025",
        "colab": {
          "base_uri": "https://localhost:8080/"
        }
      },
      "execution_count": 387,
      "outputs": [
        {
          "output_type": "stream",
          "name": "stdout",
          "text": [
            "Accuracy: 90.17%\n"
          ]
        }
      ]
    },
    {
      "cell_type": "code",
      "source": [
        "dtrain = xgb.DMatrix(X_train, label=y_train)\n",
        "dtest = xgb.DMatrix(X_test, label=y_test)\n",
        "mean_train = np.mean(y_train)\n",
        "# Get predictions on the test set\n",
        "baseline_predictions = np.ones(y_test.shape) * mean_train\n",
        "# Compute MAE\n",
        "mae_baseline = mean_absolute_error(y_test, baseline_predictions)\n",
        "print(\"Baseline MAE is {:.2f}\".format(mae_baseline))"
      ],
      "metadata": {
        "id": "MpuEqmn4zLPe",
        "outputId": "11c19ca7-5fb4-490e-8eca-c6291dc0d791",
        "colab": {
          "base_uri": "https://localhost:8080/"
        }
      },
      "execution_count": 401,
      "outputs": [
        {
          "output_type": "stream",
          "name": "stdout",
          "text": [
            "Baseline MAE is 1.85\n"
          ]
        }
      ]
    },
    {
      "cell_type": "code",
      "source": [
        "params = {\n",
        "    # Parameters that we are going to tune.\n",
        "    'max_depth':6,\n",
        "    'min_child_weight': 1,\n",
        "    'eta':.3,\n",
        "    'subsample': 1,\n",
        "    'colsample_bytree': 1,\n",
        "    # Other parameters\n",
        "    'objective':'reg:squarederror',\n",
        "}"
      ],
      "metadata": {
        "id": "N1sYc1nuzbOR"
      },
      "execution_count": 427,
      "outputs": []
    },
    {
      "cell_type": "code",
      "source": [
        "params['eval_metric'] = \"mae\"\n",
        "num_boost_round = 999"
      ],
      "metadata": {
        "id": "DIOjhIMCzYgc"
      },
      "execution_count": 428,
      "outputs": []
    },
    {
      "cell_type": "code",
      "source": [
        "model = xgb.train(params, dtrain, num_boost_round=num_boost_round,\n",
        "    evals=[(dtest, \"Test\")],\n",
        "    early_stopping_rounds=10)\n",
        "\n",
        "print(\"Best MAE: {:.2f} with {} rounds\".format(\n",
        "                 model.best_score,\n",
        "                 model.best_iteration+1))"
      ],
      "metadata": {
        "id": "3KvC0vo7zlQR",
        "outputId": "9f9acebd-9cc0-446e-e660-32d0c764b446",
        "colab": {
          "base_uri": "https://localhost:8080/"
        }
      },
      "execution_count": 404,
      "outputs": [
        {
          "output_type": "stream",
          "name": "stderr",
          "text": [
            "/usr/local/lib/python3.10/dist-packages/xgboost/core.py:158: UserWarning: [20:56:26] WARNING: /workspace/src/objective/regression_obj.cu:227: reg:linear is now deprecated in favor of reg:squarederror.\n",
            "  warnings.warn(smsg, UserWarning)\n"
          ]
        },
        {
          "output_type": "stream",
          "name": "stdout",
          "text": [
            "[0]\tTest-mae:1.52041\n",
            "[1]\tTest-mae:1.30724\n",
            "[2]\tTest-mae:1.13373\n",
            "[3]\tTest-mae:0.99219\n",
            "[4]\tTest-mae:0.89884\n",
            "[5]\tTest-mae:0.83239\n",
            "[6]\tTest-mae:0.77641\n",
            "[7]\tTest-mae:0.72257\n",
            "[8]\tTest-mae:0.68661\n",
            "[9]\tTest-mae:0.65518\n",
            "[10]\tTest-mae:0.63992\n",
            "[11]\tTest-mae:0.63412\n",
            "[12]\tTest-mae:0.62313\n",
            "[13]\tTest-mae:0.61151\n",
            "[14]\tTest-mae:0.60592\n",
            "[15]\tTest-mae:0.60113\n",
            "[16]\tTest-mae:0.59587\n",
            "[17]\tTest-mae:0.58773\n",
            "[18]\tTest-mae:0.58447\n",
            "[19]\tTest-mae:0.57658\n",
            "[20]\tTest-mae:0.57032\n",
            "[21]\tTest-mae:0.56900\n",
            "[22]\tTest-mae:0.56376\n",
            "[23]\tTest-mae:0.56166\n",
            "[24]\tTest-mae:0.56055\n",
            "[25]\tTest-mae:0.55919\n",
            "[26]\tTest-mae:0.55454\n",
            "[27]\tTest-mae:0.55310\n",
            "[28]\tTest-mae:0.55141\n",
            "[29]\tTest-mae:0.55048\n",
            "[30]\tTest-mae:0.54945\n",
            "[31]\tTest-mae:0.54900\n",
            "[32]\tTest-mae:0.54887\n",
            "[33]\tTest-mae:0.54863\n",
            "[34]\tTest-mae:0.54746\n",
            "[35]\tTest-mae:0.54603\n",
            "[36]\tTest-mae:0.54383\n",
            "[37]\tTest-mae:0.54191\n",
            "[38]\tTest-mae:0.54105\n",
            "[39]\tTest-mae:0.54029\n",
            "[40]\tTest-mae:0.53867\n",
            "[41]\tTest-mae:0.53805\n",
            "[42]\tTest-mae:0.53769\n",
            "[43]\tTest-mae:0.53678\n",
            "[44]\tTest-mae:0.53639\n",
            "[45]\tTest-mae:0.53391\n",
            "[46]\tTest-mae:0.53305\n",
            "[47]\tTest-mae:0.53091\n",
            "[48]\tTest-mae:0.52932\n",
            "[49]\tTest-mae:0.52905\n",
            "[50]\tTest-mae:0.52844\n",
            "[51]\tTest-mae:0.52783\n",
            "[52]\tTest-mae:0.52764\n",
            "[53]\tTest-mae:0.52687\n",
            "[54]\tTest-mae:0.52708\n",
            "[55]\tTest-mae:0.52753\n",
            "[56]\tTest-mae:0.52618\n",
            "[57]\tTest-mae:0.52563\n",
            "[58]\tTest-mae:0.52473\n",
            "[59]\tTest-mae:0.52374\n",
            "[60]\tTest-mae:0.52311\n",
            "[61]\tTest-mae:0.52322\n",
            "[62]\tTest-mae:0.52136\n",
            "[63]\tTest-mae:0.52126\n",
            "[64]\tTest-mae:0.52061\n",
            "[65]\tTest-mae:0.51949\n",
            "[66]\tTest-mae:0.51920\n",
            "[67]\tTest-mae:0.51868\n",
            "[68]\tTest-mae:0.51910\n",
            "[69]\tTest-mae:0.51849\n",
            "[70]\tTest-mae:0.51761\n",
            "[71]\tTest-mae:0.51762\n",
            "[72]\tTest-mae:0.51707\n",
            "[73]\tTest-mae:0.51675\n",
            "[74]\tTest-mae:0.51667\n",
            "[75]\tTest-mae:0.51615\n",
            "[76]\tTest-mae:0.51596\n",
            "[77]\tTest-mae:0.51533\n",
            "[78]\tTest-mae:0.51425\n",
            "[79]\tTest-mae:0.51423\n",
            "[80]\tTest-mae:0.51341\n",
            "[81]\tTest-mae:0.51324\n",
            "[82]\tTest-mae:0.51319\n",
            "[83]\tTest-mae:0.51285\n",
            "[84]\tTest-mae:0.51277\n",
            "[85]\tTest-mae:0.51250\n",
            "[86]\tTest-mae:0.51245\n",
            "[87]\tTest-mae:0.51213\n",
            "[88]\tTest-mae:0.51200\n",
            "[89]\tTest-mae:0.51159\n",
            "[90]\tTest-mae:0.51135\n",
            "[91]\tTest-mae:0.51074\n",
            "[92]\tTest-mae:0.51037\n",
            "[93]\tTest-mae:0.51022\n",
            "[94]\tTest-mae:0.50986\n",
            "[95]\tTest-mae:0.50988\n",
            "[96]\tTest-mae:0.50967\n",
            "[97]\tTest-mae:0.50925\n",
            "[98]\tTest-mae:0.50915\n",
            "[99]\tTest-mae:0.50874\n",
            "[100]\tTest-mae:0.50857\n",
            "[101]\tTest-mae:0.50828\n",
            "[102]\tTest-mae:0.50835\n",
            "[103]\tTest-mae:0.50821\n",
            "[104]\tTest-mae:0.50833\n",
            "[105]\tTest-mae:0.50818\n",
            "[106]\tTest-mae:0.50807\n",
            "[107]\tTest-mae:0.50816\n",
            "[108]\tTest-mae:0.50788\n",
            "[109]\tTest-mae:0.50782\n",
            "[110]\tTest-mae:0.50778\n",
            "[111]\tTest-mae:0.50774\n",
            "[112]\tTest-mae:0.50745\n",
            "[113]\tTest-mae:0.50722\n",
            "[114]\tTest-mae:0.50701\n",
            "[115]\tTest-mae:0.50696\n",
            "[116]\tTest-mae:0.50688\n",
            "[117]\tTest-mae:0.50685\n",
            "[118]\tTest-mae:0.50683\n",
            "[119]\tTest-mae:0.50677\n",
            "[120]\tTest-mae:0.50674\n",
            "[121]\tTest-mae:0.50627\n",
            "[122]\tTest-mae:0.50629\n",
            "[123]\tTest-mae:0.50618\n",
            "[124]\tTest-mae:0.50608\n",
            "[125]\tTest-mae:0.50586\n",
            "[126]\tTest-mae:0.50567\n",
            "[127]\tTest-mae:0.50528\n",
            "[128]\tTest-mae:0.50531\n",
            "[129]\tTest-mae:0.50525\n",
            "[130]\tTest-mae:0.50491\n",
            "[131]\tTest-mae:0.50497\n",
            "[132]\tTest-mae:0.50473\n",
            "[133]\tTest-mae:0.50463\n",
            "[134]\tTest-mae:0.50443\n",
            "[135]\tTest-mae:0.50450\n",
            "[136]\tTest-mae:0.50433\n",
            "[137]\tTest-mae:0.50432\n",
            "[138]\tTest-mae:0.50445\n",
            "[139]\tTest-mae:0.50418\n",
            "[140]\tTest-mae:0.50379\n",
            "[141]\tTest-mae:0.50363\n",
            "[142]\tTest-mae:0.50350\n",
            "[143]\tTest-mae:0.50350\n",
            "[144]\tTest-mae:0.50352\n",
            "[145]\tTest-mae:0.50338\n",
            "[146]\tTest-mae:0.50334\n",
            "[147]\tTest-mae:0.50333\n",
            "[148]\tTest-mae:0.50321\n",
            "[149]\tTest-mae:0.50322\n",
            "[150]\tTest-mae:0.50325\n",
            "[151]\tTest-mae:0.50313\n",
            "[152]\tTest-mae:0.50307\n",
            "[153]\tTest-mae:0.50311\n",
            "[154]\tTest-mae:0.50296\n",
            "[155]\tTest-mae:0.50302\n",
            "[156]\tTest-mae:0.50292\n",
            "[157]\tTest-mae:0.50289\n",
            "[158]\tTest-mae:0.50286\n",
            "[159]\tTest-mae:0.50289\n",
            "[160]\tTest-mae:0.50285\n",
            "[161]\tTest-mae:0.50284\n",
            "[162]\tTest-mae:0.50274\n",
            "[163]\tTest-mae:0.50270\n",
            "[164]\tTest-mae:0.50266\n",
            "[165]\tTest-mae:0.50255\n",
            "[166]\tTest-mae:0.50248\n",
            "[167]\tTest-mae:0.50238\n",
            "[168]\tTest-mae:0.50236\n",
            "[169]\tTest-mae:0.50234\n",
            "[170]\tTest-mae:0.50244\n",
            "[171]\tTest-mae:0.50235\n",
            "[172]\tTest-mae:0.50235\n",
            "[173]\tTest-mae:0.50225\n",
            "[174]\tTest-mae:0.50223\n",
            "[175]\tTest-mae:0.50224\n",
            "[176]\tTest-mae:0.50225\n",
            "[177]\tTest-mae:0.50216\n",
            "[178]\tTest-mae:0.50205\n",
            "[179]\tTest-mae:0.50192\n",
            "[180]\tTest-mae:0.50185\n",
            "[181]\tTest-mae:0.50174\n",
            "[182]\tTest-mae:0.50171\n",
            "[183]\tTest-mae:0.50173\n",
            "[184]\tTest-mae:0.50178\n",
            "[185]\tTest-mae:0.50171\n",
            "[186]\tTest-mae:0.50153\n",
            "[187]\tTest-mae:0.50167\n",
            "[188]\tTest-mae:0.50165\n",
            "[189]\tTest-mae:0.50170\n",
            "[190]\tTest-mae:0.50168\n",
            "[191]\tTest-mae:0.50165\n",
            "[192]\tTest-mae:0.50163\n",
            "[193]\tTest-mae:0.50163\n",
            "[194]\tTest-mae:0.50159\n",
            "[195]\tTest-mae:0.50157\n",
            "[196]\tTest-mae:0.50149\n",
            "[197]\tTest-mae:0.50149\n",
            "[198]\tTest-mae:0.50149\n",
            "[199]\tTest-mae:0.50138\n",
            "[200]\tTest-mae:0.50135\n",
            "[201]\tTest-mae:0.50130\n",
            "[202]\tTest-mae:0.50128\n",
            "[203]\tTest-mae:0.50129\n",
            "[204]\tTest-mae:0.50130\n",
            "[205]\tTest-mae:0.50124\n",
            "[206]\tTest-mae:0.50114\n",
            "[207]\tTest-mae:0.50116\n",
            "[208]\tTest-mae:0.50118\n",
            "[209]\tTest-mae:0.50118\n",
            "[210]\tTest-mae:0.50119\n",
            "[211]\tTest-mae:0.50119\n",
            "[212]\tTest-mae:0.50114\n",
            "[213]\tTest-mae:0.50116\n",
            "[214]\tTest-mae:0.50118\n",
            "[215]\tTest-mae:0.50116\n",
            "[216]\tTest-mae:0.50117\n",
            "[217]\tTest-mae:0.50112\n",
            "[218]\tTest-mae:0.50110\n",
            "[219]\tTest-mae:0.50104\n",
            "[220]\tTest-mae:0.50100\n",
            "[221]\tTest-mae:0.50085\n",
            "[222]\tTest-mae:0.50080\n",
            "[223]\tTest-mae:0.50070\n",
            "[224]\tTest-mae:0.50069\n",
            "[225]\tTest-mae:0.50066\n",
            "[226]\tTest-mae:0.50060\n",
            "[227]\tTest-mae:0.50051\n",
            "[228]\tTest-mae:0.50045\n",
            "[229]\tTest-mae:0.50043\n",
            "[230]\tTest-mae:0.50035\n",
            "[231]\tTest-mae:0.50038\n",
            "[232]\tTest-mae:0.50037\n",
            "[233]\tTest-mae:0.50040\n",
            "[234]\tTest-mae:0.50037\n",
            "[235]\tTest-mae:0.50039\n",
            "[236]\tTest-mae:0.50037\n",
            "[237]\tTest-mae:0.50032\n",
            "[238]\tTest-mae:0.50028\n",
            "[239]\tTest-mae:0.50025\n",
            "[240]\tTest-mae:0.50028\n",
            "[241]\tTest-mae:0.50027\n",
            "[242]\tTest-mae:0.50023\n",
            "[243]\tTest-mae:0.50020\n",
            "[244]\tTest-mae:0.50021\n",
            "[245]\tTest-mae:0.50021\n",
            "[246]\tTest-mae:0.50016\n",
            "[247]\tTest-mae:0.50017\n",
            "[248]\tTest-mae:0.50016\n",
            "[249]\tTest-mae:0.50015\n",
            "[250]\tTest-mae:0.50015\n",
            "[251]\tTest-mae:0.50011\n",
            "[252]\tTest-mae:0.50007\n",
            "[253]\tTest-mae:0.50000\n",
            "[254]\tTest-mae:0.50001\n",
            "[255]\tTest-mae:0.50000\n",
            "[256]\tTest-mae:0.50002\n",
            "[257]\tTest-mae:0.50006\n",
            "[258]\tTest-mae:0.50005\n",
            "[259]\tTest-mae:0.50001\n",
            "[260]\tTest-mae:0.49994\n",
            "[261]\tTest-mae:0.49995\n",
            "[262]\tTest-mae:0.49995\n",
            "[263]\tTest-mae:0.49994\n",
            "[264]\tTest-mae:0.49989\n",
            "[265]\tTest-mae:0.49984\n",
            "[266]\tTest-mae:0.49978\n",
            "[267]\tTest-mae:0.49978\n",
            "[268]\tTest-mae:0.49977\n",
            "[269]\tTest-mae:0.49977\n",
            "[270]\tTest-mae:0.49982\n",
            "[271]\tTest-mae:0.49979\n",
            "[272]\tTest-mae:0.49979\n",
            "[273]\tTest-mae:0.49981\n",
            "[274]\tTest-mae:0.49980\n",
            "[275]\tTest-mae:0.49978\n",
            "[276]\tTest-mae:0.49979\n",
            "[277]\tTest-mae:0.49977\n",
            "[278]\tTest-mae:0.49976\n",
            "[279]\tTest-mae:0.49975\n",
            "[280]\tTest-mae:0.49973\n",
            "[281]\tTest-mae:0.49971\n",
            "[282]\tTest-mae:0.49971\n",
            "[283]\tTest-mae:0.49971\n",
            "[284]\tTest-mae:0.49970\n",
            "[285]\tTest-mae:0.49970\n",
            "[286]\tTest-mae:0.49971\n",
            "[287]\tTest-mae:0.49971\n",
            "[288]\tTest-mae:0.49969\n",
            "[289]\tTest-mae:0.49972\n",
            "[290]\tTest-mae:0.49973\n",
            "[291]\tTest-mae:0.49973\n",
            "[292]\tTest-mae:0.49970\n",
            "[293]\tTest-mae:0.49972\n",
            "[294]\tTest-mae:0.49971\n",
            "[295]\tTest-mae:0.49971\n",
            "[296]\tTest-mae:0.49971\n",
            "[297]\tTest-mae:0.49970\n",
            "[298]\tTest-mae:0.49968\n",
            "[299]\tTest-mae:0.49968\n",
            "[300]\tTest-mae:0.49967\n",
            "[301]\tTest-mae:0.49961\n",
            "[302]\tTest-mae:0.49955\n",
            "[303]\tTest-mae:0.49954\n",
            "[304]\tTest-mae:0.49954\n",
            "[305]\tTest-mae:0.49952\n",
            "[306]\tTest-mae:0.49954\n",
            "[307]\tTest-mae:0.49956\n",
            "[308]\tTest-mae:0.49953\n",
            "[309]\tTest-mae:0.49951\n",
            "[310]\tTest-mae:0.49950\n",
            "[311]\tTest-mae:0.49950\n",
            "[312]\tTest-mae:0.49950\n",
            "[313]\tTest-mae:0.49951\n",
            "[314]\tTest-mae:0.49950\n",
            "[315]\tTest-mae:0.49949\n",
            "[316]\tTest-mae:0.49944\n",
            "[317]\tTest-mae:0.49943\n",
            "[318]\tTest-mae:0.49943\n",
            "[319]\tTest-mae:0.49943\n",
            "[320]\tTest-mae:0.49943\n",
            "[321]\tTest-mae:0.49943\n",
            "[322]\tTest-mae:0.49943\n",
            "[323]\tTest-mae:0.49940\n",
            "[324]\tTest-mae:0.49938\n",
            "[325]\tTest-mae:0.49939\n",
            "[326]\tTest-mae:0.49941\n",
            "[327]\tTest-mae:0.49940\n",
            "[328]\tTest-mae:0.49939\n",
            "[329]\tTest-mae:0.49937\n",
            "[330]\tTest-mae:0.49936\n",
            "[331]\tTest-mae:0.49933\n",
            "[332]\tTest-mae:0.49932\n",
            "[333]\tTest-mae:0.49931\n",
            "[334]\tTest-mae:0.49930\n",
            "[335]\tTest-mae:0.49929\n",
            "[336]\tTest-mae:0.49931\n",
            "[337]\tTest-mae:0.49929\n",
            "[338]\tTest-mae:0.49928\n",
            "[339]\tTest-mae:0.49927\n",
            "[340]\tTest-mae:0.49925\n",
            "[341]\tTest-mae:0.49927\n",
            "[342]\tTest-mae:0.49927\n",
            "[343]\tTest-mae:0.49925\n",
            "[344]\tTest-mae:0.49926\n",
            "[345]\tTest-mae:0.49925\n",
            "[346]\tTest-mae:0.49924\n",
            "[347]\tTest-mae:0.49925\n",
            "[348]\tTest-mae:0.49925\n",
            "[349]\tTest-mae:0.49926\n",
            "[350]\tTest-mae:0.49925\n",
            "[351]\tTest-mae:0.49925\n",
            "[352]\tTest-mae:0.49923\n",
            "[353]\tTest-mae:0.49922\n",
            "[354]\tTest-mae:0.49922\n",
            "[355]\tTest-mae:0.49921\n",
            "[356]\tTest-mae:0.49921\n",
            "[357]\tTest-mae:0.49919\n",
            "[358]\tTest-mae:0.49915\n",
            "[359]\tTest-mae:0.49915\n",
            "[360]\tTest-mae:0.49914\n",
            "[361]\tTest-mae:0.49914\n",
            "[362]\tTest-mae:0.49915\n",
            "[363]\tTest-mae:0.49916\n",
            "[364]\tTest-mae:0.49916\n",
            "[365]\tTest-mae:0.49915\n",
            "[366]\tTest-mae:0.49914\n",
            "[367]\tTest-mae:0.49914\n",
            "[368]\tTest-mae:0.49914\n",
            "[369]\tTest-mae:0.49914\n",
            "[370]\tTest-mae:0.49913\n",
            "[371]\tTest-mae:0.49912\n",
            "[372]\tTest-mae:0.49911\n",
            "[373]\tTest-mae:0.49910\n",
            "[374]\tTest-mae:0.49909\n",
            "[375]\tTest-mae:0.49908\n",
            "[376]\tTest-mae:0.49907\n",
            "[377]\tTest-mae:0.49907\n",
            "[378]\tTest-mae:0.49907\n",
            "[379]\tTest-mae:0.49907\n",
            "[380]\tTest-mae:0.49907\n",
            "[381]\tTest-mae:0.49907\n",
            "[382]\tTest-mae:0.49907\n",
            "[383]\tTest-mae:0.49907\n",
            "[384]\tTest-mae:0.49907\n",
            "[385]\tTest-mae:0.49906\n",
            "[386]\tTest-mae:0.49905\n",
            "[387]\tTest-mae:0.49905\n",
            "[388]\tTest-mae:0.49905\n",
            "[389]\tTest-mae:0.49903\n",
            "[390]\tTest-mae:0.49902\n",
            "[391]\tTest-mae:0.49901\n",
            "[392]\tTest-mae:0.49901\n",
            "[393]\tTest-mae:0.49901\n",
            "[394]\tTest-mae:0.49900\n",
            "[395]\tTest-mae:0.49900\n",
            "[396]\tTest-mae:0.49900\n",
            "[397]\tTest-mae:0.49900\n",
            "[398]\tTest-mae:0.49900\n",
            "[399]\tTest-mae:0.49899\n",
            "[400]\tTest-mae:0.49901\n",
            "[401]\tTest-mae:0.49900\n",
            "[402]\tTest-mae:0.49899\n",
            "[403]\tTest-mae:0.49900\n",
            "[404]\tTest-mae:0.49899\n",
            "[405]\tTest-mae:0.49899\n",
            "[406]\tTest-mae:0.49898\n",
            "[407]\tTest-mae:0.49899\n",
            "[408]\tTest-mae:0.49898\n",
            "[409]\tTest-mae:0.49897\n",
            "[410]\tTest-mae:0.49897\n",
            "[411]\tTest-mae:0.49896\n",
            "[412]\tTest-mae:0.49896\n",
            "[413]\tTest-mae:0.49895\n",
            "[414]\tTest-mae:0.49895\n",
            "[415]\tTest-mae:0.49895\n",
            "[416]\tTest-mae:0.49895\n",
            "[417]\tTest-mae:0.49894\n",
            "[418]\tTest-mae:0.49894\n",
            "[419]\tTest-mae:0.49894\n",
            "[420]\tTest-mae:0.49893\n",
            "[421]\tTest-mae:0.49894\n",
            "[422]\tTest-mae:0.49894\n",
            "[423]\tTest-mae:0.49895\n",
            "[424]\tTest-mae:0.49895\n",
            "[425]\tTest-mae:0.49895\n",
            "[426]\tTest-mae:0.49896\n",
            "[427]\tTest-mae:0.49895\n",
            "[428]\tTest-mae:0.49895\n",
            "[429]\tTest-mae:0.49895\n",
            "Best MAE: 0.50 with 421 rounds\n"
          ]
        }
      ]
    },
    {
      "cell_type": "code",
      "source": [
        "cv_results = xgb.cv(\n",
        "    params,\n",
        "    dtrain,\n",
        "    num_boost_round=num_boost_round,\n",
        "    seed=42,\n",
        "    nfold=5,\n",
        "    metrics={'mae'},\n",
        "    early_stopping_rounds=10\n",
        ")\n",
        "cv_results"
      ],
      "metadata": {
        "id": "nE8EhDzy0Ki4",
        "outputId": "75c7247c-7b0e-4703-be5b-1ee78dfa49e8",
        "colab": {
          "base_uri": "https://localhost:8080/",
          "height": 582
        }
      },
      "execution_count": 405,
      "outputs": [
        {
          "output_type": "stream",
          "name": "stderr",
          "text": [
            "/usr/local/lib/python3.10/dist-packages/xgboost/core.py:158: UserWarning: [20:57:49] WARNING: /workspace/src/objective/regression_obj.cu:227: reg:linear is now deprecated in favor of reg:squarederror.\n",
            "  warnings.warn(smsg, UserWarning)\n",
            "/usr/local/lib/python3.10/dist-packages/xgboost/core.py:158: UserWarning: [20:57:50] WARNING: /workspace/src/objective/regression_obj.cu:227: reg:linear is now deprecated in favor of reg:squarederror.\n",
            "  warnings.warn(smsg, UserWarning)\n",
            "/usr/local/lib/python3.10/dist-packages/xgboost/core.py:158: UserWarning: [20:57:51] WARNING: /workspace/src/objective/regression_obj.cu:227: reg:linear is now deprecated in favor of reg:squarederror.\n",
            "  warnings.warn(smsg, UserWarning)\n",
            "/usr/local/lib/python3.10/dist-packages/xgboost/core.py:158: UserWarning: [20:57:52] WARNING: /workspace/src/objective/regression_obj.cu:227: reg:linear is now deprecated in favor of reg:squarederror.\n",
            "  warnings.warn(smsg, UserWarning)\n"
          ]
        },
        {
          "output_type": "execute_result",
          "data": {
            "text/plain": [
              "     train-mae-mean  train-mae-std  test-mae-mean  test-mae-std\n",
              "0          0.946599       0.007236       0.964425      0.017419\n",
              "1          0.755635       0.002115       0.787830      0.019254\n",
              "2          0.616345       0.006292       0.662520      0.021680\n",
              "3          0.517269       0.008452       0.574525      0.022752\n",
              "4          0.441753       0.012089       0.508436      0.024754\n",
              "..              ...            ...            ...           ...\n",
              "571        0.000662       0.000025       0.276013      0.015393\n",
              "572        0.000660       0.000022       0.276012      0.015392\n",
              "573        0.000659       0.000020       0.276012      0.015391\n",
              "574        0.000658       0.000017       0.276011      0.015389\n",
              "575        0.000656       0.000014       0.276010      0.015387\n",
              "\n",
              "[576 rows x 4 columns]"
            ],
            "text/html": [
              "\n",
              "  <div id=\"df-9efe8c8f-e39b-46f4-9eba-d242fb74fbae\" class=\"colab-df-container\">\n",
              "    <div>\n",
              "<style scoped>\n",
              "    .dataframe tbody tr th:only-of-type {\n",
              "        vertical-align: middle;\n",
              "    }\n",
              "\n",
              "    .dataframe tbody tr th {\n",
              "        vertical-align: top;\n",
              "    }\n",
              "\n",
              "    .dataframe thead th {\n",
              "        text-align: right;\n",
              "    }\n",
              "</style>\n",
              "<table border=\"1\" class=\"dataframe\">\n",
              "  <thead>\n",
              "    <tr style=\"text-align: right;\">\n",
              "      <th></th>\n",
              "      <th>train-mae-mean</th>\n",
              "      <th>train-mae-std</th>\n",
              "      <th>test-mae-mean</th>\n",
              "      <th>test-mae-std</th>\n",
              "    </tr>\n",
              "  </thead>\n",
              "  <tbody>\n",
              "    <tr>\n",
              "      <th>0</th>\n",
              "      <td>0.946599</td>\n",
              "      <td>0.007236</td>\n",
              "      <td>0.964425</td>\n",
              "      <td>0.017419</td>\n",
              "    </tr>\n",
              "    <tr>\n",
              "      <th>1</th>\n",
              "      <td>0.755635</td>\n",
              "      <td>0.002115</td>\n",
              "      <td>0.787830</td>\n",
              "      <td>0.019254</td>\n",
              "    </tr>\n",
              "    <tr>\n",
              "      <th>2</th>\n",
              "      <td>0.616345</td>\n",
              "      <td>0.006292</td>\n",
              "      <td>0.662520</td>\n",
              "      <td>0.021680</td>\n",
              "    </tr>\n",
              "    <tr>\n",
              "      <th>3</th>\n",
              "      <td>0.517269</td>\n",
              "      <td>0.008452</td>\n",
              "      <td>0.574525</td>\n",
              "      <td>0.022752</td>\n",
              "    </tr>\n",
              "    <tr>\n",
              "      <th>4</th>\n",
              "      <td>0.441753</td>\n",
              "      <td>0.012089</td>\n",
              "      <td>0.508436</td>\n",
              "      <td>0.024754</td>\n",
              "    </tr>\n",
              "    <tr>\n",
              "      <th>...</th>\n",
              "      <td>...</td>\n",
              "      <td>...</td>\n",
              "      <td>...</td>\n",
              "      <td>...</td>\n",
              "    </tr>\n",
              "    <tr>\n",
              "      <th>571</th>\n",
              "      <td>0.000662</td>\n",
              "      <td>0.000025</td>\n",
              "      <td>0.276013</td>\n",
              "      <td>0.015393</td>\n",
              "    </tr>\n",
              "    <tr>\n",
              "      <th>572</th>\n",
              "      <td>0.000660</td>\n",
              "      <td>0.000022</td>\n",
              "      <td>0.276012</td>\n",
              "      <td>0.015392</td>\n",
              "    </tr>\n",
              "    <tr>\n",
              "      <th>573</th>\n",
              "      <td>0.000659</td>\n",
              "      <td>0.000020</td>\n",
              "      <td>0.276012</td>\n",
              "      <td>0.015391</td>\n",
              "    </tr>\n",
              "    <tr>\n",
              "      <th>574</th>\n",
              "      <td>0.000658</td>\n",
              "      <td>0.000017</td>\n",
              "      <td>0.276011</td>\n",
              "      <td>0.015389</td>\n",
              "    </tr>\n",
              "    <tr>\n",
              "      <th>575</th>\n",
              "      <td>0.000656</td>\n",
              "      <td>0.000014</td>\n",
              "      <td>0.276010</td>\n",
              "      <td>0.015387</td>\n",
              "    </tr>\n",
              "  </tbody>\n",
              "</table>\n",
              "<p>576 rows × 4 columns</p>\n",
              "</div>\n",
              "    <div class=\"colab-df-buttons\">\n",
              "\n",
              "  <div class=\"colab-df-container\">\n",
              "    <button class=\"colab-df-convert\" onclick=\"convertToInteractive('df-9efe8c8f-e39b-46f4-9eba-d242fb74fbae')\"\n",
              "            title=\"Convert this dataframe to an interactive table.\"\n",
              "            style=\"display:none;\">\n",
              "\n",
              "  <svg xmlns=\"http://www.w3.org/2000/svg\" height=\"24px\" viewBox=\"0 -960 960 960\">\n",
              "    <path d=\"M120-120v-720h720v720H120Zm60-500h600v-160H180v160Zm220 220h160v-160H400v160Zm0 220h160v-160H400v160ZM180-400h160v-160H180v160Zm440 0h160v-160H620v160ZM180-180h160v-160H180v160Zm440 0h160v-160H620v160Z\"/>\n",
              "  </svg>\n",
              "    </button>\n",
              "\n",
              "  <style>\n",
              "    .colab-df-container {\n",
              "      display:flex;\n",
              "      gap: 12px;\n",
              "    }\n",
              "\n",
              "    .colab-df-convert {\n",
              "      background-color: #E8F0FE;\n",
              "      border: none;\n",
              "      border-radius: 50%;\n",
              "      cursor: pointer;\n",
              "      display: none;\n",
              "      fill: #1967D2;\n",
              "      height: 32px;\n",
              "      padding: 0 0 0 0;\n",
              "      width: 32px;\n",
              "    }\n",
              "\n",
              "    .colab-df-convert:hover {\n",
              "      background-color: #E2EBFA;\n",
              "      box-shadow: 0px 1px 2px rgba(60, 64, 67, 0.3), 0px 1px 3px 1px rgba(60, 64, 67, 0.15);\n",
              "      fill: #174EA6;\n",
              "    }\n",
              "\n",
              "    .colab-df-buttons div {\n",
              "      margin-bottom: 4px;\n",
              "    }\n",
              "\n",
              "    [theme=dark] .colab-df-convert {\n",
              "      background-color: #3B4455;\n",
              "      fill: #D2E3FC;\n",
              "    }\n",
              "\n",
              "    [theme=dark] .colab-df-convert:hover {\n",
              "      background-color: #434B5C;\n",
              "      box-shadow: 0px 1px 3px 1px rgba(0, 0, 0, 0.15);\n",
              "      filter: drop-shadow(0px 1px 2px rgba(0, 0, 0, 0.3));\n",
              "      fill: #FFFFFF;\n",
              "    }\n",
              "  </style>\n",
              "\n",
              "    <script>\n",
              "      const buttonEl =\n",
              "        document.querySelector('#df-9efe8c8f-e39b-46f4-9eba-d242fb74fbae button.colab-df-convert');\n",
              "      buttonEl.style.display =\n",
              "        google.colab.kernel.accessAllowed ? 'block' : 'none';\n",
              "\n",
              "      async function convertToInteractive(key) {\n",
              "        const element = document.querySelector('#df-9efe8c8f-e39b-46f4-9eba-d242fb74fbae');\n",
              "        const dataTable =\n",
              "          await google.colab.kernel.invokeFunction('convertToInteractive',\n",
              "                                                    [key], {});\n",
              "        if (!dataTable) return;\n",
              "\n",
              "        const docLinkHtml = 'Like what you see? Visit the ' +\n",
              "          '<a target=\"_blank\" href=https://colab.research.google.com/notebooks/data_table.ipynb>data table notebook</a>'\n",
              "          + ' to learn more about interactive tables.';\n",
              "        element.innerHTML = '';\n",
              "        dataTable['output_type'] = 'display_data';\n",
              "        await google.colab.output.renderOutput(dataTable, element);\n",
              "        const docLink = document.createElement('div');\n",
              "        docLink.innerHTML = docLinkHtml;\n",
              "        element.appendChild(docLink);\n",
              "      }\n",
              "    </script>\n",
              "  </div>\n",
              "\n",
              "\n",
              "<div id=\"df-5501a7f6-478e-4301-8a37-e4978d8f18f6\">\n",
              "  <button class=\"colab-df-quickchart\" onclick=\"quickchart('df-5501a7f6-478e-4301-8a37-e4978d8f18f6')\"\n",
              "            title=\"Suggest charts\"\n",
              "            style=\"display:none;\">\n",
              "\n",
              "<svg xmlns=\"http://www.w3.org/2000/svg\" height=\"24px\"viewBox=\"0 0 24 24\"\n",
              "     width=\"24px\">\n",
              "    <g>\n",
              "        <path d=\"M19 3H5c-1.1 0-2 .9-2 2v14c0 1.1.9 2 2 2h14c1.1 0 2-.9 2-2V5c0-1.1-.9-2-2-2zM9 17H7v-7h2v7zm4 0h-2V7h2v10zm4 0h-2v-4h2v4z\"/>\n",
              "    </g>\n",
              "</svg>\n",
              "  </button>\n",
              "\n",
              "<style>\n",
              "  .colab-df-quickchart {\n",
              "      --bg-color: #E8F0FE;\n",
              "      --fill-color: #1967D2;\n",
              "      --hover-bg-color: #E2EBFA;\n",
              "      --hover-fill-color: #174EA6;\n",
              "      --disabled-fill-color: #AAA;\n",
              "      --disabled-bg-color: #DDD;\n",
              "  }\n",
              "\n",
              "  [theme=dark] .colab-df-quickchart {\n",
              "      --bg-color: #3B4455;\n",
              "      --fill-color: #D2E3FC;\n",
              "      --hover-bg-color: #434B5C;\n",
              "      --hover-fill-color: #FFFFFF;\n",
              "      --disabled-bg-color: #3B4455;\n",
              "      --disabled-fill-color: #666;\n",
              "  }\n",
              "\n",
              "  .colab-df-quickchart {\n",
              "    background-color: var(--bg-color);\n",
              "    border: none;\n",
              "    border-radius: 50%;\n",
              "    cursor: pointer;\n",
              "    display: none;\n",
              "    fill: var(--fill-color);\n",
              "    height: 32px;\n",
              "    padding: 0;\n",
              "    width: 32px;\n",
              "  }\n",
              "\n",
              "  .colab-df-quickchart:hover {\n",
              "    background-color: var(--hover-bg-color);\n",
              "    box-shadow: 0 1px 2px rgba(60, 64, 67, 0.3), 0 1px 3px 1px rgba(60, 64, 67, 0.15);\n",
              "    fill: var(--button-hover-fill-color);\n",
              "  }\n",
              "\n",
              "  .colab-df-quickchart-complete:disabled,\n",
              "  .colab-df-quickchart-complete:disabled:hover {\n",
              "    background-color: var(--disabled-bg-color);\n",
              "    fill: var(--disabled-fill-color);\n",
              "    box-shadow: none;\n",
              "  }\n",
              "\n",
              "  .colab-df-spinner {\n",
              "    border: 2px solid var(--fill-color);\n",
              "    border-color: transparent;\n",
              "    border-bottom-color: var(--fill-color);\n",
              "    animation:\n",
              "      spin 1s steps(1) infinite;\n",
              "  }\n",
              "\n",
              "  @keyframes spin {\n",
              "    0% {\n",
              "      border-color: transparent;\n",
              "      border-bottom-color: var(--fill-color);\n",
              "      border-left-color: var(--fill-color);\n",
              "    }\n",
              "    20% {\n",
              "      border-color: transparent;\n",
              "      border-left-color: var(--fill-color);\n",
              "      border-top-color: var(--fill-color);\n",
              "    }\n",
              "    30% {\n",
              "      border-color: transparent;\n",
              "      border-left-color: var(--fill-color);\n",
              "      border-top-color: var(--fill-color);\n",
              "      border-right-color: var(--fill-color);\n",
              "    }\n",
              "    40% {\n",
              "      border-color: transparent;\n",
              "      border-right-color: var(--fill-color);\n",
              "      border-top-color: var(--fill-color);\n",
              "    }\n",
              "    60% {\n",
              "      border-color: transparent;\n",
              "      border-right-color: var(--fill-color);\n",
              "    }\n",
              "    80% {\n",
              "      border-color: transparent;\n",
              "      border-right-color: var(--fill-color);\n",
              "      border-bottom-color: var(--fill-color);\n",
              "    }\n",
              "    90% {\n",
              "      border-color: transparent;\n",
              "      border-bottom-color: var(--fill-color);\n",
              "    }\n",
              "  }\n",
              "</style>\n",
              "\n",
              "  <script>\n",
              "    async function quickchart(key) {\n",
              "      const quickchartButtonEl =\n",
              "        document.querySelector('#' + key + ' button');\n",
              "      quickchartButtonEl.disabled = true;  // To prevent multiple clicks.\n",
              "      quickchartButtonEl.classList.add('colab-df-spinner');\n",
              "      try {\n",
              "        const charts = await google.colab.kernel.invokeFunction(\n",
              "            'suggestCharts', [key], {});\n",
              "      } catch (error) {\n",
              "        console.error('Error during call to suggestCharts:', error);\n",
              "      }\n",
              "      quickchartButtonEl.classList.remove('colab-df-spinner');\n",
              "      quickchartButtonEl.classList.add('colab-df-quickchart-complete');\n",
              "    }\n",
              "    (() => {\n",
              "      let quickchartButtonEl =\n",
              "        document.querySelector('#df-5501a7f6-478e-4301-8a37-e4978d8f18f6 button');\n",
              "      quickchartButtonEl.style.display =\n",
              "        google.colab.kernel.accessAllowed ? 'block' : 'none';\n",
              "    })();\n",
              "  </script>\n",
              "</div>\n",
              "\n",
              "  <div id=\"id_bb36dc8a-1a4a-45e5-adc5-5a91cec2d720\">\n",
              "    <style>\n",
              "      .colab-df-generate {\n",
              "        background-color: #E8F0FE;\n",
              "        border: none;\n",
              "        border-radius: 50%;\n",
              "        cursor: pointer;\n",
              "        display: none;\n",
              "        fill: #1967D2;\n",
              "        height: 32px;\n",
              "        padding: 0 0 0 0;\n",
              "        width: 32px;\n",
              "      }\n",
              "\n",
              "      .colab-df-generate:hover {\n",
              "        background-color: #E2EBFA;\n",
              "        box-shadow: 0px 1px 2px rgba(60, 64, 67, 0.3), 0px 1px 3px 1px rgba(60, 64, 67, 0.15);\n",
              "        fill: #174EA6;\n",
              "      }\n",
              "\n",
              "      [theme=dark] .colab-df-generate {\n",
              "        background-color: #3B4455;\n",
              "        fill: #D2E3FC;\n",
              "      }\n",
              "\n",
              "      [theme=dark] .colab-df-generate:hover {\n",
              "        background-color: #434B5C;\n",
              "        box-shadow: 0px 1px 3px 1px rgba(0, 0, 0, 0.15);\n",
              "        filter: drop-shadow(0px 1px 2px rgba(0, 0, 0, 0.3));\n",
              "        fill: #FFFFFF;\n",
              "      }\n",
              "    </style>\n",
              "    <button class=\"colab-df-generate\" onclick=\"generateWithVariable('cv_results')\"\n",
              "            title=\"Generate code using this dataframe.\"\n",
              "            style=\"display:none;\">\n",
              "\n",
              "  <svg xmlns=\"http://www.w3.org/2000/svg\" height=\"24px\"viewBox=\"0 0 24 24\"\n",
              "       width=\"24px\">\n",
              "    <path d=\"M7,19H8.4L18.45,9,17,7.55,7,17.6ZM5,21V16.75L18.45,3.32a2,2,0,0,1,2.83,0l1.4,1.43a1.91,1.91,0,0,1,.58,1.4,1.91,1.91,0,0,1-.58,1.4L9.25,21ZM18.45,9,17,7.55Zm-12,3A5.31,5.31,0,0,0,4.9,8.1,5.31,5.31,0,0,0,1,6.5,5.31,5.31,0,0,0,4.9,4.9,5.31,5.31,0,0,0,6.5,1,5.31,5.31,0,0,0,8.1,4.9,5.31,5.31,0,0,0,12,6.5,5.46,5.46,0,0,0,6.5,12Z\"/>\n",
              "  </svg>\n",
              "    </button>\n",
              "    <script>\n",
              "      (() => {\n",
              "      const buttonEl =\n",
              "        document.querySelector('#id_bb36dc8a-1a4a-45e5-adc5-5a91cec2d720 button.colab-df-generate');\n",
              "      buttonEl.style.display =\n",
              "        google.colab.kernel.accessAllowed ? 'block' : 'none';\n",
              "\n",
              "      buttonEl.onclick = () => {\n",
              "        google.colab.notebook.generateWithVariable('cv_results');\n",
              "      }\n",
              "      })();\n",
              "    </script>\n",
              "  </div>\n",
              "\n",
              "    </div>\n",
              "  </div>\n"
            ],
            "application/vnd.google.colaboratory.intrinsic+json": {
              "type": "dataframe",
              "variable_name": "cv_results",
              "summary": "{\n  \"name\": \"cv_results\",\n  \"rows\": 576,\n  \"fields\": [\n    {\n      \"column\": \"train-mae-mean\",\n      \"properties\": {\n        \"dtype\": \"number\",\n        \"std\": 0.08205054369387219,\n        \"min\": 0.000656252046066746,\n        \"max\": 0.9465986067690562,\n        \"num_unique_values\": 576,\n        \"samples\": [\n          0.01589393198537229,\n          0.05309371734051223,\n          0.005365557977653454\n        ],\n        \"semantic_type\": \"\",\n        \"description\": \"\"\n      }\n    },\n    {\n      \"column\": \"train-mae-std\",\n      \"properties\": {\n        \"dtype\": \"number\",\n        \"std\": 0.002507181182931979,\n        \"min\": 1.4002552120261693e-05,\n        \"max\": 0.014630953233535606,\n        \"num_unique_values\": 576,\n        \"samples\": [\n          0.0012273353668664267,\n          0.004480856066978534,\n          0.0005153063569681683\n        ],\n        \"semantic_type\": \"\",\n        \"description\": \"\"\n      }\n    },\n    {\n      \"column\": \"test-mae-mean\",\n      \"properties\": {\n        \"dtype\": \"number\",\n        \"std\": 0.0454240524263347,\n        \"min\": 0.27600973613105806,\n        \"max\": 0.9644250360373956,\n        \"num_unique_values\": 576,\n        \"samples\": [\n          0.2804697233187129,\n          0.2909645212283086,\n          0.27747203643147117\n        ],\n        \"semantic_type\": \"\",\n        \"description\": \"\"\n      }\n    },\n    {\n      \"column\": \"test-mae-std\",\n      \"properties\": {\n        \"dtype\": \"number\",\n        \"std\": 0.0009534880442782557,\n        \"min\": 0.01395776981947441,\n        \"max\": 0.026244686113382158,\n        \"num_unique_values\": 576,\n        \"samples\": [\n          0.01577986227295504,\n          0.01620726405275429,\n          0.015474005573864882\n        ],\n        \"semantic_type\": \"\",\n        \"description\": \"\"\n      }\n    }\n  ]\n}"
            }
          },
          "metadata": {},
          "execution_count": 405
        }
      ]
    },
    {
      "cell_type": "code",
      "source": [
        "gridsearch_params = [\n",
        "    (max_depth, min_child_weight)\n",
        "    for max_depth in range(9,12)\n",
        "    for min_child_weight in range(5,8)\n",
        "]"
      ],
      "metadata": {
        "id": "TadKWs511kUe"
      },
      "execution_count": 429,
      "outputs": []
    },
    {
      "cell_type": "code",
      "source": [
        "'''\n",
        "min_mae = float(\"Inf\")\n",
        "best_params = None\n",
        "for max_depth, min_child_weight in gridsearch_params:\n",
        "    print(\"CV with max_depth={}, min_child_weight={}\".format(\n",
        "                             max_depth,\n",
        "                             min_child_weight))\n",
        "    # Update our parameters\n",
        "    params['max_depth'] = max_depth\n",
        "    params['min_child_weight'] = min_child_weight\n",
        "    # Run CV\n",
        "    cv_results = xgb.cv(\n",
        "        params,\n",
        "        dtrain,\n",
        "        num_boost_round=num_boost_round,\n",
        "        seed=42,\n",
        "        nfold=5,\n",
        "        metrics={'mae'},\n",
        "        early_stopping_rounds=10\n",
        "    )\n",
        "    # Update best MAE\n",
        "    mean_mae = cv_results['test-mae-mean'].min()\n",
        "    boost_rounds = cv_results['test-mae-mean'].argmin()\n",
        "    print(\"\\tMAE {} for {} rounds\".format(mean_mae, boost_rounds))\n",
        "    if mean_mae < min_mae:\n",
        "        min_mae = mean_mae\n",
        "        best_params = (max_depth,min_child_weight)\n",
        "print(\"Best params: {}, {}, MAE: {}\".format(best_params[0], best_params[1], min_mae))\n",
        "'''\n",
        "#Best params: 10, 5, MAE: 0.2554053891912446"
      ],
      "metadata": {
        "id": "iSROgZBX1wH8",
        "outputId": "feb5a3e3-d916-4e78-9e52-e8ca4132f3e2",
        "colab": {
          "base_uri": "https://localhost:8080/"
        }
      },
      "execution_count": 407,
      "outputs": [
        {
          "output_type": "stream",
          "name": "stdout",
          "text": [
            "CV with max_depth=9, min_child_weight=5\n"
          ]
        },
        {
          "output_type": "stream",
          "name": "stderr",
          "text": [
            "/usr/local/lib/python3.10/dist-packages/xgboost/core.py:158: UserWarning: [21:01:31] WARNING: /workspace/src/objective/regression_obj.cu:227: reg:linear is now deprecated in favor of reg:squarederror.\n",
            "  warnings.warn(smsg, UserWarning)\n",
            "/usr/local/lib/python3.10/dist-packages/xgboost/core.py:158: UserWarning: [21:01:32] WARNING: /workspace/src/objective/regression_obj.cu:227: reg:linear is now deprecated in favor of reg:squarederror.\n",
            "  warnings.warn(smsg, UserWarning)\n",
            "/usr/local/lib/python3.10/dist-packages/xgboost/core.py:158: UserWarning: [21:01:33] WARNING: /workspace/src/objective/regression_obj.cu:227: reg:linear is now deprecated in favor of reg:squarederror.\n",
            "  warnings.warn(smsg, UserWarning)\n"
          ]
        },
        {
          "output_type": "stream",
          "name": "stdout",
          "text": [
            "\tMAE 0.2633316728653405 for 272 rounds\n",
            "CV with max_depth=9, min_child_weight=6\n"
          ]
        },
        {
          "output_type": "stream",
          "name": "stderr",
          "text": [
            "/usr/local/lib/python3.10/dist-packages/xgboost/core.py:158: UserWarning: [21:03:56] WARNING: /workspace/src/objective/regression_obj.cu:227: reg:linear is now deprecated in favor of reg:squarederror.\n",
            "  warnings.warn(smsg, UserWarning)\n",
            "/usr/local/lib/python3.10/dist-packages/xgboost/core.py:158: UserWarning: [21:03:57] WARNING: /workspace/src/objective/regression_obj.cu:227: reg:linear is now deprecated in favor of reg:squarederror.\n",
            "  warnings.warn(smsg, UserWarning)\n",
            "/usr/local/lib/python3.10/dist-packages/xgboost/core.py:158: UserWarning: [21:03:58] WARNING: /workspace/src/objective/regression_obj.cu:227: reg:linear is now deprecated in favor of reg:squarederror.\n",
            "  warnings.warn(smsg, UserWarning)\n"
          ]
        },
        {
          "output_type": "stream",
          "name": "stdout",
          "text": [
            "\tMAE 0.26329902882390077 for 298 rounds\n",
            "CV with max_depth=9, min_child_weight=7\n"
          ]
        },
        {
          "output_type": "stream",
          "name": "stderr",
          "text": [
            "/usr/local/lib/python3.10/dist-packages/xgboost/core.py:158: UserWarning: [21:06:23] WARNING: /workspace/src/objective/regression_obj.cu:227: reg:linear is now deprecated in favor of reg:squarederror.\n",
            "  warnings.warn(smsg, UserWarning)\n",
            "/usr/local/lib/python3.10/dist-packages/xgboost/core.py:158: UserWarning: [21:06:24] WARNING: /workspace/src/objective/regression_obj.cu:227: reg:linear is now deprecated in favor of reg:squarederror.\n",
            "  warnings.warn(smsg, UserWarning)\n",
            "/usr/local/lib/python3.10/dist-packages/xgboost/core.py:158: UserWarning: [21:06:25] WARNING: /workspace/src/objective/regression_obj.cu:227: reg:linear is now deprecated in favor of reg:squarederror.\n",
            "  warnings.warn(smsg, UserWarning)\n"
          ]
        },
        {
          "output_type": "stream",
          "name": "stdout",
          "text": [
            "\tMAE 0.26130344615811696 for 301 rounds\n",
            "CV with max_depth=10, min_child_weight=5\n"
          ]
        },
        {
          "output_type": "stream",
          "name": "stderr",
          "text": [
            "/usr/local/lib/python3.10/dist-packages/xgboost/core.py:158: UserWarning: [21:08:50] WARNING: /workspace/src/objective/regression_obj.cu:227: reg:linear is now deprecated in favor of reg:squarederror.\n",
            "  warnings.warn(smsg, UserWarning)\n",
            "/usr/local/lib/python3.10/dist-packages/xgboost/core.py:158: UserWarning: [21:08:51] WARNING: /workspace/src/objective/regression_obj.cu:227: reg:linear is now deprecated in favor of reg:squarederror.\n",
            "  warnings.warn(smsg, UserWarning)\n"
          ]
        },
        {
          "output_type": "stream",
          "name": "stdout",
          "text": [
            "\tMAE 0.2554053891912446 for 223 rounds\n",
            "CV with max_depth=10, min_child_weight=6\n"
          ]
        },
        {
          "output_type": "stream",
          "name": "stderr",
          "text": [
            "/usr/local/lib/python3.10/dist-packages/xgboost/core.py:158: UserWarning: [21:11:14] WARNING: /workspace/src/objective/regression_obj.cu:227: reg:linear is now deprecated in favor of reg:squarederror.\n",
            "  warnings.warn(smsg, UserWarning)\n",
            "/usr/local/lib/python3.10/dist-packages/xgboost/core.py:158: UserWarning: [21:11:15] WARNING: /workspace/src/objective/regression_obj.cu:227: reg:linear is now deprecated in favor of reg:squarederror.\n",
            "  warnings.warn(smsg, UserWarning)\n"
          ]
        },
        {
          "output_type": "stream",
          "name": "stdout",
          "text": [
            "\tMAE 0.25935059567269986 for 245 rounds\n",
            "CV with max_depth=10, min_child_weight=7\n"
          ]
        },
        {
          "output_type": "stream",
          "name": "stderr",
          "text": [
            "/usr/local/lib/python3.10/dist-packages/xgboost/core.py:158: UserWarning: [21:13:38] WARNING: /workspace/src/objective/regression_obj.cu:227: reg:linear is now deprecated in favor of reg:squarederror.\n",
            "  warnings.warn(smsg, UserWarning)\n",
            "/usr/local/lib/python3.10/dist-packages/xgboost/core.py:158: UserWarning: [21:13:39] WARNING: /workspace/src/objective/regression_obj.cu:227: reg:linear is now deprecated in favor of reg:squarederror.\n",
            "  warnings.warn(smsg, UserWarning)\n"
          ]
        },
        {
          "output_type": "stream",
          "name": "stdout",
          "text": [
            "\tMAE 0.2590905647905632 for 264 rounds\n",
            "CV with max_depth=11, min_child_weight=5\n"
          ]
        },
        {
          "output_type": "stream",
          "name": "stderr",
          "text": [
            "/usr/local/lib/python3.10/dist-packages/xgboost/core.py:158: UserWarning: [21:16:04] WARNING: /workspace/src/objective/regression_obj.cu:227: reg:linear is now deprecated in favor of reg:squarederror.\n",
            "  warnings.warn(smsg, UserWarning)\n",
            "/usr/local/lib/python3.10/dist-packages/xgboost/core.py:158: UserWarning: [21:16:05] WARNING: /workspace/src/objective/regression_obj.cu:227: reg:linear is now deprecated in favor of reg:squarederror.\n",
            "  warnings.warn(smsg, UserWarning)\n",
            "/usr/local/lib/python3.10/dist-packages/xgboost/core.py:158: UserWarning: [21:16:06] WARNING: /workspace/src/objective/regression_obj.cu:227: reg:linear is now deprecated in favor of reg:squarederror.\n",
            "  warnings.warn(smsg, UserWarning)\n"
          ]
        },
        {
          "output_type": "stream",
          "name": "stdout",
          "text": [
            "\tMAE 0.2585928566091329 for 187 rounds\n",
            "CV with max_depth=11, min_child_weight=6\n"
          ]
        },
        {
          "output_type": "stream",
          "name": "stderr",
          "text": [
            "/usr/local/lib/python3.10/dist-packages/xgboost/core.py:158: UserWarning: [21:18:28] WARNING: /workspace/src/objective/regression_obj.cu:227: reg:linear is now deprecated in favor of reg:squarederror.\n",
            "  warnings.warn(smsg, UserWarning)\n",
            "/usr/local/lib/python3.10/dist-packages/xgboost/core.py:158: UserWarning: [21:18:29] WARNING: /workspace/src/objective/regression_obj.cu:227: reg:linear is now deprecated in favor of reg:squarederror.\n",
            "  warnings.warn(smsg, UserWarning)\n",
            "/usr/local/lib/python3.10/dist-packages/xgboost/core.py:158: UserWarning: [21:18:30] WARNING: /workspace/src/objective/regression_obj.cu:227: reg:linear is now deprecated in favor of reg:squarederror.\n",
            "  warnings.warn(smsg, UserWarning)\n"
          ]
        },
        {
          "output_type": "stream",
          "name": "stdout",
          "text": [
            "\tMAE 0.2619554176044176 for 202 rounds\n",
            "CV with max_depth=11, min_child_weight=7\n"
          ]
        },
        {
          "output_type": "stream",
          "name": "stderr",
          "text": [
            "/usr/local/lib/python3.10/dist-packages/xgboost/core.py:158: UserWarning: [21:20:50] WARNING: /workspace/src/objective/regression_obj.cu:227: reg:linear is now deprecated in favor of reg:squarederror.\n",
            "  warnings.warn(smsg, UserWarning)\n",
            "/usr/local/lib/python3.10/dist-packages/xgboost/core.py:158: UserWarning: [21:20:51] WARNING: /workspace/src/objective/regression_obj.cu:227: reg:linear is now deprecated in favor of reg:squarederror.\n",
            "  warnings.warn(smsg, UserWarning)\n",
            "/usr/local/lib/python3.10/dist-packages/xgboost/core.py:158: UserWarning: [21:20:52] WARNING: /workspace/src/objective/regression_obj.cu:227: reg:linear is now deprecated in favor of reg:squarederror.\n",
            "  warnings.warn(smsg, UserWarning)\n",
            "/usr/local/lib/python3.10/dist-packages/xgboost/core.py:158: UserWarning: [21:20:54] WARNING: /workspace/src/objective/regression_obj.cu:227: reg:linear is now deprecated in favor of reg:squarederror.\n",
            "  warnings.warn(smsg, UserWarning)\n"
          ]
        },
        {
          "output_type": "stream",
          "name": "stdout",
          "text": [
            "\tMAE 0.26105176970327315 for 222 rounds\n",
            "Best params: 10, 5, MAE: 0.2554053891912446\n"
          ]
        }
      ]
    },
    {
      "cell_type": "markdown",
      "source": [
        "##### Best params: 10, 5, MAE: 0.2554053891912446"
      ],
      "metadata": {
        "id": "mR4QWi8e9Gre"
      }
    },
    {
      "cell_type": "code",
      "source": [
        "params['max_depth'] = 10\n",
        "params['min_child_weight'] = 5"
      ],
      "metadata": {
        "id": "54s65bxM11c7"
      },
      "execution_count": 430,
      "outputs": []
    },
    {
      "cell_type": "code",
      "source": [
        "gridsearch_params = [\n",
        "    (subsample, colsample)\n",
        "    for subsample in [i/10. for i in range(7,11)]\n",
        "    for colsample in [i/10. for i in range(7,11)]\n",
        "]"
      ],
      "metadata": {
        "id": "ZWdDzBc_8RsM"
      },
      "execution_count": 409,
      "outputs": []
    },
    {
      "cell_type": "code",
      "source": [
        "min_mae = float(\"Inf\")\n",
        "best_params = None\n",
        "# We start by the largest values and go down to the smallest\n",
        "for subsample, colsample in reversed(gridsearch_params):\n",
        "    print(\"CV with subsample={}, colsample={}\".format(\n",
        "                             subsample,\n",
        "                             colsample))\n",
        "    # We update our parameters\n",
        "    params['subsample'] = subsample\n",
        "    params['colsample_bytree'] = colsample\n",
        "    # Run CV\n",
        "    cv_results = xgb.cv(\n",
        "        params,\n",
        "        dtrain,\n",
        "        num_boost_round=num_boost_round,\n",
        "        seed=42,\n",
        "        nfold=5,\n",
        "        metrics={'mae'},\n",
        "        early_stopping_rounds=10\n",
        "    )\n",
        "    # Update best score\n",
        "    mean_mae = cv_results['test-mae-mean'].min()\n",
        "    boost_rounds = cv_results['test-mae-mean'].argmin()\n",
        "    print(\"\\tMAE {} for {} rounds\".format(mean_mae, boost_rounds))\n",
        "    if mean_mae < min_mae:\n",
        "        min_mae = mean_mae\n",
        "        best_params = (subsample,colsample)\n",
        "print(\"Best params: {}, {}, MAE: {}\".format(best_params[0], best_params[1], min_mae))"
      ],
      "metadata": {
        "id": "PnNRBI-U8d-m",
        "outputId": "16f124f3-cba4-418b-9d7b-b731aa08dafd",
        "colab": {
          "base_uri": "https://localhost:8080/"
        }
      },
      "execution_count": 410,
      "outputs": [
        {
          "output_type": "stream",
          "name": "stdout",
          "text": [
            "CV with subsample=1.0, colsample=1.0\n"
          ]
        },
        {
          "output_type": "stream",
          "name": "stderr",
          "text": [
            "/usr/local/lib/python3.10/dist-packages/xgboost/core.py:158: UserWarning: [21:28:25] WARNING: /workspace/src/objective/regression_obj.cu:227: reg:linear is now deprecated in favor of reg:squarederror.\n",
            "  warnings.warn(smsg, UserWarning)\n",
            "/usr/local/lib/python3.10/dist-packages/xgboost/core.py:158: UserWarning: [21:28:26] WARNING: /workspace/src/objective/regression_obj.cu:227: reg:linear is now deprecated in favor of reg:squarederror.\n",
            "  warnings.warn(smsg, UserWarning)\n",
            "/usr/local/lib/python3.10/dist-packages/xgboost/core.py:158: UserWarning: [21:28:28] WARNING: /workspace/src/objective/regression_obj.cu:227: reg:linear is now deprecated in favor of reg:squarederror.\n",
            "  warnings.warn(smsg, UserWarning)\n",
            "/usr/local/lib/python3.10/dist-packages/xgboost/core.py:158: UserWarning: [21:28:30] WARNING: /workspace/src/objective/regression_obj.cu:227: reg:linear is now deprecated in favor of reg:squarederror.\n",
            "  warnings.warn(smsg, UserWarning)\n",
            "/usr/local/lib/python3.10/dist-packages/xgboost/core.py:158: UserWarning: [21:28:31] WARNING: /workspace/src/objective/regression_obj.cu:227: reg:linear is now deprecated in favor of reg:squarederror.\n",
            "  warnings.warn(smsg, UserWarning)\n"
          ]
        },
        {
          "output_type": "stream",
          "name": "stdout",
          "text": [
            "\tMAE 0.2554053891912446 for 223 rounds\n",
            "CV with subsample=1.0, colsample=0.9\n"
          ]
        },
        {
          "output_type": "stream",
          "name": "stderr",
          "text": [
            "/usr/local/lib/python3.10/dist-packages/xgboost/core.py:158: UserWarning: [21:31:08] WARNING: /workspace/src/objective/regression_obj.cu:227: reg:linear is now deprecated in favor of reg:squarederror.\n",
            "  warnings.warn(smsg, UserWarning)\n",
            "/usr/local/lib/python3.10/dist-packages/xgboost/core.py:158: UserWarning: [21:31:09] WARNING: /workspace/src/objective/regression_obj.cu:227: reg:linear is now deprecated in favor of reg:squarederror.\n",
            "  warnings.warn(smsg, UserWarning)\n",
            "/usr/local/lib/python3.10/dist-packages/xgboost/core.py:158: UserWarning: [21:31:11] WARNING: /workspace/src/objective/regression_obj.cu:227: reg:linear is now deprecated in favor of reg:squarederror.\n",
            "  warnings.warn(smsg, UserWarning)\n",
            "/usr/local/lib/python3.10/dist-packages/xgboost/core.py:158: UserWarning: [21:31:12] WARNING: /workspace/src/objective/regression_obj.cu:227: reg:linear is now deprecated in favor of reg:squarederror.\n",
            "  warnings.warn(smsg, UserWarning)\n"
          ]
        },
        {
          "output_type": "stream",
          "name": "stdout",
          "text": [
            "\tMAE 0.25958077630793436 for 218 rounds\n",
            "CV with subsample=1.0, colsample=0.8\n"
          ]
        },
        {
          "output_type": "stream",
          "name": "stderr",
          "text": [
            "/usr/local/lib/python3.10/dist-packages/xgboost/core.py:158: UserWarning: [21:33:33] WARNING: /workspace/src/objective/regression_obj.cu:227: reg:linear is now deprecated in favor of reg:squarederror.\n",
            "  warnings.warn(smsg, UserWarning)\n",
            "/usr/local/lib/python3.10/dist-packages/xgboost/core.py:158: UserWarning: [21:33:34] WARNING: /workspace/src/objective/regression_obj.cu:227: reg:linear is now deprecated in favor of reg:squarederror.\n",
            "  warnings.warn(smsg, UserWarning)\n"
          ]
        },
        {
          "output_type": "stream",
          "name": "stdout",
          "text": [
            "\tMAE 0.25971866017643114 for 224 rounds\n",
            "CV with subsample=1.0, colsample=0.7\n"
          ]
        },
        {
          "output_type": "stream",
          "name": "stderr",
          "text": [
            "/usr/local/lib/python3.10/dist-packages/xgboost/core.py:158: UserWarning: [21:35:40] WARNING: /workspace/src/objective/regression_obj.cu:227: reg:linear is now deprecated in favor of reg:squarederror.\n",
            "  warnings.warn(smsg, UserWarning)\n",
            "/usr/local/lib/python3.10/dist-packages/xgboost/core.py:158: UserWarning: [21:35:41] WARNING: /workspace/src/objective/regression_obj.cu:227: reg:linear is now deprecated in favor of reg:squarederror.\n",
            "  warnings.warn(smsg, UserWarning)\n"
          ]
        },
        {
          "output_type": "stream",
          "name": "stdout",
          "text": [
            "\tMAE 0.25653052245144387 for 229 rounds\n",
            "CV with subsample=0.9, colsample=1.0\n"
          ]
        },
        {
          "output_type": "stream",
          "name": "stderr",
          "text": [
            "/usr/local/lib/python3.10/dist-packages/xgboost/core.py:158: UserWarning: [21:37:36] WARNING: /workspace/src/objective/regression_obj.cu:227: reg:linear is now deprecated in favor of reg:squarederror.\n",
            "  warnings.warn(smsg, UserWarning)\n",
            "/usr/local/lib/python3.10/dist-packages/xgboost/core.py:158: UserWarning: [21:37:37] WARNING: /workspace/src/objective/regression_obj.cu:227: reg:linear is now deprecated in favor of reg:squarederror.\n",
            "  warnings.warn(smsg, UserWarning)\n"
          ]
        },
        {
          "output_type": "stream",
          "name": "stdout",
          "text": [
            "\tMAE 0.26183352888163836 for 252 rounds\n",
            "CV with subsample=0.9, colsample=0.9\n"
          ]
        },
        {
          "output_type": "stream",
          "name": "stderr",
          "text": [
            "/usr/local/lib/python3.10/dist-packages/xgboost/core.py:158: UserWarning: [21:40:18] WARNING: /workspace/src/objective/regression_obj.cu:227: reg:linear is now deprecated in favor of reg:squarederror.\n",
            "  warnings.warn(smsg, UserWarning)\n",
            "/usr/local/lib/python3.10/dist-packages/xgboost/core.py:158: UserWarning: [21:40:19] WARNING: /workspace/src/objective/regression_obj.cu:227: reg:linear is now deprecated in favor of reg:squarederror.\n",
            "  warnings.warn(smsg, UserWarning)\n"
          ]
        },
        {
          "output_type": "stream",
          "name": "stdout",
          "text": [
            "\tMAE 0.26415830107786975 for 270 rounds\n",
            "CV with subsample=0.9, colsample=0.8\n"
          ]
        },
        {
          "output_type": "stream",
          "name": "stderr",
          "text": [
            "/usr/local/lib/python3.10/dist-packages/xgboost/core.py:158: UserWarning: [21:42:51] WARNING: /workspace/src/objective/regression_obj.cu:227: reg:linear is now deprecated in favor of reg:squarederror.\n",
            "  warnings.warn(smsg, UserWarning)\n",
            "/usr/local/lib/python3.10/dist-packages/xgboost/core.py:158: UserWarning: [21:42:53] WARNING: /workspace/src/objective/regression_obj.cu:227: reg:linear is now deprecated in favor of reg:squarederror.\n",
            "  warnings.warn(smsg, UserWarning)\n",
            "/usr/local/lib/python3.10/dist-packages/xgboost/core.py:158: UserWarning: [21:42:54] WARNING: /workspace/src/objective/regression_obj.cu:227: reg:linear is now deprecated in favor of reg:squarederror.\n",
            "  warnings.warn(smsg, UserWarning)\n",
            "/usr/local/lib/python3.10/dist-packages/xgboost/core.py:158: UserWarning: [21:42:55] WARNING: /workspace/src/objective/regression_obj.cu:227: reg:linear is now deprecated in favor of reg:squarederror.\n",
            "  warnings.warn(smsg, UserWarning)\n",
            "/usr/local/lib/python3.10/dist-packages/xgboost/core.py:158: UserWarning: [21:42:56] WARNING: /workspace/src/objective/regression_obj.cu:227: reg:linear is now deprecated in favor of reg:squarederror.\n",
            "  warnings.warn(smsg, UserWarning)\n"
          ]
        },
        {
          "output_type": "stream",
          "name": "stdout",
          "text": [
            "\tMAE 0.2646528852786885 for 297 rounds\n",
            "CV with subsample=0.9, colsample=0.7\n"
          ]
        },
        {
          "output_type": "stream",
          "name": "stderr",
          "text": [
            "/usr/local/lib/python3.10/dist-packages/xgboost/core.py:158: UserWarning: [21:45:17] WARNING: /workspace/src/objective/regression_obj.cu:227: reg:linear is now deprecated in favor of reg:squarederror.\n",
            "  warnings.warn(smsg, UserWarning)\n",
            "/usr/local/lib/python3.10/dist-packages/xgboost/core.py:158: UserWarning: [21:45:18] WARNING: /workspace/src/objective/regression_obj.cu:227: reg:linear is now deprecated in favor of reg:squarederror.\n",
            "  warnings.warn(smsg, UserWarning)\n"
          ]
        },
        {
          "output_type": "stream",
          "name": "stdout",
          "text": [
            "\tMAE 0.26006837507571784 for 320 rounds\n",
            "CV with subsample=0.8, colsample=1.0\n"
          ]
        },
        {
          "output_type": "stream",
          "name": "stderr",
          "text": [
            "/usr/local/lib/python3.10/dist-packages/xgboost/core.py:158: UserWarning: [21:47:38] WARNING: /workspace/src/objective/regression_obj.cu:227: reg:linear is now deprecated in favor of reg:squarederror.\n",
            "  warnings.warn(smsg, UserWarning)\n",
            "/usr/local/lib/python3.10/dist-packages/xgboost/core.py:158: UserWarning: [21:47:39] WARNING: /workspace/src/objective/regression_obj.cu:227: reg:linear is now deprecated in favor of reg:squarederror.\n",
            "  warnings.warn(smsg, UserWarning)\n"
          ]
        },
        {
          "output_type": "stream",
          "name": "stdout",
          "text": [
            "\tMAE 0.26633508061006783 for 312 rounds\n",
            "CV with subsample=0.8, colsample=0.9\n"
          ]
        },
        {
          "output_type": "stream",
          "name": "stderr",
          "text": [
            "/usr/local/lib/python3.10/dist-packages/xgboost/core.py:158: UserWarning: [21:50:35] WARNING: /workspace/src/objective/regression_obj.cu:227: reg:linear is now deprecated in favor of reg:squarederror.\n",
            "  warnings.warn(smsg, UserWarning)\n",
            "/usr/local/lib/python3.10/dist-packages/xgboost/core.py:158: UserWarning: [21:50:36] WARNING: /workspace/src/objective/regression_obj.cu:227: reg:linear is now deprecated in favor of reg:squarederror.\n",
            "  warnings.warn(smsg, UserWarning)\n"
          ]
        },
        {
          "output_type": "stream",
          "name": "stdout",
          "text": [
            "\tMAE 0.27120997835232946 for 314 rounds\n",
            "CV with subsample=0.8, colsample=0.8\n"
          ]
        },
        {
          "output_type": "stream",
          "name": "stderr",
          "text": [
            "/usr/local/lib/python3.10/dist-packages/xgboost/core.py:158: UserWarning: [21:53:16] WARNING: /workspace/src/objective/regression_obj.cu:227: reg:linear is now deprecated in favor of reg:squarederror.\n",
            "  warnings.warn(smsg, UserWarning)\n",
            "/usr/local/lib/python3.10/dist-packages/xgboost/core.py:158: UserWarning: [21:53:17] WARNING: /workspace/src/objective/regression_obj.cu:227: reg:linear is now deprecated in favor of reg:squarederror.\n",
            "  warnings.warn(smsg, UserWarning)\n"
          ]
        },
        {
          "output_type": "stream",
          "name": "stdout",
          "text": [
            "\tMAE 0.27254865089451996 for 332 rounds\n",
            "CV with subsample=0.8, colsample=0.7\n"
          ]
        },
        {
          "output_type": "stream",
          "name": "stderr",
          "text": [
            "/usr/local/lib/python3.10/dist-packages/xgboost/core.py:158: UserWarning: [21:55:50] WARNING: /workspace/src/objective/regression_obj.cu:227: reg:linear is now deprecated in favor of reg:squarederror.\n",
            "  warnings.warn(smsg, UserWarning)\n",
            "/usr/local/lib/python3.10/dist-packages/xgboost/core.py:158: UserWarning: [21:55:51] WARNING: /workspace/src/objective/regression_obj.cu:227: reg:linear is now deprecated in favor of reg:squarederror.\n",
            "  warnings.warn(smsg, UserWarning)\n"
          ]
        },
        {
          "output_type": "stream",
          "name": "stdout",
          "text": [
            "\tMAE 0.26888006663754077 for 320 rounds\n",
            "CV with subsample=0.7, colsample=1.0\n"
          ]
        },
        {
          "output_type": "stream",
          "name": "stderr",
          "text": [
            "/usr/local/lib/python3.10/dist-packages/xgboost/core.py:158: UserWarning: [21:58:09] WARNING: /workspace/src/objective/regression_obj.cu:227: reg:linear is now deprecated in favor of reg:squarederror.\n",
            "  warnings.warn(smsg, UserWarning)\n",
            "/usr/local/lib/python3.10/dist-packages/xgboost/core.py:158: UserWarning: [21:58:10] WARNING: /workspace/src/objective/regression_obj.cu:227: reg:linear is now deprecated in favor of reg:squarederror.\n",
            "  warnings.warn(smsg, UserWarning)\n"
          ]
        },
        {
          "output_type": "stream",
          "name": "stdout",
          "text": [
            "\tMAE 0.2741627695504899 for 432 rounds\n",
            "CV with subsample=0.7, colsample=0.9\n"
          ]
        },
        {
          "output_type": "stream",
          "name": "stderr",
          "text": [
            "/usr/local/lib/python3.10/dist-packages/xgboost/core.py:158: UserWarning: [22:01:24] WARNING: /workspace/src/objective/regression_obj.cu:227: reg:linear is now deprecated in favor of reg:squarederror.\n",
            "  warnings.warn(smsg, UserWarning)\n",
            "/usr/local/lib/python3.10/dist-packages/xgboost/core.py:158: UserWarning: [22:01:25] WARNING: /workspace/src/objective/regression_obj.cu:227: reg:linear is now deprecated in favor of reg:squarederror.\n",
            "  warnings.warn(smsg, UserWarning)\n",
            "/usr/local/lib/python3.10/dist-packages/xgboost/core.py:158: UserWarning: [22:01:26] WARNING: /workspace/src/objective/regression_obj.cu:227: reg:linear is now deprecated in favor of reg:squarederror.\n",
            "  warnings.warn(smsg, UserWarning)\n"
          ]
        },
        {
          "output_type": "stream",
          "name": "stdout",
          "text": [
            "\tMAE 0.27527754679309685 for 305 rounds\n",
            "CV with subsample=0.7, colsample=0.8\n"
          ]
        },
        {
          "output_type": "stream",
          "name": "stderr",
          "text": [
            "/usr/local/lib/python3.10/dist-packages/xgboost/core.py:158: UserWarning: [22:04:26] WARNING: /workspace/src/objective/regression_obj.cu:227: reg:linear is now deprecated in favor of reg:squarederror.\n",
            "  warnings.warn(smsg, UserWarning)\n",
            "/usr/local/lib/python3.10/dist-packages/xgboost/core.py:158: UserWarning: [22:04:27] WARNING: /workspace/src/objective/regression_obj.cu:227: reg:linear is now deprecated in favor of reg:squarederror.\n",
            "  warnings.warn(smsg, UserWarning)\n",
            "/usr/local/lib/python3.10/dist-packages/xgboost/core.py:158: UserWarning: [22:04:28] WARNING: /workspace/src/objective/regression_obj.cu:227: reg:linear is now deprecated in favor of reg:squarederror.\n",
            "  warnings.warn(smsg, UserWarning)\n"
          ]
        },
        {
          "output_type": "stream",
          "name": "stdout",
          "text": [
            "\tMAE 0.27101888566854815 for 310 rounds\n",
            "CV with subsample=0.7, colsample=0.7\n"
          ]
        },
        {
          "output_type": "stream",
          "name": "stderr",
          "text": [
            "/usr/local/lib/python3.10/dist-packages/xgboost/core.py:158: UserWarning: [22:07:12] WARNING: /workspace/src/objective/regression_obj.cu:227: reg:linear is now deprecated in favor of reg:squarederror.\n",
            "  warnings.warn(smsg, UserWarning)\n",
            "/usr/local/lib/python3.10/dist-packages/xgboost/core.py:158: UserWarning: [22:07:13] WARNING: /workspace/src/objective/regression_obj.cu:227: reg:linear is now deprecated in favor of reg:squarederror.\n",
            "  warnings.warn(smsg, UserWarning)\n"
          ]
        },
        {
          "output_type": "stream",
          "name": "stdout",
          "text": [
            "\tMAE 0.2769029226433314 for 313 rounds\n",
            "Best params: 1.0, 1.0, MAE: 0.2554053891912446\n"
          ]
        }
      ]
    },
    {
      "cell_type": "markdown",
      "source": [
        "###### Best params: 1.0, 1.0, MAE: 0.2554053891912446"
      ],
      "metadata": {
        "id": "KwkFW3pDGrAv"
      }
    },
    {
      "cell_type": "code",
      "source": [
        "params['subsample'] = 1\n",
        "params['colsample_bytree'] = 1"
      ],
      "metadata": {
        "id": "f-2xmKSZ8j41"
      },
      "execution_count": 431,
      "outputs": []
    },
    {
      "cell_type": "code",
      "source": [
        "%time\n",
        "min_mae = float(\"Inf\")\n",
        "best_params = None\n",
        "for eta in [.3, .2, .1, .05, .01, .005]:\n",
        "    print(\"CV with eta={}\".format(eta))\n",
        "    # We update our parameters\n",
        "    params['eta'] = eta\n",
        "    # Run and time CV\n",
        "    %time\n",
        "    cv_results = xgb.cv(params,\n",
        "                              dtrain,\n",
        "                              num_boost_round=num_boost_round,\n",
        "                              seed=42,\n",
        "                              nfold=5,\n",
        "                              metrics=['mae'],\n",
        "                              early_stopping_rounds=10)\n",
        "    # Update best score\n",
        "    mean_mae = cv_results['test-mae-mean'].min()\n",
        "    boost_rounds = cv_results['test-mae-mean'].argmin()\n",
        "    print(\"\\tMAE {} for {} rounds\\n\".format(mean_mae, boost_rounds))\n",
        "    if mean_mae < min_mae:\n",
        "        min_mae = mean_mae\n",
        "        best_params = eta\n",
        "print(\"Best params: {}, MAE: {}\".format(best_params, min_mae))"
      ],
      "metadata": {
        "id": "bznPjcjDGxZe",
        "outputId": "5012110b-e91c-4c09-d77b-e6fef6d73e26",
        "colab": {
          "base_uri": "https://localhost:8080/"
        }
      },
      "execution_count": 417,
      "outputs": [
        {
          "output_type": "stream",
          "name": "stdout",
          "text": [
            "CPU times: user 5 µs, sys: 0 ns, total: 5 µs\n",
            "Wall time: 7.63 µs\n",
            "CV with eta=0.3\n",
            "CPU times: user 3 µs, sys: 0 ns, total: 3 µs\n",
            "Wall time: 6.44 µs\n"
          ]
        },
        {
          "output_type": "stream",
          "name": "stderr",
          "text": [
            "/usr/local/lib/python3.10/dist-packages/xgboost/core.py:158: UserWarning: [22:17:06] WARNING: /workspace/src/objective/regression_obj.cu:227: reg:linear is now deprecated in favor of reg:squarederror.\n",
            "  warnings.warn(smsg, UserWarning)\n",
            "/usr/local/lib/python3.10/dist-packages/xgboost/core.py:158: UserWarning: [22:17:07] WARNING: /workspace/src/objective/regression_obj.cu:227: reg:linear is now deprecated in favor of reg:squarederror.\n",
            "  warnings.warn(smsg, UserWarning)\n",
            "/usr/local/lib/python3.10/dist-packages/xgboost/core.py:158: UserWarning: [22:17:08] WARNING: /workspace/src/objective/regression_obj.cu:227: reg:linear is now deprecated in favor of reg:squarederror.\n",
            "  warnings.warn(smsg, UserWarning)\n",
            "/usr/local/lib/python3.10/dist-packages/xgboost/core.py:158: UserWarning: [22:17:10] WARNING: /workspace/src/objective/regression_obj.cu:227: reg:linear is now deprecated in favor of reg:squarederror.\n",
            "  warnings.warn(smsg, UserWarning)\n",
            "/usr/local/lib/python3.10/dist-packages/xgboost/core.py:158: UserWarning: [22:17:11] WARNING: /workspace/src/objective/regression_obj.cu:227: reg:linear is now deprecated in favor of reg:squarederror.\n",
            "  warnings.warn(smsg, UserWarning)\n"
          ]
        },
        {
          "output_type": "stream",
          "name": "stdout",
          "text": [
            "\tMAE 0.2769029226433314 for 313 rounds\n",
            "\n",
            "CV with eta=0.2\n",
            "CPU times: user 5 µs, sys: 1e+03 ns, total: 6 µs\n",
            "Wall time: 7.39 µs\n"
          ]
        },
        {
          "output_type": "stream",
          "name": "stderr",
          "text": [
            "/usr/local/lib/python3.10/dist-packages/xgboost/core.py:158: UserWarning: [22:19:50] WARNING: /workspace/src/objective/regression_obj.cu:227: reg:linear is now deprecated in favor of reg:squarederror.\n",
            "  warnings.warn(smsg, UserWarning)\n",
            "/usr/local/lib/python3.10/dist-packages/xgboost/core.py:158: UserWarning: [22:19:51] WARNING: /workspace/src/objective/regression_obj.cu:227: reg:linear is now deprecated in favor of reg:squarederror.\n",
            "  warnings.warn(smsg, UserWarning)\n"
          ]
        },
        {
          "output_type": "stream",
          "name": "stdout",
          "text": [
            "\tMAE 0.2593790071116781 for 472 rounds\n",
            "\n",
            "CV with eta=0.1\n",
            "CPU times: user 3 µs, sys: 0 ns, total: 3 µs\n",
            "Wall time: 5.96 µs\n"
          ]
        },
        {
          "output_type": "stream",
          "name": "stderr",
          "text": [
            "/usr/local/lib/python3.10/dist-packages/xgboost/core.py:158: UserWarning: [22:23:25] WARNING: /workspace/src/objective/regression_obj.cu:227: reg:linear is now deprecated in favor of reg:squarederror.\n",
            "  warnings.warn(smsg, UserWarning)\n",
            "/usr/local/lib/python3.10/dist-packages/xgboost/core.py:158: UserWarning: [22:23:26] WARNING: /workspace/src/objective/regression_obj.cu:227: reg:linear is now deprecated in favor of reg:squarederror.\n",
            "  warnings.warn(smsg, UserWarning)\n",
            "/usr/local/lib/python3.10/dist-packages/xgboost/core.py:158: UserWarning: [22:23:27] WARNING: /workspace/src/objective/regression_obj.cu:227: reg:linear is now deprecated in favor of reg:squarederror.\n",
            "  warnings.warn(smsg, UserWarning)\n"
          ]
        },
        {
          "output_type": "stream",
          "name": "stdout",
          "text": [
            "\tMAE 0.24181682480564967 for 837 rounds\n",
            "\n",
            "CV with eta=0.05\n",
            "CPU times: user 4 µs, sys: 0 ns, total: 4 µs\n",
            "Wall time: 6.91 µs\n"
          ]
        },
        {
          "output_type": "stream",
          "name": "stderr",
          "text": [
            "/usr/local/lib/python3.10/dist-packages/xgboost/core.py:158: UserWarning: [22:30:17] WARNING: /workspace/src/objective/regression_obj.cu:227: reg:linear is now deprecated in favor of reg:squarederror.\n",
            "  warnings.warn(smsg, UserWarning)\n",
            "/usr/local/lib/python3.10/dist-packages/xgboost/core.py:158: UserWarning: [22:30:18] WARNING: /workspace/src/objective/regression_obj.cu:227: reg:linear is now deprecated in favor of reg:squarederror.\n",
            "  warnings.warn(smsg, UserWarning)\n"
          ]
        },
        {
          "output_type": "stream",
          "name": "stdout",
          "text": [
            "\tMAE 0.2284068952043651 for 998 rounds\n",
            "\n",
            "CV with eta=0.01\n",
            "CPU times: user 4 µs, sys: 0 ns, total: 4 µs\n",
            "Wall time: 7.15 µs\n"
          ]
        },
        {
          "output_type": "stream",
          "name": "stderr",
          "text": [
            "/usr/local/lib/python3.10/dist-packages/xgboost/core.py:158: UserWarning: [22:39:43] WARNING: /workspace/src/objective/regression_obj.cu:227: reg:linear is now deprecated in favor of reg:squarederror.\n",
            "  warnings.warn(smsg, UserWarning)\n",
            "/usr/local/lib/python3.10/dist-packages/xgboost/core.py:158: UserWarning: [22:39:44] WARNING: /workspace/src/objective/regression_obj.cu:227: reg:linear is now deprecated in favor of reg:squarederror.\n",
            "  warnings.warn(smsg, UserWarning)\n",
            "/usr/local/lib/python3.10/dist-packages/xgboost/core.py:158: UserWarning: [22:39:45] WARNING: /workspace/src/objective/regression_obj.cu:227: reg:linear is now deprecated in favor of reg:squarederror.\n",
            "  warnings.warn(smsg, UserWarning)\n"
          ]
        },
        {
          "output_type": "stream",
          "name": "stdout",
          "text": [
            "\tMAE 0.23967129370209314 for 998 rounds\n",
            "\n",
            "CV with eta=0.005\n",
            "CPU times: user 4 µs, sys: 0 ns, total: 4 µs\n",
            "Wall time: 7.63 µs\n"
          ]
        },
        {
          "output_type": "stream",
          "name": "stderr",
          "text": [
            "/usr/local/lib/python3.10/dist-packages/xgboost/core.py:158: UserWarning: [22:49:44] WARNING: /workspace/src/objective/regression_obj.cu:227: reg:linear is now deprecated in favor of reg:squarederror.\n",
            "  warnings.warn(smsg, UserWarning)\n",
            "/usr/local/lib/python3.10/dist-packages/xgboost/core.py:158: UserWarning: [22:49:45] WARNING: /workspace/src/objective/regression_obj.cu:227: reg:linear is now deprecated in favor of reg:squarederror.\n",
            "  warnings.warn(smsg, UserWarning)\n",
            "/usr/local/lib/python3.10/dist-packages/xgboost/core.py:158: UserWarning: [22:49:46] WARNING: /workspace/src/objective/regression_obj.cu:227: reg:linear is now deprecated in favor of reg:squarederror.\n",
            "  warnings.warn(smsg, UserWarning)\n"
          ]
        },
        {
          "output_type": "stream",
          "name": "stdout",
          "text": [
            "\tMAE 0.25801445335765305 for 998 rounds\n",
            "\n",
            "Best params: 0.05, MAE: 0.2284068952043651\n"
          ]
        }
      ]
    },
    {
      "cell_type": "markdown",
      "source": [
        "##### Best params: 0.05, MAE: 0.2284068952043651"
      ],
      "metadata": {
        "id": "sXhTj0n_TARy"
      }
    },
    {
      "cell_type": "code",
      "source": [
        "params['eta'] = .05"
      ],
      "metadata": {
        "id": "nXkULsBxS8sV"
      },
      "execution_count": 432,
      "outputs": []
    },
    {
      "cell_type": "code",
      "source": [
        "model = xgb.train(\n",
        "    params,\n",
        "    dtrain,\n",
        "    num_boost_round=num_boost_round,\n",
        "    evals=[(dtest, \"Test\")],\n",
        "    early_stopping_rounds=10\n",
        ")\n",
        "\n",
        "print(\"Best MAE: {:.2f} in {} rounds\".format(model.best_score, model.best_iteration+1))"
      ],
      "metadata": {
        "id": "nmDcGOoATGBP",
        "outputId": "bbf246b3-34c6-46e0-e5d5-662aaba4e3b2",
        "colab": {
          "base_uri": "https://localhost:8080/"
        }
      },
      "execution_count": 418,
      "outputs": [
        {
          "output_type": "stream",
          "name": "stderr",
          "text": [
            "/usr/local/lib/python3.10/dist-packages/xgboost/core.py:158: UserWarning: [23:07:16] WARNING: /workspace/src/objective/regression_obj.cu:227: reg:linear is now deprecated in favor of reg:squarederror.\n",
            "  warnings.warn(smsg, UserWarning)\n"
          ]
        },
        {
          "output_type": "stream",
          "name": "stdout",
          "text": [
            "[0]\tTest-mae:1.84006\n",
            "[1]\tTest-mae:1.83409\n",
            "[2]\tTest-mae:1.82805\n",
            "[3]\tTest-mae:1.82207\n",
            "[4]\tTest-mae:1.81649\n",
            "[5]\tTest-mae:1.81060\n",
            "[6]\tTest-mae:1.80471\n",
            "[7]\tTest-mae:1.79897\n",
            "[8]\tTest-mae:1.79302\n",
            "[9]\tTest-mae:1.78716\n",
            "[10]\tTest-mae:1.78140\n",
            "[11]\tTest-mae:1.77585\n",
            "[12]\tTest-mae:1.77002\n",
            "[13]\tTest-mae:1.76443\n",
            "[14]\tTest-mae:1.75887\n",
            "[15]\tTest-mae:1.75322\n",
            "[16]\tTest-mae:1.74757\n",
            "[17]\tTest-mae:1.74216\n",
            "[18]\tTest-mae:1.73648\n",
            "[19]\tTest-mae:1.73096\n",
            "[20]\tTest-mae:1.72534\n",
            "[21]\tTest-mae:1.71999\n",
            "[22]\tTest-mae:1.71458\n",
            "[23]\tTest-mae:1.70915\n",
            "[24]\tTest-mae:1.70377\n",
            "[25]\tTest-mae:1.69846\n",
            "[26]\tTest-mae:1.69297\n",
            "[27]\tTest-mae:1.68739\n",
            "[28]\tTest-mae:1.68213\n",
            "[29]\tTest-mae:1.67691\n",
            "[30]\tTest-mae:1.67153\n",
            "[31]\tTest-mae:1.66625\n",
            "[32]\tTest-mae:1.66100\n",
            "[33]\tTest-mae:1.65587\n",
            "[34]\tTest-mae:1.65078\n",
            "[35]\tTest-mae:1.64570\n",
            "[36]\tTest-mae:1.64057\n",
            "[37]\tTest-mae:1.63536\n",
            "[38]\tTest-mae:1.63027\n",
            "[39]\tTest-mae:1.62509\n",
            "[40]\tTest-mae:1.61996\n",
            "[41]\tTest-mae:1.61490\n",
            "[42]\tTest-mae:1.60964\n",
            "[43]\tTest-mae:1.60465\n",
            "[44]\tTest-mae:1.59995\n",
            "[45]\tTest-mae:1.59512\n",
            "[46]\tTest-mae:1.59019\n",
            "[47]\tTest-mae:1.58516\n",
            "[48]\tTest-mae:1.58027\n",
            "[49]\tTest-mae:1.57517\n",
            "[50]\tTest-mae:1.57026\n",
            "[51]\tTest-mae:1.56543\n",
            "[52]\tTest-mae:1.56045\n",
            "[53]\tTest-mae:1.55569\n",
            "[54]\tTest-mae:1.55096\n",
            "[55]\tTest-mae:1.54629\n",
            "[56]\tTest-mae:1.54168\n",
            "[57]\tTest-mae:1.53700\n",
            "[58]\tTest-mae:1.53250\n",
            "[59]\tTest-mae:1.52799\n",
            "[60]\tTest-mae:1.52328\n",
            "[61]\tTest-mae:1.51857\n",
            "[62]\tTest-mae:1.51393\n",
            "[63]\tTest-mae:1.50952\n",
            "[64]\tTest-mae:1.50490\n",
            "[65]\tTest-mae:1.50051\n",
            "[66]\tTest-mae:1.49608\n",
            "[67]\tTest-mae:1.49152\n",
            "[68]\tTest-mae:1.48725\n",
            "[69]\tTest-mae:1.48282\n",
            "[70]\tTest-mae:1.47840\n",
            "[71]\tTest-mae:1.47397\n",
            "[72]\tTest-mae:1.46948\n",
            "[73]\tTest-mae:1.46511\n",
            "[74]\tTest-mae:1.46077\n",
            "[75]\tTest-mae:1.45654\n",
            "[76]\tTest-mae:1.45202\n",
            "[77]\tTest-mae:1.44773\n",
            "[78]\tTest-mae:1.44333\n",
            "[79]\tTest-mae:1.43912\n",
            "[80]\tTest-mae:1.43494\n",
            "[81]\tTest-mae:1.43066\n",
            "[82]\tTest-mae:1.42648\n",
            "[83]\tTest-mae:1.42210\n",
            "[84]\tTest-mae:1.41799\n",
            "[85]\tTest-mae:1.41380\n",
            "[86]\tTest-mae:1.40954\n",
            "[87]\tTest-mae:1.40545\n",
            "[88]\tTest-mae:1.40142\n",
            "[89]\tTest-mae:1.39717\n",
            "[90]\tTest-mae:1.39320\n",
            "[91]\tTest-mae:1.38933\n",
            "[92]\tTest-mae:1.38541\n",
            "[93]\tTest-mae:1.38149\n",
            "[94]\tTest-mae:1.37752\n",
            "[95]\tTest-mae:1.37366\n",
            "[96]\tTest-mae:1.36962\n",
            "[97]\tTest-mae:1.36567\n",
            "[98]\tTest-mae:1.36193\n",
            "[99]\tTest-mae:1.35800\n",
            "[100]\tTest-mae:1.35431\n",
            "[101]\tTest-mae:1.35047\n",
            "[102]\tTest-mae:1.34663\n",
            "[103]\tTest-mae:1.34275\n",
            "[104]\tTest-mae:1.33886\n",
            "[105]\tTest-mae:1.33533\n",
            "[106]\tTest-mae:1.33159\n",
            "[107]\tTest-mae:1.32776\n",
            "[108]\tTest-mae:1.32407\n",
            "[109]\tTest-mae:1.32026\n",
            "[110]\tTest-mae:1.31680\n",
            "[111]\tTest-mae:1.31303\n",
            "[112]\tTest-mae:1.30945\n",
            "[113]\tTest-mae:1.30570\n",
            "[114]\tTest-mae:1.30196\n",
            "[115]\tTest-mae:1.29836\n",
            "[116]\tTest-mae:1.29475\n",
            "[117]\tTest-mae:1.29119\n",
            "[118]\tTest-mae:1.28738\n",
            "[119]\tTest-mae:1.28384\n",
            "[120]\tTest-mae:1.28038\n",
            "[121]\tTest-mae:1.27678\n",
            "[122]\tTest-mae:1.27328\n",
            "[123]\tTest-mae:1.26997\n",
            "[124]\tTest-mae:1.26645\n",
            "[125]\tTest-mae:1.26282\n",
            "[126]\tTest-mae:1.25931\n",
            "[127]\tTest-mae:1.25579\n",
            "[128]\tTest-mae:1.25245\n",
            "[129]\tTest-mae:1.24912\n",
            "[130]\tTest-mae:1.24574\n",
            "[131]\tTest-mae:1.24214\n",
            "[132]\tTest-mae:1.23879\n",
            "[133]\tTest-mae:1.23530\n",
            "[134]\tTest-mae:1.23208\n",
            "[135]\tTest-mae:1.22880\n",
            "[136]\tTest-mae:1.22544\n",
            "[137]\tTest-mae:1.22229\n",
            "[138]\tTest-mae:1.21887\n",
            "[139]\tTest-mae:1.21576\n",
            "[140]\tTest-mae:1.21254\n",
            "[141]\tTest-mae:1.20920\n",
            "[142]\tTest-mae:1.20590\n",
            "[143]\tTest-mae:1.20257\n",
            "[144]\tTest-mae:1.19935\n",
            "[145]\tTest-mae:1.19637\n",
            "[146]\tTest-mae:1.19323\n",
            "[147]\tTest-mae:1.19015\n",
            "[148]\tTest-mae:1.18713\n",
            "[149]\tTest-mae:1.18391\n",
            "[150]\tTest-mae:1.18062\n",
            "[151]\tTest-mae:1.17750\n",
            "[152]\tTest-mae:1.17450\n",
            "[153]\tTest-mae:1.17130\n",
            "[154]\tTest-mae:1.16811\n",
            "[155]\tTest-mae:1.16507\n",
            "[156]\tTest-mae:1.16204\n",
            "[157]\tTest-mae:1.15911\n",
            "[158]\tTest-mae:1.15607\n",
            "[159]\tTest-mae:1.15308\n",
            "[160]\tTest-mae:1.15003\n",
            "[161]\tTest-mae:1.14691\n",
            "[162]\tTest-mae:1.14414\n",
            "[163]\tTest-mae:1.14115\n",
            "[164]\tTest-mae:1.13825\n",
            "[165]\tTest-mae:1.13538\n",
            "[166]\tTest-mae:1.13235\n",
            "[167]\tTest-mae:1.12951\n",
            "[168]\tTest-mae:1.12661\n",
            "[169]\tTest-mae:1.12369\n",
            "[170]\tTest-mae:1.12072\n",
            "[171]\tTest-mae:1.11773\n",
            "[172]\tTest-mae:1.11485\n",
            "[173]\tTest-mae:1.11215\n",
            "[174]\tTest-mae:1.10942\n",
            "[175]\tTest-mae:1.10647\n",
            "[176]\tTest-mae:1.10361\n",
            "[177]\tTest-mae:1.10075\n",
            "[178]\tTest-mae:1.09795\n",
            "[179]\tTest-mae:1.09516\n",
            "[180]\tTest-mae:1.09243\n",
            "[181]\tTest-mae:1.08978\n",
            "[182]\tTest-mae:1.08709\n",
            "[183]\tTest-mae:1.08441\n",
            "[184]\tTest-mae:1.08175\n",
            "[185]\tTest-mae:1.07912\n",
            "[186]\tTest-mae:1.07639\n",
            "[187]\tTest-mae:1.07368\n",
            "[188]\tTest-mae:1.07096\n",
            "[189]\tTest-mae:1.06826\n",
            "[190]\tTest-mae:1.06549\n",
            "[191]\tTest-mae:1.06291\n",
            "[192]\tTest-mae:1.06037\n",
            "[193]\tTest-mae:1.05775\n",
            "[194]\tTest-mae:1.05517\n",
            "[195]\tTest-mae:1.05257\n",
            "[196]\tTest-mae:1.05000\n",
            "[197]\tTest-mae:1.04757\n",
            "[198]\tTest-mae:1.04514\n",
            "[199]\tTest-mae:1.04277\n",
            "[200]\tTest-mae:1.04031\n",
            "[201]\tTest-mae:1.03765\n",
            "[202]\tTest-mae:1.03519\n",
            "[203]\tTest-mae:1.03273\n",
            "[204]\tTest-mae:1.03029\n",
            "[205]\tTest-mae:1.02776\n",
            "[206]\tTest-mae:1.02544\n",
            "[207]\tTest-mae:1.02290\n",
            "[208]\tTest-mae:1.02052\n",
            "[209]\tTest-mae:1.01810\n",
            "[210]\tTest-mae:1.01578\n",
            "[211]\tTest-mae:1.01322\n",
            "[212]\tTest-mae:1.01074\n",
            "[213]\tTest-mae:1.00846\n",
            "[214]\tTest-mae:1.00617\n",
            "[215]\tTest-mae:1.00374\n",
            "[216]\tTest-mae:1.00145\n",
            "[217]\tTest-mae:0.99915\n",
            "[218]\tTest-mae:0.99700\n",
            "[219]\tTest-mae:0.99467\n",
            "[220]\tTest-mae:0.99235\n",
            "[221]\tTest-mae:0.99018\n",
            "[222]\tTest-mae:0.98791\n",
            "[223]\tTest-mae:0.98551\n",
            "[224]\tTest-mae:0.98324\n",
            "[225]\tTest-mae:0.98105\n",
            "[226]\tTest-mae:0.97879\n",
            "[227]\tTest-mae:0.97661\n",
            "[228]\tTest-mae:0.97422\n",
            "[229]\tTest-mae:0.97185\n",
            "[230]\tTest-mae:0.96961\n",
            "[231]\tTest-mae:0.96750\n",
            "[232]\tTest-mae:0.96553\n",
            "[233]\tTest-mae:0.96340\n",
            "[234]\tTest-mae:0.96127\n",
            "[235]\tTest-mae:0.95905\n",
            "[236]\tTest-mae:0.95688\n",
            "[237]\tTest-mae:0.95487\n",
            "[238]\tTest-mae:0.95278\n",
            "[239]\tTest-mae:0.95061\n",
            "[240]\tTest-mae:0.94846\n",
            "[241]\tTest-mae:0.94654\n",
            "[242]\tTest-mae:0.94444\n",
            "[243]\tTest-mae:0.94249\n",
            "[244]\tTest-mae:0.94052\n",
            "[245]\tTest-mae:0.93845\n",
            "[246]\tTest-mae:0.93633\n",
            "[247]\tTest-mae:0.93436\n",
            "[248]\tTest-mae:0.93236\n",
            "[249]\tTest-mae:0.93017\n",
            "[250]\tTest-mae:0.92809\n",
            "[251]\tTest-mae:0.92594\n",
            "[252]\tTest-mae:0.92387\n",
            "[253]\tTest-mae:0.92187\n",
            "[254]\tTest-mae:0.91986\n",
            "[255]\tTest-mae:0.91783\n",
            "[256]\tTest-mae:0.91584\n",
            "[257]\tTest-mae:0.91385\n",
            "[258]\tTest-mae:0.91193\n",
            "[259]\tTest-mae:0.91011\n",
            "[260]\tTest-mae:0.90817\n",
            "[261]\tTest-mae:0.90644\n",
            "[262]\tTest-mae:0.90444\n",
            "[263]\tTest-mae:0.90257\n",
            "[264]\tTest-mae:0.90060\n",
            "[265]\tTest-mae:0.89861\n",
            "[266]\tTest-mae:0.89678\n",
            "[267]\tTest-mae:0.89479\n",
            "[268]\tTest-mae:0.89300\n",
            "[269]\tTest-mae:0.89111\n",
            "[270]\tTest-mae:0.88926\n",
            "[271]\tTest-mae:0.88738\n",
            "[272]\tTest-mae:0.88547\n",
            "[273]\tTest-mae:0.88376\n",
            "[274]\tTest-mae:0.88190\n",
            "[275]\tTest-mae:0.88014\n",
            "[276]\tTest-mae:0.87843\n",
            "[277]\tTest-mae:0.87671\n",
            "[278]\tTest-mae:0.87500\n",
            "[279]\tTest-mae:0.87322\n",
            "[280]\tTest-mae:0.87149\n",
            "[281]\tTest-mae:0.86960\n",
            "[282]\tTest-mae:0.86785\n",
            "[283]\tTest-mae:0.86628\n",
            "[284]\tTest-mae:0.86457\n",
            "[285]\tTest-mae:0.86274\n",
            "[286]\tTest-mae:0.86098\n",
            "[287]\tTest-mae:0.85934\n",
            "[288]\tTest-mae:0.85776\n",
            "[289]\tTest-mae:0.85610\n",
            "[290]\tTest-mae:0.85447\n",
            "[291]\tTest-mae:0.85273\n",
            "[292]\tTest-mae:0.85105\n",
            "[293]\tTest-mae:0.84945\n",
            "[294]\tTest-mae:0.84785\n",
            "[295]\tTest-mae:0.84616\n",
            "[296]\tTest-mae:0.84461\n",
            "[297]\tTest-mae:0.84304\n",
            "[298]\tTest-mae:0.84142\n",
            "[299]\tTest-mae:0.83987\n",
            "[300]\tTest-mae:0.83833\n",
            "[301]\tTest-mae:0.83662\n",
            "[302]\tTest-mae:0.83495\n",
            "[303]\tTest-mae:0.83336\n",
            "[304]\tTest-mae:0.83183\n",
            "[305]\tTest-mae:0.83025\n",
            "[306]\tTest-mae:0.82867\n",
            "[307]\tTest-mae:0.82706\n",
            "[308]\tTest-mae:0.82548\n",
            "[309]\tTest-mae:0.82394\n",
            "[310]\tTest-mae:0.82236\n",
            "[311]\tTest-mae:0.82087\n",
            "[312]\tTest-mae:0.81931\n",
            "[313]\tTest-mae:0.81784\n",
            "[314]\tTest-mae:0.81630\n",
            "[315]\tTest-mae:0.81483\n",
            "[316]\tTest-mae:0.81338\n",
            "[317]\tTest-mae:0.81186\n",
            "[318]\tTest-mae:0.81031\n",
            "[319]\tTest-mae:0.80884\n",
            "[320]\tTest-mae:0.80731\n",
            "[321]\tTest-mae:0.80581\n",
            "[322]\tTest-mae:0.80432\n",
            "[323]\tTest-mae:0.80295\n",
            "[324]\tTest-mae:0.80145\n",
            "[325]\tTest-mae:0.80006\n",
            "[326]\tTest-mae:0.79861\n",
            "[327]\tTest-mae:0.79724\n",
            "[328]\tTest-mae:0.79583\n",
            "[329]\tTest-mae:0.79440\n",
            "[330]\tTest-mae:0.79301\n",
            "[331]\tTest-mae:0.79157\n",
            "[332]\tTest-mae:0.79025\n",
            "[333]\tTest-mae:0.78886\n",
            "[334]\tTest-mae:0.78743\n",
            "[335]\tTest-mae:0.78594\n",
            "[336]\tTest-mae:0.78456\n",
            "[337]\tTest-mae:0.78310\n",
            "[338]\tTest-mae:0.78185\n",
            "[339]\tTest-mae:0.78044\n",
            "[340]\tTest-mae:0.77915\n",
            "[341]\tTest-mae:0.77780\n",
            "[342]\tTest-mae:0.77647\n",
            "[343]\tTest-mae:0.77526\n",
            "[344]\tTest-mae:0.77393\n",
            "[345]\tTest-mae:0.77255\n",
            "[346]\tTest-mae:0.77125\n",
            "[347]\tTest-mae:0.76988\n",
            "[348]\tTest-mae:0.76861\n",
            "[349]\tTest-mae:0.76730\n",
            "[350]\tTest-mae:0.76601\n",
            "[351]\tTest-mae:0.76472\n",
            "[352]\tTest-mae:0.76338\n",
            "[353]\tTest-mae:0.76202\n",
            "[354]\tTest-mae:0.76078\n",
            "[355]\tTest-mae:0.75943\n",
            "[356]\tTest-mae:0.75816\n",
            "[357]\tTest-mae:0.75706\n",
            "[358]\tTest-mae:0.75573\n",
            "[359]\tTest-mae:0.75452\n",
            "[360]\tTest-mae:0.75323\n",
            "[361]\tTest-mae:0.75199\n",
            "[362]\tTest-mae:0.75071\n",
            "[363]\tTest-mae:0.74953\n",
            "[364]\tTest-mae:0.74831\n",
            "[365]\tTest-mae:0.74703\n",
            "[366]\tTest-mae:0.74566\n",
            "[367]\tTest-mae:0.74447\n",
            "[368]\tTest-mae:0.74329\n",
            "[369]\tTest-mae:0.74216\n",
            "[370]\tTest-mae:0.74097\n",
            "[371]\tTest-mae:0.73982\n",
            "[372]\tTest-mae:0.73856\n",
            "[373]\tTest-mae:0.73736\n",
            "[374]\tTest-mae:0.73620\n",
            "[375]\tTest-mae:0.73519\n",
            "[376]\tTest-mae:0.73408\n",
            "[377]\tTest-mae:0.73282\n",
            "[378]\tTest-mae:0.73163\n",
            "[379]\tTest-mae:0.73051\n",
            "[380]\tTest-mae:0.72930\n",
            "[381]\tTest-mae:0.72816\n",
            "[382]\tTest-mae:0.72699\n",
            "[383]\tTest-mae:0.72585\n",
            "[384]\tTest-mae:0.72467\n",
            "[385]\tTest-mae:0.72352\n",
            "[386]\tTest-mae:0.72247\n",
            "[387]\tTest-mae:0.72140\n",
            "[388]\tTest-mae:0.72037\n",
            "[389]\tTest-mae:0.71914\n",
            "[390]\tTest-mae:0.71805\n",
            "[391]\tTest-mae:0.71707\n",
            "[392]\tTest-mae:0.71605\n",
            "[393]\tTest-mae:0.71483\n",
            "[394]\tTest-mae:0.71377\n",
            "[395]\tTest-mae:0.71271\n",
            "[396]\tTest-mae:0.71154\n",
            "[397]\tTest-mae:0.71045\n",
            "[398]\tTest-mae:0.70935\n",
            "[399]\tTest-mae:0.70833\n",
            "[400]\tTest-mae:0.70729\n",
            "[401]\tTest-mae:0.70620\n",
            "[402]\tTest-mae:0.70511\n",
            "[403]\tTest-mae:0.70405\n",
            "[404]\tTest-mae:0.70304\n",
            "[405]\tTest-mae:0.70198\n",
            "[406]\tTest-mae:0.70093\n",
            "[407]\tTest-mae:0.69999\n",
            "[408]\tTest-mae:0.69889\n",
            "[409]\tTest-mae:0.69793\n",
            "[410]\tTest-mae:0.69684\n",
            "[411]\tTest-mae:0.69588\n",
            "[412]\tTest-mae:0.69483\n",
            "[413]\tTest-mae:0.69386\n",
            "[414]\tTest-mae:0.69286\n",
            "[415]\tTest-mae:0.69186\n",
            "[416]\tTest-mae:0.69085\n",
            "[417]\tTest-mae:0.68987\n",
            "[418]\tTest-mae:0.68890\n",
            "[419]\tTest-mae:0.68793\n",
            "[420]\tTest-mae:0.68690\n",
            "[421]\tTest-mae:0.68589\n",
            "[422]\tTest-mae:0.68491\n",
            "[423]\tTest-mae:0.68408\n",
            "[424]\tTest-mae:0.68326\n",
            "[425]\tTest-mae:0.68236\n",
            "[426]\tTest-mae:0.68143\n",
            "[427]\tTest-mae:0.68057\n",
            "[428]\tTest-mae:0.67961\n",
            "[429]\tTest-mae:0.67871\n",
            "[430]\tTest-mae:0.67781\n",
            "[431]\tTest-mae:0.67695\n",
            "[432]\tTest-mae:0.67600\n",
            "[433]\tTest-mae:0.67509\n",
            "[434]\tTest-mae:0.67419\n",
            "[435]\tTest-mae:0.67337\n",
            "[436]\tTest-mae:0.67243\n",
            "[437]\tTest-mae:0.67155\n",
            "[438]\tTest-mae:0.67061\n",
            "[439]\tTest-mae:0.66971\n",
            "[440]\tTest-mae:0.66876\n",
            "[441]\tTest-mae:0.66781\n",
            "[442]\tTest-mae:0.66684\n",
            "[443]\tTest-mae:0.66604\n",
            "[444]\tTest-mae:0.66515\n",
            "[445]\tTest-mae:0.66423\n",
            "[446]\tTest-mae:0.66334\n",
            "[447]\tTest-mae:0.66250\n",
            "[448]\tTest-mae:0.66159\n",
            "[449]\tTest-mae:0.66062\n",
            "[450]\tTest-mae:0.65978\n",
            "[451]\tTest-mae:0.65897\n",
            "[452]\tTest-mae:0.65815\n",
            "[453]\tTest-mae:0.65723\n",
            "[454]\tTest-mae:0.65642\n",
            "[455]\tTest-mae:0.65558\n",
            "[456]\tTest-mae:0.65470\n",
            "[457]\tTest-mae:0.65381\n",
            "[458]\tTest-mae:0.65298\n",
            "[459]\tTest-mae:0.65207\n",
            "[460]\tTest-mae:0.65124\n",
            "[461]\tTest-mae:0.65040\n",
            "[462]\tTest-mae:0.64957\n",
            "[463]\tTest-mae:0.64885\n",
            "[464]\tTest-mae:0.64806\n",
            "[465]\tTest-mae:0.64720\n",
            "[466]\tTest-mae:0.64639\n",
            "[467]\tTest-mae:0.64557\n",
            "[468]\tTest-mae:0.64480\n",
            "[469]\tTest-mae:0.64406\n",
            "[470]\tTest-mae:0.64318\n",
            "[471]\tTest-mae:0.64237\n",
            "[472]\tTest-mae:0.64154\n",
            "[473]\tTest-mae:0.64085\n",
            "[474]\tTest-mae:0.64016\n",
            "[475]\tTest-mae:0.63940\n",
            "[476]\tTest-mae:0.63857\n",
            "[477]\tTest-mae:0.63785\n",
            "[478]\tTest-mae:0.63706\n",
            "[479]\tTest-mae:0.63634\n",
            "[480]\tTest-mae:0.63561\n",
            "[481]\tTest-mae:0.63483\n",
            "[482]\tTest-mae:0.63404\n",
            "[483]\tTest-mae:0.63330\n",
            "[484]\tTest-mae:0.63251\n",
            "[485]\tTest-mae:0.63180\n",
            "[486]\tTest-mae:0.63109\n",
            "[487]\tTest-mae:0.63034\n",
            "[488]\tTest-mae:0.62958\n",
            "[489]\tTest-mae:0.62883\n",
            "[490]\tTest-mae:0.62812\n",
            "[491]\tTest-mae:0.62750\n",
            "[492]\tTest-mae:0.62681\n",
            "[493]\tTest-mae:0.62605\n",
            "[494]\tTest-mae:0.62529\n",
            "[495]\tTest-mae:0.62457\n",
            "[496]\tTest-mae:0.62388\n",
            "[497]\tTest-mae:0.62326\n",
            "[498]\tTest-mae:0.62251\n",
            "[499]\tTest-mae:0.62194\n",
            "[500]\tTest-mae:0.62112\n",
            "[501]\tTest-mae:0.62043\n",
            "[502]\tTest-mae:0.61982\n",
            "[503]\tTest-mae:0.61915\n",
            "[504]\tTest-mae:0.61847\n",
            "[505]\tTest-mae:0.61776\n",
            "[506]\tTest-mae:0.61709\n",
            "[507]\tTest-mae:0.61642\n",
            "[508]\tTest-mae:0.61571\n",
            "[509]\tTest-mae:0.61500\n",
            "[510]\tTest-mae:0.61439\n",
            "[511]\tTest-mae:0.61375\n",
            "[512]\tTest-mae:0.61312\n",
            "[513]\tTest-mae:0.61256\n",
            "[514]\tTest-mae:0.61181\n",
            "[515]\tTest-mae:0.61118\n",
            "[516]\tTest-mae:0.61054\n",
            "[517]\tTest-mae:0.60985\n",
            "[518]\tTest-mae:0.60926\n",
            "[519]\tTest-mae:0.60865\n",
            "[520]\tTest-mae:0.60803\n",
            "[521]\tTest-mae:0.60742\n",
            "[522]\tTest-mae:0.60681\n",
            "[523]\tTest-mae:0.60619\n",
            "[524]\tTest-mae:0.60557\n",
            "[525]\tTest-mae:0.60498\n",
            "[526]\tTest-mae:0.60432\n",
            "[527]\tTest-mae:0.60366\n",
            "[528]\tTest-mae:0.60296\n",
            "[529]\tTest-mae:0.60249\n",
            "[530]\tTest-mae:0.60180\n",
            "[531]\tTest-mae:0.60111\n",
            "[532]\tTest-mae:0.60052\n",
            "[533]\tTest-mae:0.59992\n",
            "[534]\tTest-mae:0.59937\n",
            "[535]\tTest-mae:0.59876\n",
            "[536]\tTest-mae:0.59817\n",
            "[537]\tTest-mae:0.59742\n",
            "[538]\tTest-mae:0.59673\n",
            "[539]\tTest-mae:0.59613\n",
            "[540]\tTest-mae:0.59553\n",
            "[541]\tTest-mae:0.59494\n",
            "[542]\tTest-mae:0.59441\n",
            "[543]\tTest-mae:0.59375\n",
            "[544]\tTest-mae:0.59315\n",
            "[545]\tTest-mae:0.59263\n",
            "[546]\tTest-mae:0.59210\n",
            "[547]\tTest-mae:0.59156\n",
            "[548]\tTest-mae:0.59093\n",
            "[549]\tTest-mae:0.59033\n",
            "[550]\tTest-mae:0.58978\n",
            "[551]\tTest-mae:0.58922\n",
            "[552]\tTest-mae:0.58864\n",
            "[553]\tTest-mae:0.58809\n",
            "[554]\tTest-mae:0.58755\n",
            "[555]\tTest-mae:0.58707\n",
            "[556]\tTest-mae:0.58654\n",
            "[557]\tTest-mae:0.58604\n",
            "[558]\tTest-mae:0.58555\n",
            "[559]\tTest-mae:0.58498\n",
            "[560]\tTest-mae:0.58443\n",
            "[561]\tTest-mae:0.58392\n",
            "[562]\tTest-mae:0.58337\n",
            "[563]\tTest-mae:0.58294\n",
            "[564]\tTest-mae:0.58238\n",
            "[565]\tTest-mae:0.58179\n",
            "[566]\tTest-mae:0.58125\n",
            "[567]\tTest-mae:0.58076\n",
            "[568]\tTest-mae:0.58021\n",
            "[569]\tTest-mae:0.57965\n",
            "[570]\tTest-mae:0.57916\n",
            "[571]\tTest-mae:0.57863\n",
            "[572]\tTest-mae:0.57814\n",
            "[573]\tTest-mae:0.57762\n",
            "[574]\tTest-mae:0.57711\n",
            "[575]\tTest-mae:0.57653\n",
            "[576]\tTest-mae:0.57598\n",
            "[577]\tTest-mae:0.57556\n",
            "[578]\tTest-mae:0.57501\n",
            "[579]\tTest-mae:0.57443\n",
            "[580]\tTest-mae:0.57388\n",
            "[581]\tTest-mae:0.57338\n",
            "[582]\tTest-mae:0.57299\n",
            "[583]\tTest-mae:0.57250\n",
            "[584]\tTest-mae:0.57205\n",
            "[585]\tTest-mae:0.57156\n",
            "[586]\tTest-mae:0.57103\n",
            "[587]\tTest-mae:0.57055\n",
            "[588]\tTest-mae:0.57003\n",
            "[589]\tTest-mae:0.56951\n",
            "[590]\tTest-mae:0.56903\n",
            "[591]\tTest-mae:0.56847\n",
            "[592]\tTest-mae:0.56791\n",
            "[593]\tTest-mae:0.56745\n",
            "[594]\tTest-mae:0.56694\n",
            "[595]\tTest-mae:0.56651\n",
            "[596]\tTest-mae:0.56609\n",
            "[597]\tTest-mae:0.56556\n",
            "[598]\tTest-mae:0.56506\n",
            "[599]\tTest-mae:0.56459\n",
            "[600]\tTest-mae:0.56410\n",
            "[601]\tTest-mae:0.56365\n",
            "[602]\tTest-mae:0.56322\n",
            "[603]\tTest-mae:0.56280\n",
            "[604]\tTest-mae:0.56235\n",
            "[605]\tTest-mae:0.56196\n",
            "[606]\tTest-mae:0.56161\n",
            "[607]\tTest-mae:0.56109\n",
            "[608]\tTest-mae:0.56059\n",
            "[609]\tTest-mae:0.56018\n",
            "[610]\tTest-mae:0.55973\n",
            "[611]\tTest-mae:0.55929\n",
            "[612]\tTest-mae:0.55883\n",
            "[613]\tTest-mae:0.55840\n",
            "[614]\tTest-mae:0.55798\n",
            "[615]\tTest-mae:0.55758\n",
            "[616]\tTest-mae:0.55710\n",
            "[617]\tTest-mae:0.55671\n",
            "[618]\tTest-mae:0.55627\n",
            "[619]\tTest-mae:0.55586\n",
            "[620]\tTest-mae:0.55547\n",
            "[621]\tTest-mae:0.55514\n",
            "[622]\tTest-mae:0.55475\n",
            "[623]\tTest-mae:0.55434\n",
            "[624]\tTest-mae:0.55393\n",
            "[625]\tTest-mae:0.55347\n",
            "[626]\tTest-mae:0.55308\n",
            "[627]\tTest-mae:0.55262\n",
            "[628]\tTest-mae:0.55223\n",
            "[629]\tTest-mae:0.55183\n",
            "[630]\tTest-mae:0.55144\n",
            "[631]\tTest-mae:0.55106\n",
            "[632]\tTest-mae:0.55065\n",
            "[633]\tTest-mae:0.55027\n",
            "[634]\tTest-mae:0.54976\n",
            "[635]\tTest-mae:0.54945\n",
            "[636]\tTest-mae:0.54908\n",
            "[637]\tTest-mae:0.54866\n",
            "[638]\tTest-mae:0.54828\n",
            "[639]\tTest-mae:0.54793\n",
            "[640]\tTest-mae:0.54754\n",
            "[641]\tTest-mae:0.54718\n",
            "[642]\tTest-mae:0.54687\n",
            "[643]\tTest-mae:0.54654\n",
            "[644]\tTest-mae:0.54614\n",
            "[645]\tTest-mae:0.54581\n",
            "[646]\tTest-mae:0.54549\n",
            "[647]\tTest-mae:0.54513\n",
            "[648]\tTest-mae:0.54480\n",
            "[649]\tTest-mae:0.54443\n",
            "[650]\tTest-mae:0.54404\n",
            "[651]\tTest-mae:0.54379\n",
            "[652]\tTest-mae:0.54338\n",
            "[653]\tTest-mae:0.54294\n",
            "[654]\tTest-mae:0.54263\n",
            "[655]\tTest-mae:0.54226\n",
            "[656]\tTest-mae:0.54189\n",
            "[657]\tTest-mae:0.54158\n",
            "[658]\tTest-mae:0.54122\n",
            "[659]\tTest-mae:0.54090\n",
            "[660]\tTest-mae:0.54051\n",
            "[661]\tTest-mae:0.54014\n",
            "[662]\tTest-mae:0.53986\n",
            "[663]\tTest-mae:0.53950\n",
            "[664]\tTest-mae:0.53918\n",
            "[665]\tTest-mae:0.53888\n",
            "[666]\tTest-mae:0.53852\n",
            "[667]\tTest-mae:0.53809\n",
            "[668]\tTest-mae:0.53774\n",
            "[669]\tTest-mae:0.53739\n",
            "[670]\tTest-mae:0.53707\n",
            "[671]\tTest-mae:0.53671\n",
            "[672]\tTest-mae:0.53635\n",
            "[673]\tTest-mae:0.53595\n",
            "[674]\tTest-mae:0.53556\n",
            "[675]\tTest-mae:0.53528\n",
            "[676]\tTest-mae:0.53497\n",
            "[677]\tTest-mae:0.53468\n",
            "[678]\tTest-mae:0.53430\n",
            "[679]\tTest-mae:0.53392\n",
            "[680]\tTest-mae:0.53362\n",
            "[681]\tTest-mae:0.53330\n",
            "[682]\tTest-mae:0.53289\n",
            "[683]\tTest-mae:0.53256\n",
            "[684]\tTest-mae:0.53217\n",
            "[685]\tTest-mae:0.53189\n",
            "[686]\tTest-mae:0.53157\n",
            "[687]\tTest-mae:0.53127\n",
            "[688]\tTest-mae:0.53095\n",
            "[689]\tTest-mae:0.53061\n",
            "[690]\tTest-mae:0.53030\n",
            "[691]\tTest-mae:0.52995\n",
            "[692]\tTest-mae:0.52963\n",
            "[693]\tTest-mae:0.52930\n",
            "[694]\tTest-mae:0.52902\n",
            "[695]\tTest-mae:0.52878\n",
            "[696]\tTest-mae:0.52846\n",
            "[697]\tTest-mae:0.52815\n",
            "[698]\tTest-mae:0.52786\n",
            "[699]\tTest-mae:0.52754\n",
            "[700]\tTest-mae:0.52724\n",
            "[701]\tTest-mae:0.52689\n",
            "[702]\tTest-mae:0.52658\n",
            "[703]\tTest-mae:0.52633\n",
            "[704]\tTest-mae:0.52606\n",
            "[705]\tTest-mae:0.52577\n",
            "[706]\tTest-mae:0.52552\n",
            "[707]\tTest-mae:0.52525\n",
            "[708]\tTest-mae:0.52500\n",
            "[709]\tTest-mae:0.52469\n",
            "[710]\tTest-mae:0.52446\n",
            "[711]\tTest-mae:0.52413\n",
            "[712]\tTest-mae:0.52378\n",
            "[713]\tTest-mae:0.52352\n",
            "[714]\tTest-mae:0.52316\n",
            "[715]\tTest-mae:0.52288\n",
            "[716]\tTest-mae:0.52257\n",
            "[717]\tTest-mae:0.52223\n",
            "[718]\tTest-mae:0.52194\n",
            "[719]\tTest-mae:0.52164\n",
            "[720]\tTest-mae:0.52132\n",
            "[721]\tTest-mae:0.52106\n",
            "[722]\tTest-mae:0.52084\n",
            "[723]\tTest-mae:0.52059\n",
            "[724]\tTest-mae:0.52031\n",
            "[725]\tTest-mae:0.51998\n",
            "[726]\tTest-mae:0.51974\n",
            "[727]\tTest-mae:0.51947\n",
            "[728]\tTest-mae:0.51921\n",
            "[729]\tTest-mae:0.51889\n",
            "[730]\tTest-mae:0.51862\n",
            "[731]\tTest-mae:0.51832\n",
            "[732]\tTest-mae:0.51810\n",
            "[733]\tTest-mae:0.51789\n",
            "[734]\tTest-mae:0.51764\n",
            "[735]\tTest-mae:0.51742\n",
            "[736]\tTest-mae:0.51714\n",
            "[737]\tTest-mae:0.51691\n",
            "[738]\tTest-mae:0.51658\n",
            "[739]\tTest-mae:0.51627\n",
            "[740]\tTest-mae:0.51606\n",
            "[741]\tTest-mae:0.51579\n",
            "[742]\tTest-mae:0.51554\n",
            "[743]\tTest-mae:0.51533\n",
            "[744]\tTest-mae:0.51500\n",
            "[745]\tTest-mae:0.51473\n",
            "[746]\tTest-mae:0.51454\n",
            "[747]\tTest-mae:0.51431\n",
            "[748]\tTest-mae:0.51405\n",
            "[749]\tTest-mae:0.51382\n",
            "[750]\tTest-mae:0.51358\n",
            "[751]\tTest-mae:0.51332\n",
            "[752]\tTest-mae:0.51307\n",
            "[753]\tTest-mae:0.51287\n",
            "[754]\tTest-mae:0.51266\n",
            "[755]\tTest-mae:0.51244\n",
            "[756]\tTest-mae:0.51221\n",
            "[757]\tTest-mae:0.51194\n",
            "[758]\tTest-mae:0.51172\n",
            "[759]\tTest-mae:0.51152\n",
            "[760]\tTest-mae:0.51135\n",
            "[761]\tTest-mae:0.51112\n",
            "[762]\tTest-mae:0.51088\n",
            "[763]\tTest-mae:0.51065\n",
            "[764]\tTest-mae:0.51043\n",
            "[765]\tTest-mae:0.51023\n",
            "[766]\tTest-mae:0.51004\n",
            "[767]\tTest-mae:0.50984\n",
            "[768]\tTest-mae:0.50964\n",
            "[769]\tTest-mae:0.50942\n",
            "[770]\tTest-mae:0.50920\n",
            "[771]\tTest-mae:0.50898\n",
            "[772]\tTest-mae:0.50879\n",
            "[773]\tTest-mae:0.50854\n",
            "[774]\tTest-mae:0.50829\n",
            "[775]\tTest-mae:0.50809\n",
            "[776]\tTest-mae:0.50792\n",
            "[777]\tTest-mae:0.50774\n",
            "[778]\tTest-mae:0.50750\n",
            "[779]\tTest-mae:0.50731\n",
            "[780]\tTest-mae:0.50708\n",
            "[781]\tTest-mae:0.50686\n",
            "[782]\tTest-mae:0.50665\n",
            "[783]\tTest-mae:0.50640\n",
            "[784]\tTest-mae:0.50621\n",
            "[785]\tTest-mae:0.50603\n",
            "[786]\tTest-mae:0.50584\n",
            "[787]\tTest-mae:0.50558\n",
            "[788]\tTest-mae:0.50526\n",
            "[789]\tTest-mae:0.50510\n",
            "[790]\tTest-mae:0.50489\n",
            "[791]\tTest-mae:0.50470\n",
            "[792]\tTest-mae:0.50451\n",
            "[793]\tTest-mae:0.50432\n",
            "[794]\tTest-mae:0.50410\n",
            "[795]\tTest-mae:0.50387\n",
            "[796]\tTest-mae:0.50362\n",
            "[797]\tTest-mae:0.50335\n",
            "[798]\tTest-mae:0.50312\n",
            "[799]\tTest-mae:0.50291\n",
            "[800]\tTest-mae:0.50270\n",
            "[801]\tTest-mae:0.50251\n",
            "[802]\tTest-mae:0.50233\n",
            "[803]\tTest-mae:0.50217\n",
            "[804]\tTest-mae:0.50201\n",
            "[805]\tTest-mae:0.50184\n",
            "[806]\tTest-mae:0.50165\n",
            "[807]\tTest-mae:0.50145\n",
            "[808]\tTest-mae:0.50128\n",
            "[809]\tTest-mae:0.50109\n",
            "[810]\tTest-mae:0.50092\n",
            "[811]\tTest-mae:0.50075\n",
            "[812]\tTest-mae:0.50058\n",
            "[813]\tTest-mae:0.50039\n",
            "[814]\tTest-mae:0.50018\n",
            "[815]\tTest-mae:0.49997\n",
            "[816]\tTest-mae:0.49982\n",
            "[817]\tTest-mae:0.49964\n",
            "[818]\tTest-mae:0.49946\n",
            "[819]\tTest-mae:0.49923\n",
            "[820]\tTest-mae:0.49903\n",
            "[821]\tTest-mae:0.49883\n",
            "[822]\tTest-mae:0.49869\n",
            "[823]\tTest-mae:0.49855\n",
            "[824]\tTest-mae:0.49839\n",
            "[825]\tTest-mae:0.49824\n",
            "[826]\tTest-mae:0.49808\n",
            "[827]\tTest-mae:0.49786\n",
            "[828]\tTest-mae:0.49765\n",
            "[829]\tTest-mae:0.49742\n",
            "[830]\tTest-mae:0.49724\n",
            "[831]\tTest-mae:0.49707\n",
            "[832]\tTest-mae:0.49690\n",
            "[833]\tTest-mae:0.49669\n",
            "[834]\tTest-mae:0.49655\n",
            "[835]\tTest-mae:0.49643\n",
            "[836]\tTest-mae:0.49631\n",
            "[837]\tTest-mae:0.49616\n",
            "[838]\tTest-mae:0.49595\n",
            "[839]\tTest-mae:0.49579\n",
            "[840]\tTest-mae:0.49562\n",
            "[841]\tTest-mae:0.49543\n",
            "[842]\tTest-mae:0.49525\n",
            "[843]\tTest-mae:0.49512\n",
            "[844]\tTest-mae:0.49494\n",
            "[845]\tTest-mae:0.49477\n",
            "[846]\tTest-mae:0.49459\n",
            "[847]\tTest-mae:0.49444\n",
            "[848]\tTest-mae:0.49431\n",
            "[849]\tTest-mae:0.49416\n",
            "[850]\tTest-mae:0.49401\n",
            "[851]\tTest-mae:0.49385\n",
            "[852]\tTest-mae:0.49376\n",
            "[853]\tTest-mae:0.49364\n",
            "[854]\tTest-mae:0.49349\n",
            "[855]\tTest-mae:0.49337\n",
            "[856]\tTest-mae:0.49326\n",
            "[857]\tTest-mae:0.49306\n",
            "[858]\tTest-mae:0.49291\n",
            "[859]\tTest-mae:0.49277\n",
            "[860]\tTest-mae:0.49260\n",
            "[861]\tTest-mae:0.49242\n",
            "[862]\tTest-mae:0.49227\n",
            "[863]\tTest-mae:0.49216\n",
            "[864]\tTest-mae:0.49201\n",
            "[865]\tTest-mae:0.49185\n",
            "[866]\tTest-mae:0.49167\n",
            "[867]\tTest-mae:0.49153\n",
            "[868]\tTest-mae:0.49136\n",
            "[869]\tTest-mae:0.49125\n",
            "[870]\tTest-mae:0.49109\n",
            "[871]\tTest-mae:0.49093\n",
            "[872]\tTest-mae:0.49080\n",
            "[873]\tTest-mae:0.49075\n",
            "[874]\tTest-mae:0.49058\n",
            "[875]\tTest-mae:0.49044\n",
            "[876]\tTest-mae:0.49034\n",
            "[877]\tTest-mae:0.49021\n",
            "[878]\tTest-mae:0.49009\n",
            "[879]\tTest-mae:0.49000\n",
            "[880]\tTest-mae:0.48984\n",
            "[881]\tTest-mae:0.48970\n",
            "[882]\tTest-mae:0.48955\n",
            "[883]\tTest-mae:0.48935\n",
            "[884]\tTest-mae:0.48917\n",
            "[885]\tTest-mae:0.48897\n",
            "[886]\tTest-mae:0.48883\n",
            "[887]\tTest-mae:0.48874\n",
            "[888]\tTest-mae:0.48863\n",
            "[889]\tTest-mae:0.48847\n",
            "[890]\tTest-mae:0.48842\n",
            "[891]\tTest-mae:0.48828\n",
            "[892]\tTest-mae:0.48813\n",
            "[893]\tTest-mae:0.48802\n",
            "[894]\tTest-mae:0.48787\n",
            "[895]\tTest-mae:0.48773\n",
            "[896]\tTest-mae:0.48760\n",
            "[897]\tTest-mae:0.48749\n",
            "[898]\tTest-mae:0.48734\n",
            "[899]\tTest-mae:0.48718\n",
            "[900]\tTest-mae:0.48707\n",
            "[901]\tTest-mae:0.48689\n",
            "[902]\tTest-mae:0.48677\n",
            "[903]\tTest-mae:0.48662\n",
            "[904]\tTest-mae:0.48652\n",
            "[905]\tTest-mae:0.48632\n",
            "[906]\tTest-mae:0.48618\n",
            "[907]\tTest-mae:0.48611\n",
            "[908]\tTest-mae:0.48601\n",
            "[909]\tTest-mae:0.48588\n",
            "[910]\tTest-mae:0.48572\n",
            "[911]\tTest-mae:0.48560\n",
            "[912]\tTest-mae:0.48549\n",
            "[913]\tTest-mae:0.48532\n",
            "[914]\tTest-mae:0.48515\n",
            "[915]\tTest-mae:0.48502\n",
            "[916]\tTest-mae:0.48485\n",
            "[917]\tTest-mae:0.48470\n",
            "[918]\tTest-mae:0.48459\n",
            "[919]\tTest-mae:0.48445\n",
            "[920]\tTest-mae:0.48432\n",
            "[921]\tTest-mae:0.48425\n",
            "[922]\tTest-mae:0.48412\n",
            "[923]\tTest-mae:0.48402\n",
            "[924]\tTest-mae:0.48391\n",
            "[925]\tTest-mae:0.48375\n",
            "[926]\tTest-mae:0.48366\n",
            "[927]\tTest-mae:0.48354\n",
            "[928]\tTest-mae:0.48341\n",
            "[929]\tTest-mae:0.48330\n",
            "[930]\tTest-mae:0.48322\n",
            "[931]\tTest-mae:0.48312\n",
            "[932]\tTest-mae:0.48301\n",
            "[933]\tTest-mae:0.48287\n",
            "[934]\tTest-mae:0.48281\n",
            "[935]\tTest-mae:0.48266\n",
            "[936]\tTest-mae:0.48249\n",
            "[937]\tTest-mae:0.48240\n",
            "[938]\tTest-mae:0.48229\n",
            "[939]\tTest-mae:0.48221\n",
            "[940]\tTest-mae:0.48207\n",
            "[941]\tTest-mae:0.48193\n",
            "[942]\tTest-mae:0.48178\n",
            "[943]\tTest-mae:0.48166\n",
            "[944]\tTest-mae:0.48152\n",
            "[945]\tTest-mae:0.48139\n",
            "[946]\tTest-mae:0.48132\n",
            "[947]\tTest-mae:0.48122\n",
            "[948]\tTest-mae:0.48112\n",
            "[949]\tTest-mae:0.48095\n",
            "[950]\tTest-mae:0.48088\n",
            "[951]\tTest-mae:0.48077\n",
            "[952]\tTest-mae:0.48068\n",
            "[953]\tTest-mae:0.48059\n",
            "[954]\tTest-mae:0.48052\n",
            "[955]\tTest-mae:0.48043\n",
            "[956]\tTest-mae:0.48035\n",
            "[957]\tTest-mae:0.48026\n",
            "[958]\tTest-mae:0.48018\n",
            "[959]\tTest-mae:0.48005\n",
            "[960]\tTest-mae:0.47990\n",
            "[961]\tTest-mae:0.47981\n",
            "[962]\tTest-mae:0.47972\n",
            "[963]\tTest-mae:0.47962\n",
            "[964]\tTest-mae:0.47956\n",
            "[965]\tTest-mae:0.47948\n",
            "[966]\tTest-mae:0.47938\n",
            "[967]\tTest-mae:0.47924\n",
            "[968]\tTest-mae:0.47910\n",
            "[969]\tTest-mae:0.47897\n",
            "[970]\tTest-mae:0.47889\n",
            "[971]\tTest-mae:0.47883\n",
            "[972]\tTest-mae:0.47873\n",
            "[973]\tTest-mae:0.47865\n",
            "[974]\tTest-mae:0.47856\n",
            "[975]\tTest-mae:0.47851\n",
            "[976]\tTest-mae:0.47838\n",
            "[977]\tTest-mae:0.47826\n",
            "[978]\tTest-mae:0.47815\n",
            "[979]\tTest-mae:0.47799\n",
            "[980]\tTest-mae:0.47787\n",
            "[981]\tTest-mae:0.47780\n",
            "[982]\tTest-mae:0.47773\n",
            "[983]\tTest-mae:0.47762\n",
            "[984]\tTest-mae:0.47755\n",
            "[985]\tTest-mae:0.47746\n",
            "[986]\tTest-mae:0.47736\n",
            "[987]\tTest-mae:0.47730\n",
            "[988]\tTest-mae:0.47723\n",
            "[989]\tTest-mae:0.47712\n",
            "[990]\tTest-mae:0.47699\n",
            "[991]\tTest-mae:0.47690\n",
            "[992]\tTest-mae:0.47681\n",
            "[993]\tTest-mae:0.47671\n",
            "[994]\tTest-mae:0.47661\n",
            "[995]\tTest-mae:0.47650\n",
            "[996]\tTest-mae:0.47641\n",
            "[997]\tTest-mae:0.47630\n",
            "[998]\tTest-mae:0.47623\n"
          ]
        }
      ]
    },
    {
      "cell_type": "markdown",
      "source": [
        "###### Best MAE: 0.48 in 999 rounds"
      ],
      "metadata": {
        "id": "Ce4wWU4_UKEv"
      }
    },
    {
      "cell_type": "code",
      "source": [
        "num_boost_round = model.best_iteration + 1\n",
        "best_model = xgb.train(\n",
        "    params,\n",
        "    dtrain,\n",
        "    num_boost_round=num_boost_round,\n",
        "    evals=[(dtest, \"Test\")]\n",
        ")"
      ],
      "metadata": {
        "id": "KEqkRfmGT-kq",
        "outputId": "263a820f-9b2c-4e33-a596-62dca1bf1a10",
        "colab": {
          "base_uri": "https://localhost:8080/"
        }
      },
      "execution_count": 435,
      "outputs": [
        {
          "output_type": "stream",
          "name": "stdout",
          "text": [
            "[0]\tTest-mae:1.78090\n",
            "[1]\tTest-mae:1.71980\n",
            "[2]\tTest-mae:1.66149\n",
            "[3]\tTest-mae:1.60553\n",
            "[4]\tTest-mae:1.55245\n",
            "[5]\tTest-mae:1.50231\n",
            "[6]\tTest-mae:1.45513\n",
            "[7]\tTest-mae:1.40979\n",
            "[8]\tTest-mae:1.36594\n",
            "[9]\tTest-mae:1.32405\n",
            "[10]\tTest-mae:1.28574\n",
            "[11]\tTest-mae:1.24842\n",
            "[12]\tTest-mae:1.21227\n",
            "[13]\tTest-mae:1.17828\n",
            "[14]\tTest-mae:1.14672\n",
            "[15]\tTest-mae:1.11523\n",
            "[16]\tTest-mae:1.08528\n",
            "[17]\tTest-mae:1.05711\n",
            "[18]\tTest-mae:1.02990\n",
            "[19]\tTest-mae:1.00370\n",
            "[20]\tTest-mae:0.98012\n",
            "[21]\tTest-mae:0.95655\n",
            "[22]\tTest-mae:0.93514\n",
            "[23]\tTest-mae:0.91377\n",
            "[24]\tTest-mae:0.89329\n",
            "[25]\tTest-mae:0.87366\n",
            "[26]\tTest-mae:0.85494\n",
            "[27]\tTest-mae:0.83732\n",
            "[28]\tTest-mae:0.82029\n",
            "[29]\tTest-mae:0.80352\n",
            "[30]\tTest-mae:0.78796\n",
            "[31]\tTest-mae:0.77325\n",
            "[32]\tTest-mae:0.75898\n",
            "[33]\tTest-mae:0.74626\n",
            "[34]\tTest-mae:0.73402\n",
            "[35]\tTest-mae:0.72217\n",
            "[36]\tTest-mae:0.71023\n",
            "[37]\tTest-mae:0.69899\n",
            "[38]\tTest-mae:0.68842\n",
            "[39]\tTest-mae:0.67849\n",
            "[40]\tTest-mae:0.66840\n",
            "[41]\tTest-mae:0.65886\n",
            "[42]\tTest-mae:0.65000\n",
            "[43]\tTest-mae:0.64193\n",
            "[44]\tTest-mae:0.63458\n",
            "[45]\tTest-mae:0.62738\n",
            "[46]\tTest-mae:0.62033\n",
            "[47]\tTest-mae:0.61335\n",
            "[48]\tTest-mae:0.60706\n",
            "[49]\tTest-mae:0.60082\n",
            "[50]\tTest-mae:0.59483\n",
            "[51]\tTest-mae:0.58969\n",
            "[52]\tTest-mae:0.58439\n",
            "[53]\tTest-mae:0.57953\n",
            "[54]\tTest-mae:0.57491\n",
            "[55]\tTest-mae:0.57020\n",
            "[56]\tTest-mae:0.56517\n",
            "[57]\tTest-mae:0.56059\n",
            "[58]\tTest-mae:0.55586\n",
            "[59]\tTest-mae:0.55178\n",
            "[60]\tTest-mae:0.54793\n",
            "[61]\tTest-mae:0.54399\n",
            "[62]\tTest-mae:0.54050\n",
            "[63]\tTest-mae:0.53706\n",
            "[64]\tTest-mae:0.53355\n",
            "[65]\tTest-mae:0.52997\n",
            "[66]\tTest-mae:0.52758\n",
            "[67]\tTest-mae:0.52453\n",
            "[68]\tTest-mae:0.52151\n",
            "[69]\tTest-mae:0.51846\n",
            "[70]\tTest-mae:0.51578\n",
            "[71]\tTest-mae:0.51315\n",
            "[72]\tTest-mae:0.51083\n",
            "[73]\tTest-mae:0.50841\n",
            "[74]\tTest-mae:0.50609\n",
            "[75]\tTest-mae:0.50364\n",
            "[76]\tTest-mae:0.50151\n",
            "[77]\tTest-mae:0.49974\n",
            "[78]\tTest-mae:0.49831\n",
            "[79]\tTest-mae:0.49687\n",
            "[80]\tTest-mae:0.49520\n",
            "[81]\tTest-mae:0.49355\n",
            "[82]\tTest-mae:0.49239\n",
            "[83]\tTest-mae:0.49097\n",
            "[84]\tTest-mae:0.48930\n",
            "[85]\tTest-mae:0.48785\n",
            "[86]\tTest-mae:0.48644\n",
            "[87]\tTest-mae:0.48551\n",
            "[88]\tTest-mae:0.48465\n",
            "[89]\tTest-mae:0.48333\n",
            "[90]\tTest-mae:0.48237\n",
            "[91]\tTest-mae:0.48166\n",
            "[92]\tTest-mae:0.48029\n",
            "[93]\tTest-mae:0.47974\n",
            "[94]\tTest-mae:0.47900\n",
            "[95]\tTest-mae:0.47791\n",
            "[96]\tTest-mae:0.47724\n",
            "[97]\tTest-mae:0.47662\n",
            "[98]\tTest-mae:0.47571\n",
            "[99]\tTest-mae:0.47501\n",
            "[100]\tTest-mae:0.47454\n",
            "[101]\tTest-mae:0.47367\n",
            "[102]\tTest-mae:0.47279\n",
            "[103]\tTest-mae:0.47222\n",
            "[104]\tTest-mae:0.47182\n",
            "[105]\tTest-mae:0.47104\n",
            "[106]\tTest-mae:0.47037\n",
            "[107]\tTest-mae:0.47002\n",
            "[108]\tTest-mae:0.46940\n",
            "[109]\tTest-mae:0.46898\n",
            "[110]\tTest-mae:0.46873\n",
            "[111]\tTest-mae:0.46824\n",
            "[112]\tTest-mae:0.46791\n",
            "[113]\tTest-mae:0.46755\n",
            "[114]\tTest-mae:0.46715\n",
            "[115]\tTest-mae:0.46674\n",
            "[116]\tTest-mae:0.46649\n",
            "[117]\tTest-mae:0.46622\n",
            "[118]\tTest-mae:0.46604\n",
            "[119]\tTest-mae:0.46582\n",
            "[120]\tTest-mae:0.46543\n",
            "[121]\tTest-mae:0.46510\n",
            "[122]\tTest-mae:0.46485\n",
            "[123]\tTest-mae:0.46457\n",
            "[124]\tTest-mae:0.46443\n",
            "[125]\tTest-mae:0.46423\n",
            "[126]\tTest-mae:0.46403\n",
            "[127]\tTest-mae:0.46378\n",
            "[128]\tTest-mae:0.46354\n",
            "[129]\tTest-mae:0.46337\n",
            "[130]\tTest-mae:0.46309\n",
            "[131]\tTest-mae:0.46301\n",
            "[132]\tTest-mae:0.46272\n",
            "[133]\tTest-mae:0.46253\n",
            "[134]\tTest-mae:0.46234\n",
            "[135]\tTest-mae:0.46224\n",
            "[136]\tTest-mae:0.46201\n",
            "[137]\tTest-mae:0.46192\n",
            "[138]\tTest-mae:0.46183\n",
            "[139]\tTest-mae:0.46173\n",
            "[140]\tTest-mae:0.46162\n",
            "[141]\tTest-mae:0.46151\n",
            "[142]\tTest-mae:0.46136\n",
            "[143]\tTest-mae:0.46128\n",
            "[144]\tTest-mae:0.46117\n",
            "[145]\tTest-mae:0.46109\n",
            "[146]\tTest-mae:0.46103\n",
            "[147]\tTest-mae:0.46094\n",
            "[148]\tTest-mae:0.46084\n",
            "[149]\tTest-mae:0.46071\n",
            "[150]\tTest-mae:0.46052\n",
            "[151]\tTest-mae:0.46047\n",
            "[152]\tTest-mae:0.46033\n",
            "[153]\tTest-mae:0.46028\n",
            "[154]\tTest-mae:0.46017\n",
            "[155]\tTest-mae:0.46002\n",
            "[156]\tTest-mae:0.45987\n",
            "[157]\tTest-mae:0.45975\n",
            "[158]\tTest-mae:0.45961\n",
            "[159]\tTest-mae:0.45951\n",
            "[160]\tTest-mae:0.45937\n",
            "[161]\tTest-mae:0.45928\n",
            "[162]\tTest-mae:0.45910\n",
            "[163]\tTest-mae:0.45898\n",
            "[164]\tTest-mae:0.45894\n",
            "[165]\tTest-mae:0.45879\n",
            "[166]\tTest-mae:0.45854\n",
            "[167]\tTest-mae:0.45840\n",
            "[168]\tTest-mae:0.45839\n",
            "[169]\tTest-mae:0.45836\n",
            "[170]\tTest-mae:0.45833\n",
            "[171]\tTest-mae:0.45826\n",
            "[172]\tTest-mae:0.45822\n",
            "[173]\tTest-mae:0.45815\n",
            "[174]\tTest-mae:0.45808\n",
            "[175]\tTest-mae:0.45805\n",
            "[176]\tTest-mae:0.45802\n",
            "[177]\tTest-mae:0.45800\n",
            "[178]\tTest-mae:0.45794\n",
            "[179]\tTest-mae:0.45790\n",
            "[180]\tTest-mae:0.45774\n",
            "[181]\tTest-mae:0.45771\n",
            "[182]\tTest-mae:0.45762\n",
            "[183]\tTest-mae:0.45760\n",
            "[184]\tTest-mae:0.45752\n",
            "[185]\tTest-mae:0.45741\n",
            "[186]\tTest-mae:0.45736\n",
            "[187]\tTest-mae:0.45729\n",
            "[188]\tTest-mae:0.45712\n",
            "[189]\tTest-mae:0.45699\n",
            "[190]\tTest-mae:0.45695\n",
            "[191]\tTest-mae:0.45693\n",
            "[192]\tTest-mae:0.45685\n",
            "[193]\tTest-mae:0.45675\n",
            "[194]\tTest-mae:0.45671\n",
            "[195]\tTest-mae:0.45668\n",
            "[196]\tTest-mae:0.45660\n",
            "[197]\tTest-mae:0.45655\n",
            "[198]\tTest-mae:0.45653\n",
            "[199]\tTest-mae:0.45650\n",
            "[200]\tTest-mae:0.45642\n",
            "[201]\tTest-mae:0.45633\n",
            "[202]\tTest-mae:0.45630\n",
            "[203]\tTest-mae:0.45629\n",
            "[204]\tTest-mae:0.45627\n",
            "[205]\tTest-mae:0.45622\n",
            "[206]\tTest-mae:0.45617\n",
            "[207]\tTest-mae:0.45613\n",
            "[208]\tTest-mae:0.45610\n",
            "[209]\tTest-mae:0.45605\n",
            "[210]\tTest-mae:0.45597\n",
            "[211]\tTest-mae:0.45591\n",
            "[212]\tTest-mae:0.45585\n",
            "[213]\tTest-mae:0.45584\n",
            "[214]\tTest-mae:0.45581\n",
            "[215]\tTest-mae:0.45580\n",
            "[216]\tTest-mae:0.45574\n",
            "[217]\tTest-mae:0.45567\n",
            "[218]\tTest-mae:0.45565\n",
            "[219]\tTest-mae:0.45560\n",
            "[220]\tTest-mae:0.45550\n",
            "[221]\tTest-mae:0.45551\n",
            "[222]\tTest-mae:0.45541\n",
            "[223]\tTest-mae:0.45536\n",
            "[224]\tTest-mae:0.45534\n",
            "[225]\tTest-mae:0.45526\n",
            "[226]\tTest-mae:0.45521\n",
            "[227]\tTest-mae:0.45524\n",
            "[228]\tTest-mae:0.45520\n",
            "[229]\tTest-mae:0.45516\n",
            "[230]\tTest-mae:0.45510\n",
            "[231]\tTest-mae:0.45507\n",
            "[232]\tTest-mae:0.45500\n",
            "[233]\tTest-mae:0.45495\n",
            "[234]\tTest-mae:0.45490\n",
            "[235]\tTest-mae:0.45487\n",
            "[236]\tTest-mae:0.45480\n",
            "[237]\tTest-mae:0.45474\n",
            "[238]\tTest-mae:0.45470\n",
            "[239]\tTest-mae:0.45469\n",
            "[240]\tTest-mae:0.45464\n",
            "[241]\tTest-mae:0.45460\n",
            "[242]\tTest-mae:0.45455\n",
            "[243]\tTest-mae:0.45448\n",
            "[244]\tTest-mae:0.45445\n",
            "[245]\tTest-mae:0.45442\n",
            "[246]\tTest-mae:0.45441\n",
            "[247]\tTest-mae:0.45439\n",
            "[248]\tTest-mae:0.45436\n",
            "[249]\tTest-mae:0.45436\n",
            "[250]\tTest-mae:0.45433\n",
            "[251]\tTest-mae:0.45430\n",
            "[252]\tTest-mae:0.45426\n",
            "[253]\tTest-mae:0.45423\n",
            "[254]\tTest-mae:0.45422\n",
            "[255]\tTest-mae:0.45417\n",
            "[256]\tTest-mae:0.45412\n",
            "[257]\tTest-mae:0.45412\n",
            "[258]\tTest-mae:0.45407\n",
            "[259]\tTest-mae:0.45403\n",
            "[260]\tTest-mae:0.45395\n",
            "[261]\tTest-mae:0.45389\n",
            "[262]\tTest-mae:0.45376\n",
            "[263]\tTest-mae:0.45367\n",
            "[264]\tTest-mae:0.45366\n",
            "[265]\tTest-mae:0.45365\n",
            "[266]\tTest-mae:0.45350\n",
            "[267]\tTest-mae:0.45343\n",
            "[268]\tTest-mae:0.45339\n",
            "[269]\tTest-mae:0.45337\n",
            "[270]\tTest-mae:0.45335\n",
            "[271]\tTest-mae:0.45333\n",
            "[272]\tTest-mae:0.45327\n",
            "[273]\tTest-mae:0.45325\n",
            "[274]\tTest-mae:0.45325\n",
            "[275]\tTest-mae:0.45322\n",
            "[276]\tTest-mae:0.45318\n",
            "[277]\tTest-mae:0.45316\n",
            "[278]\tTest-mae:0.45316\n",
            "[279]\tTest-mae:0.45315\n",
            "[280]\tTest-mae:0.45314\n",
            "[281]\tTest-mae:0.45310\n",
            "[282]\tTest-mae:0.45308\n",
            "[283]\tTest-mae:0.45307\n",
            "[284]\tTest-mae:0.45302\n",
            "[285]\tTest-mae:0.45304\n",
            "[286]\tTest-mae:0.45300\n",
            "[287]\tTest-mae:0.45293\n",
            "[288]\tTest-mae:0.45290\n",
            "[289]\tTest-mae:0.45285\n",
            "[290]\tTest-mae:0.45285\n",
            "[291]\tTest-mae:0.45281\n",
            "[292]\tTest-mae:0.45280\n",
            "[293]\tTest-mae:0.45273\n",
            "[294]\tTest-mae:0.45268\n",
            "[295]\tTest-mae:0.45267\n",
            "[296]\tTest-mae:0.45266\n",
            "[297]\tTest-mae:0.45266\n",
            "[298]\tTest-mae:0.45265\n",
            "[299]\tTest-mae:0.45262\n",
            "[300]\tTest-mae:0.45258\n",
            "[301]\tTest-mae:0.45253\n",
            "[302]\tTest-mae:0.45251\n",
            "[303]\tTest-mae:0.45246\n",
            "[304]\tTest-mae:0.45241\n",
            "[305]\tTest-mae:0.45241\n",
            "[306]\tTest-mae:0.45241\n",
            "[307]\tTest-mae:0.45237\n",
            "[308]\tTest-mae:0.45235\n",
            "[309]\tTest-mae:0.45233\n",
            "[310]\tTest-mae:0.45231\n",
            "[311]\tTest-mae:0.45227\n",
            "[312]\tTest-mae:0.45226\n",
            "[313]\tTest-mae:0.45222\n",
            "[314]\tTest-mae:0.45221\n",
            "[315]\tTest-mae:0.45217\n",
            "[316]\tTest-mae:0.45212\n",
            "[317]\tTest-mae:0.45211\n",
            "[318]\tTest-mae:0.45208\n",
            "[319]\tTest-mae:0.45207\n",
            "[320]\tTest-mae:0.45199\n",
            "[321]\tTest-mae:0.45199\n",
            "[322]\tTest-mae:0.45199\n",
            "[323]\tTest-mae:0.45197\n",
            "[324]\tTest-mae:0.45195\n",
            "[325]\tTest-mae:0.45195\n",
            "[326]\tTest-mae:0.45192\n",
            "[327]\tTest-mae:0.45188\n",
            "[328]\tTest-mae:0.45185\n",
            "[329]\tTest-mae:0.45184\n",
            "[330]\tTest-mae:0.45184\n",
            "[331]\tTest-mae:0.45180\n",
            "[332]\tTest-mae:0.45178\n",
            "[333]\tTest-mae:0.45174\n",
            "[334]\tTest-mae:0.45173\n",
            "[335]\tTest-mae:0.45173\n",
            "[336]\tTest-mae:0.45170\n",
            "[337]\tTest-mae:0.45162\n",
            "[338]\tTest-mae:0.45159\n",
            "[339]\tTest-mae:0.45158\n",
            "[340]\tTest-mae:0.45157\n",
            "[341]\tTest-mae:0.45159\n",
            "[342]\tTest-mae:0.45157\n",
            "[343]\tTest-mae:0.45154\n",
            "[344]\tTest-mae:0.45152\n",
            "[345]\tTest-mae:0.45150\n",
            "[346]\tTest-mae:0.45145\n",
            "[347]\tTest-mae:0.45144\n",
            "[348]\tTest-mae:0.45143\n",
            "[349]\tTest-mae:0.45140\n",
            "[350]\tTest-mae:0.45138\n",
            "[351]\tTest-mae:0.45138\n",
            "[352]\tTest-mae:0.45137\n",
            "[353]\tTest-mae:0.45137\n",
            "[354]\tTest-mae:0.45137\n",
            "[355]\tTest-mae:0.45133\n",
            "[356]\tTest-mae:0.45133\n",
            "[357]\tTest-mae:0.45132\n",
            "[358]\tTest-mae:0.45132\n",
            "[359]\tTest-mae:0.45132\n",
            "[360]\tTest-mae:0.45132\n",
            "[361]\tTest-mae:0.45132\n",
            "[362]\tTest-mae:0.45131\n",
            "[363]\tTest-mae:0.45126\n",
            "[364]\tTest-mae:0.45126\n",
            "[365]\tTest-mae:0.45126\n",
            "[366]\tTest-mae:0.45121\n",
            "[367]\tTest-mae:0.45121\n",
            "[368]\tTest-mae:0.45120\n",
            "[369]\tTest-mae:0.45117\n",
            "[370]\tTest-mae:0.45116\n",
            "[371]\tTest-mae:0.45113\n",
            "[372]\tTest-mae:0.45113\n",
            "[373]\tTest-mae:0.45110\n",
            "[374]\tTest-mae:0.45109\n",
            "[375]\tTest-mae:0.45108\n",
            "[376]\tTest-mae:0.45108\n",
            "[377]\tTest-mae:0.45106\n",
            "[378]\tTest-mae:0.45105\n",
            "[379]\tTest-mae:0.45103\n",
            "[380]\tTest-mae:0.45103\n",
            "[381]\tTest-mae:0.45102\n",
            "[382]\tTest-mae:0.45101\n",
            "[383]\tTest-mae:0.45101\n",
            "[384]\tTest-mae:0.45102\n",
            "[385]\tTest-mae:0.45100\n",
            "[386]\tTest-mae:0.45099\n",
            "[387]\tTest-mae:0.45098\n",
            "[388]\tTest-mae:0.45097\n",
            "[389]\tTest-mae:0.45096\n",
            "[390]\tTest-mae:0.45097\n",
            "[391]\tTest-mae:0.45097\n",
            "[392]\tTest-mae:0.45094\n",
            "[393]\tTest-mae:0.45092\n",
            "[394]\tTest-mae:0.45090\n",
            "[395]\tTest-mae:0.45090\n",
            "[396]\tTest-mae:0.45088\n",
            "[397]\tTest-mae:0.45087\n",
            "[398]\tTest-mae:0.45086\n",
            "[399]\tTest-mae:0.45085\n",
            "[400]\tTest-mae:0.45084\n",
            "[401]\tTest-mae:0.45082\n",
            "[402]\tTest-mae:0.45081\n",
            "[403]\tTest-mae:0.45080\n",
            "[404]\tTest-mae:0.45076\n",
            "[405]\tTest-mae:0.45075\n",
            "[406]\tTest-mae:0.45071\n",
            "[407]\tTest-mae:0.45070\n",
            "[408]\tTest-mae:0.45066\n",
            "[409]\tTest-mae:0.45063\n",
            "[410]\tTest-mae:0.45060\n",
            "[411]\tTest-mae:0.45059\n",
            "[412]\tTest-mae:0.45058\n",
            "[413]\tTest-mae:0.45055\n",
            "[414]\tTest-mae:0.45054\n",
            "[415]\tTest-mae:0.45054\n",
            "[416]\tTest-mae:0.45049\n",
            "[417]\tTest-mae:0.45048\n",
            "[418]\tTest-mae:0.45047\n",
            "[419]\tTest-mae:0.45046\n",
            "[420]\tTest-mae:0.45047\n",
            "[421]\tTest-mae:0.45046\n",
            "[422]\tTest-mae:0.45044\n",
            "[423]\tTest-mae:0.45044\n",
            "[424]\tTest-mae:0.45043\n",
            "[425]\tTest-mae:0.45043\n",
            "[426]\tTest-mae:0.45041\n",
            "[427]\tTest-mae:0.45040\n",
            "[428]\tTest-mae:0.45041\n",
            "[429]\tTest-mae:0.45040\n",
            "[430]\tTest-mae:0.45040\n",
            "[431]\tTest-mae:0.45037\n",
            "[432]\tTest-mae:0.45036\n",
            "[433]\tTest-mae:0.45037\n",
            "[434]\tTest-mae:0.45035\n",
            "[435]\tTest-mae:0.45035\n",
            "[436]\tTest-mae:0.45035\n",
            "[437]\tTest-mae:0.45035\n",
            "[438]\tTest-mae:0.45034\n",
            "[439]\tTest-mae:0.45032\n",
            "[440]\tTest-mae:0.45031\n",
            "[441]\tTest-mae:0.45029\n",
            "[442]\tTest-mae:0.45029\n",
            "[443]\tTest-mae:0.45029\n",
            "[444]\tTest-mae:0.45029\n",
            "[445]\tTest-mae:0.45029\n",
            "[446]\tTest-mae:0.45031\n",
            "[447]\tTest-mae:0.45030\n",
            "[448]\tTest-mae:0.45030\n",
            "[449]\tTest-mae:0.45030\n",
            "[450]\tTest-mae:0.45027\n",
            "[451]\tTest-mae:0.45028\n",
            "[452]\tTest-mae:0.45028\n",
            "[453]\tTest-mae:0.45028\n",
            "[454]\tTest-mae:0.45027\n",
            "[455]\tTest-mae:0.45027\n",
            "[456]\tTest-mae:0.45026\n",
            "[457]\tTest-mae:0.45025\n",
            "[458]\tTest-mae:0.45025\n",
            "[459]\tTest-mae:0.45025\n",
            "[460]\tTest-mae:0.45025\n",
            "[461]\tTest-mae:0.45023\n",
            "[462]\tTest-mae:0.45021\n",
            "[463]\tTest-mae:0.45019\n",
            "[464]\tTest-mae:0.45018\n",
            "[465]\tTest-mae:0.45016\n",
            "[466]\tTest-mae:0.45014\n",
            "[467]\tTest-mae:0.45014\n",
            "[468]\tTest-mae:0.45013\n",
            "[469]\tTest-mae:0.45012\n",
            "[470]\tTest-mae:0.45012\n",
            "[471]\tTest-mae:0.45012\n",
            "[472]\tTest-mae:0.45011\n",
            "[473]\tTest-mae:0.45010\n",
            "[474]\tTest-mae:0.45009\n",
            "[475]\tTest-mae:0.45008\n",
            "[476]\tTest-mae:0.45008\n",
            "[477]\tTest-mae:0.45007\n",
            "[478]\tTest-mae:0.45008\n",
            "[479]\tTest-mae:0.45006\n",
            "[480]\tTest-mae:0.45005\n",
            "[481]\tTest-mae:0.45005\n",
            "[482]\tTest-mae:0.45005\n",
            "[483]\tTest-mae:0.45003\n",
            "[484]\tTest-mae:0.45001\n",
            "[485]\tTest-mae:0.45000\n",
            "[486]\tTest-mae:0.44999\n",
            "[487]\tTest-mae:0.44999\n",
            "[488]\tTest-mae:0.44999\n",
            "[489]\tTest-mae:0.44998\n",
            "[490]\tTest-mae:0.44998\n",
            "[491]\tTest-mae:0.44998\n",
            "[492]\tTest-mae:0.44997\n",
            "[493]\tTest-mae:0.44997\n",
            "[494]\tTest-mae:0.44996\n",
            "[495]\tTest-mae:0.44995\n",
            "[496]\tTest-mae:0.44994\n",
            "[497]\tTest-mae:0.44993\n",
            "[498]\tTest-mae:0.44991\n",
            "[499]\tTest-mae:0.44990\n",
            "[500]\tTest-mae:0.44990\n",
            "[501]\tTest-mae:0.44989\n",
            "[502]\tTest-mae:0.44989\n",
            "[503]\tTest-mae:0.44988\n",
            "[504]\tTest-mae:0.44988\n",
            "[505]\tTest-mae:0.44987\n",
            "[506]\tTest-mae:0.44987\n",
            "[507]\tTest-mae:0.44987\n",
            "[508]\tTest-mae:0.44986\n",
            "[509]\tTest-mae:0.44986\n",
            "[510]\tTest-mae:0.44984\n",
            "[511]\tTest-mae:0.44983\n",
            "[512]\tTest-mae:0.44982\n",
            "[513]\tTest-mae:0.44980\n",
            "[514]\tTest-mae:0.44978\n",
            "[515]\tTest-mae:0.44979\n",
            "[516]\tTest-mae:0.44978\n",
            "[517]\tTest-mae:0.44978\n",
            "[518]\tTest-mae:0.44977\n",
            "[519]\tTest-mae:0.44976\n",
            "[520]\tTest-mae:0.44975\n",
            "[521]\tTest-mae:0.44974\n",
            "[522]\tTest-mae:0.44973\n",
            "[523]\tTest-mae:0.44973\n",
            "[524]\tTest-mae:0.44973\n",
            "[525]\tTest-mae:0.44974\n",
            "[526]\tTest-mae:0.44973\n",
            "[527]\tTest-mae:0.44972\n",
            "[528]\tTest-mae:0.44972\n",
            "[529]\tTest-mae:0.44972\n",
            "[530]\tTest-mae:0.44972\n",
            "[531]\tTest-mae:0.44972\n",
            "[532]\tTest-mae:0.44970\n",
            "[533]\tTest-mae:0.44970\n",
            "[534]\tTest-mae:0.44968\n",
            "[535]\tTest-mae:0.44967\n",
            "[536]\tTest-mae:0.44966\n",
            "[537]\tTest-mae:0.44966\n",
            "[538]\tTest-mae:0.44965\n",
            "[539]\tTest-mae:0.44965\n",
            "[540]\tTest-mae:0.44964\n",
            "[541]\tTest-mae:0.44964\n",
            "[542]\tTest-mae:0.44964\n",
            "[543]\tTest-mae:0.44964\n",
            "[544]\tTest-mae:0.44964\n",
            "[545]\tTest-mae:0.44964\n",
            "[546]\tTest-mae:0.44962\n",
            "[547]\tTest-mae:0.44963\n",
            "[548]\tTest-mae:0.44963\n",
            "[549]\tTest-mae:0.44963\n",
            "[550]\tTest-mae:0.44963\n",
            "[551]\tTest-mae:0.44962\n",
            "[552]\tTest-mae:0.44961\n",
            "[553]\tTest-mae:0.44960\n",
            "[554]\tTest-mae:0.44958\n",
            "[555]\tTest-mae:0.44957\n",
            "[556]\tTest-mae:0.44957\n",
            "[557]\tTest-mae:0.44955\n",
            "[558]\tTest-mae:0.44954\n",
            "[559]\tTest-mae:0.44954\n",
            "[560]\tTest-mae:0.44954\n",
            "[561]\tTest-mae:0.44954\n",
            "[562]\tTest-mae:0.44954\n",
            "[563]\tTest-mae:0.44954\n",
            "[564]\tTest-mae:0.44953\n",
            "[565]\tTest-mae:0.44953\n",
            "[566]\tTest-mae:0.44953\n",
            "[567]\tTest-mae:0.44953\n",
            "[568]\tTest-mae:0.44953\n",
            "[569]\tTest-mae:0.44952\n",
            "[570]\tTest-mae:0.44950\n",
            "[571]\tTest-mae:0.44950\n",
            "[572]\tTest-mae:0.44950\n",
            "[573]\tTest-mae:0.44949\n",
            "[574]\tTest-mae:0.44947\n",
            "[575]\tTest-mae:0.44947\n",
            "[576]\tTest-mae:0.44947\n",
            "[577]\tTest-mae:0.44946\n",
            "[578]\tTest-mae:0.44946\n",
            "[579]\tTest-mae:0.44945\n",
            "[580]\tTest-mae:0.44945\n",
            "[581]\tTest-mae:0.44944\n",
            "[582]\tTest-mae:0.44944\n",
            "[583]\tTest-mae:0.44944\n",
            "[584]\tTest-mae:0.44944\n",
            "[585]\tTest-mae:0.44942\n",
            "[586]\tTest-mae:0.44941\n",
            "[587]\tTest-mae:0.44940\n",
            "[588]\tTest-mae:0.44940\n",
            "[589]\tTest-mae:0.44940\n",
            "[590]\tTest-mae:0.44939\n",
            "[591]\tTest-mae:0.44938\n",
            "[592]\tTest-mae:0.44938\n",
            "[593]\tTest-mae:0.44936\n",
            "[594]\tTest-mae:0.44936\n",
            "[595]\tTest-mae:0.44934\n",
            "[596]\tTest-mae:0.44934\n",
            "[597]\tTest-mae:0.44933\n",
            "[598]\tTest-mae:0.44934\n",
            "[599]\tTest-mae:0.44933\n",
            "[600]\tTest-mae:0.44933\n",
            "[601]\tTest-mae:0.44932\n",
            "[602]\tTest-mae:0.44932\n",
            "[603]\tTest-mae:0.44932\n",
            "[604]\tTest-mae:0.44931\n",
            "[605]\tTest-mae:0.44931\n",
            "[606]\tTest-mae:0.44930\n",
            "[607]\tTest-mae:0.44930\n",
            "[608]\tTest-mae:0.44930\n",
            "[609]\tTest-mae:0.44930\n",
            "[610]\tTest-mae:0.44930\n",
            "[611]\tTest-mae:0.44929\n",
            "[612]\tTest-mae:0.44929\n",
            "[613]\tTest-mae:0.44927\n",
            "[614]\tTest-mae:0.44927\n",
            "[615]\tTest-mae:0.44927\n",
            "[616]\tTest-mae:0.44927\n",
            "[617]\tTest-mae:0.44926\n",
            "[618]\tTest-mae:0.44925\n",
            "[619]\tTest-mae:0.44925\n",
            "[620]\tTest-mae:0.44925\n",
            "[621]\tTest-mae:0.44925\n",
            "[622]\tTest-mae:0.44924\n",
            "[623]\tTest-mae:0.44924\n",
            "[624]\tTest-mae:0.44925\n",
            "[625]\tTest-mae:0.44925\n",
            "[626]\tTest-mae:0.44924\n",
            "[627]\tTest-mae:0.44924\n",
            "[628]\tTest-mae:0.44923\n",
            "[629]\tTest-mae:0.44923\n",
            "[630]\tTest-mae:0.44923\n",
            "[631]\tTest-mae:0.44922\n",
            "[632]\tTest-mae:0.44922\n",
            "[633]\tTest-mae:0.44921\n",
            "[634]\tTest-mae:0.44921\n",
            "[635]\tTest-mae:0.44921\n",
            "[636]\tTest-mae:0.44921\n",
            "[637]\tTest-mae:0.44920\n",
            "[638]\tTest-mae:0.44921\n",
            "[639]\tTest-mae:0.44920\n",
            "[640]\tTest-mae:0.44919\n",
            "[641]\tTest-mae:0.44919\n",
            "[642]\tTest-mae:0.44919\n",
            "[643]\tTest-mae:0.44919\n",
            "[644]\tTest-mae:0.44919\n",
            "[645]\tTest-mae:0.44918\n",
            "[646]\tTest-mae:0.44919\n",
            "[647]\tTest-mae:0.44918\n",
            "[648]\tTest-mae:0.44918\n",
            "[649]\tTest-mae:0.44918\n",
            "[650]\tTest-mae:0.44918\n",
            "[651]\tTest-mae:0.44917\n",
            "[652]\tTest-mae:0.44917\n",
            "[653]\tTest-mae:0.44917\n",
            "[654]\tTest-mae:0.44917\n",
            "[655]\tTest-mae:0.44916\n",
            "[656]\tTest-mae:0.44916\n",
            "[657]\tTest-mae:0.44916\n",
            "[658]\tTest-mae:0.44916\n",
            "[659]\tTest-mae:0.44916\n",
            "[660]\tTest-mae:0.44916\n",
            "[661]\tTest-mae:0.44916\n",
            "[662]\tTest-mae:0.44916\n",
            "[663]\tTest-mae:0.44916\n",
            "[664]\tTest-mae:0.44915\n",
            "[665]\tTest-mae:0.44915\n",
            "[666]\tTest-mae:0.44915\n",
            "[667]\tTest-mae:0.44915\n",
            "[668]\tTest-mae:0.44915\n",
            "[669]\tTest-mae:0.44914\n",
            "[670]\tTest-mae:0.44913\n",
            "[671]\tTest-mae:0.44912\n",
            "[672]\tTest-mae:0.44912\n",
            "[673]\tTest-mae:0.44912\n",
            "[674]\tTest-mae:0.44912\n",
            "[675]\tTest-mae:0.44912\n",
            "[676]\tTest-mae:0.44912\n",
            "[677]\tTest-mae:0.44912\n",
            "[678]\tTest-mae:0.44911\n",
            "[679]\tTest-mae:0.44911\n",
            "[680]\tTest-mae:0.44911\n",
            "[681]\tTest-mae:0.44911\n",
            "[682]\tTest-mae:0.44911\n",
            "[683]\tTest-mae:0.44911\n",
            "[684]\tTest-mae:0.44910\n",
            "[685]\tTest-mae:0.44910\n",
            "[686]\tTest-mae:0.44909\n",
            "[687]\tTest-mae:0.44910\n",
            "[688]\tTest-mae:0.44909\n",
            "[689]\tTest-mae:0.44908\n",
            "[690]\tTest-mae:0.44908\n",
            "[691]\tTest-mae:0.44908\n",
            "[692]\tTest-mae:0.44908\n",
            "[693]\tTest-mae:0.44908\n",
            "[694]\tTest-mae:0.44908\n",
            "[695]\tTest-mae:0.44907\n",
            "[696]\tTest-mae:0.44907\n",
            "[697]\tTest-mae:0.44907\n",
            "[698]\tTest-mae:0.44906\n",
            "[699]\tTest-mae:0.44906\n",
            "[700]\tTest-mae:0.44906\n",
            "[701]\tTest-mae:0.44906\n",
            "[702]\tTest-mae:0.44906\n",
            "[703]\tTest-mae:0.44906\n",
            "[704]\tTest-mae:0.44905\n",
            "[705]\tTest-mae:0.44905\n",
            "[706]\tTest-mae:0.44905\n",
            "[707]\tTest-mae:0.44905\n",
            "[708]\tTest-mae:0.44905\n",
            "[709]\tTest-mae:0.44905\n",
            "[710]\tTest-mae:0.44904\n",
            "[711]\tTest-mae:0.44904\n",
            "[712]\tTest-mae:0.44904\n",
            "[713]\tTest-mae:0.44904\n",
            "[714]\tTest-mae:0.44904\n",
            "[715]\tTest-mae:0.44904\n",
            "[716]\tTest-mae:0.44903\n",
            "[717]\tTest-mae:0.44903\n",
            "[718]\tTest-mae:0.44903\n",
            "[719]\tTest-mae:0.44903\n",
            "[720]\tTest-mae:0.44902\n",
            "[721]\tTest-mae:0.44903\n",
            "[722]\tTest-mae:0.44903\n",
            "[723]\tTest-mae:0.44903\n",
            "[724]\tTest-mae:0.44903\n",
            "[725]\tTest-mae:0.44903\n",
            "[726]\tTest-mae:0.44903\n",
            "[727]\tTest-mae:0.44902\n",
            "[728]\tTest-mae:0.44902\n",
            "[729]\tTest-mae:0.44903\n",
            "[730]\tTest-mae:0.44903\n",
            "[731]\tTest-mae:0.44903\n",
            "[732]\tTest-mae:0.44903\n",
            "[733]\tTest-mae:0.44903\n",
            "[734]\tTest-mae:0.44903\n",
            "[735]\tTest-mae:0.44903\n",
            "[736]\tTest-mae:0.44902\n",
            "[737]\tTest-mae:0.44902\n",
            "[738]\tTest-mae:0.44902\n",
            "[739]\tTest-mae:0.44902\n",
            "[740]\tTest-mae:0.44902\n",
            "[741]\tTest-mae:0.44903\n",
            "[742]\tTest-mae:0.44902\n",
            "[743]\tTest-mae:0.44903\n",
            "[744]\tTest-mae:0.44902\n",
            "[745]\tTest-mae:0.44902\n",
            "[746]\tTest-mae:0.44902\n",
            "[747]\tTest-mae:0.44902\n",
            "[748]\tTest-mae:0.44902\n",
            "[749]\tTest-mae:0.44902\n",
            "[750]\tTest-mae:0.44902\n",
            "[751]\tTest-mae:0.44902\n",
            "[752]\tTest-mae:0.44901\n",
            "[753]\tTest-mae:0.44901\n",
            "[754]\tTest-mae:0.44902\n",
            "[755]\tTest-mae:0.44901\n",
            "[756]\tTest-mae:0.44901\n",
            "[757]\tTest-mae:0.44901\n",
            "[758]\tTest-mae:0.44901\n",
            "[759]\tTest-mae:0.44901\n",
            "[760]\tTest-mae:0.44900\n",
            "[761]\tTest-mae:0.44900\n",
            "[762]\tTest-mae:0.44900\n",
            "[763]\tTest-mae:0.44900\n",
            "[764]\tTest-mae:0.44900\n",
            "[765]\tTest-mae:0.44899\n",
            "[766]\tTest-mae:0.44899\n",
            "[767]\tTest-mae:0.44899\n",
            "[768]\tTest-mae:0.44899\n",
            "[769]\tTest-mae:0.44899\n",
            "[770]\tTest-mae:0.44899\n",
            "[771]\tTest-mae:0.44899\n",
            "[772]\tTest-mae:0.44899\n",
            "[773]\tTest-mae:0.44898\n",
            "[774]\tTest-mae:0.44898\n",
            "[775]\tTest-mae:0.44898\n",
            "[776]\tTest-mae:0.44897\n",
            "[777]\tTest-mae:0.44897\n",
            "[778]\tTest-mae:0.44897\n",
            "[779]\tTest-mae:0.44897\n",
            "[780]\tTest-mae:0.44897\n",
            "[781]\tTest-mae:0.44896\n",
            "[782]\tTest-mae:0.44896\n",
            "[783]\tTest-mae:0.44896\n",
            "[784]\tTest-mae:0.44896\n",
            "[785]\tTest-mae:0.44896\n",
            "[786]\tTest-mae:0.44895\n",
            "[787]\tTest-mae:0.44895\n",
            "[788]\tTest-mae:0.44895\n",
            "[789]\tTest-mae:0.44895\n",
            "[790]\tTest-mae:0.44894\n",
            "[791]\tTest-mae:0.44894\n",
            "[792]\tTest-mae:0.44894\n",
            "[793]\tTest-mae:0.44894\n",
            "[794]\tTest-mae:0.44894\n",
            "[795]\tTest-mae:0.44894\n",
            "[796]\tTest-mae:0.44894\n",
            "[797]\tTest-mae:0.44893\n",
            "[798]\tTest-mae:0.44893\n",
            "[799]\tTest-mae:0.44893\n",
            "[800]\tTest-mae:0.44893\n",
            "[801]\tTest-mae:0.44892\n",
            "[802]\tTest-mae:0.44892\n",
            "[803]\tTest-mae:0.44892\n",
            "[804]\tTest-mae:0.44892\n",
            "[805]\tTest-mae:0.44891\n",
            "[806]\tTest-mae:0.44891\n",
            "[807]\tTest-mae:0.44891\n",
            "[808]\tTest-mae:0.44890\n",
            "[809]\tTest-mae:0.44890\n",
            "[810]\tTest-mae:0.44890\n",
            "[811]\tTest-mae:0.44891\n",
            "[812]\tTest-mae:0.44891\n",
            "[813]\tTest-mae:0.44891\n",
            "[814]\tTest-mae:0.44891\n",
            "[815]\tTest-mae:0.44891\n",
            "[816]\tTest-mae:0.44891\n",
            "[817]\tTest-mae:0.44890\n",
            "[818]\tTest-mae:0.44891\n",
            "[819]\tTest-mae:0.44890\n",
            "[820]\tTest-mae:0.44890\n",
            "[821]\tTest-mae:0.44891\n",
            "[822]\tTest-mae:0.44890\n",
            "[823]\tTest-mae:0.44890\n",
            "[824]\tTest-mae:0.44890\n",
            "[825]\tTest-mae:0.44890\n",
            "[826]\tTest-mae:0.44890\n",
            "[827]\tTest-mae:0.44890\n",
            "[828]\tTest-mae:0.44890\n",
            "[829]\tTest-mae:0.44889\n",
            "[830]\tTest-mae:0.44889\n",
            "[831]\tTest-mae:0.44889\n",
            "[832]\tTest-mae:0.44889\n",
            "[833]\tTest-mae:0.44889\n",
            "[834]\tTest-mae:0.44889\n",
            "[835]\tTest-mae:0.44889\n",
            "[836]\tTest-mae:0.44889\n",
            "[837]\tTest-mae:0.44889\n",
            "[838]\tTest-mae:0.44889\n",
            "[839]\tTest-mae:0.44888\n",
            "[840]\tTest-mae:0.44888\n",
            "[841]\tTest-mae:0.44888\n",
            "[842]\tTest-mae:0.44888\n",
            "[843]\tTest-mae:0.44888\n",
            "[844]\tTest-mae:0.44888\n",
            "[845]\tTest-mae:0.44888\n",
            "[846]\tTest-mae:0.44887\n",
            "[847]\tTest-mae:0.44888\n",
            "[848]\tTest-mae:0.44888\n",
            "[849]\tTest-mae:0.44888\n",
            "[850]\tTest-mae:0.44887\n",
            "[851]\tTest-mae:0.44887\n",
            "[852]\tTest-mae:0.44887\n",
            "[853]\tTest-mae:0.44887\n",
            "[854]\tTest-mae:0.44887\n",
            "[855]\tTest-mae:0.44887\n",
            "[856]\tTest-mae:0.44887\n",
            "[857]\tTest-mae:0.44886\n",
            "[858]\tTest-mae:0.44887\n",
            "[859]\tTest-mae:0.44887\n",
            "[860]\tTest-mae:0.44887\n",
            "[861]\tTest-mae:0.44886\n",
            "[862]\tTest-mae:0.44886\n",
            "[863]\tTest-mae:0.44886\n",
            "[864]\tTest-mae:0.44886\n",
            "[865]\tTest-mae:0.44886\n",
            "[866]\tTest-mae:0.44886\n",
            "[867]\tTest-mae:0.44886\n",
            "[868]\tTest-mae:0.44886\n",
            "[869]\tTest-mae:0.44886\n",
            "[870]\tTest-mae:0.44886\n",
            "[871]\tTest-mae:0.44886\n",
            "[872]\tTest-mae:0.44886\n",
            "[873]\tTest-mae:0.44886\n",
            "[874]\tTest-mae:0.44885\n",
            "[875]\tTest-mae:0.44885\n",
            "[876]\tTest-mae:0.44885\n",
            "[877]\tTest-mae:0.44885\n",
            "[878]\tTest-mae:0.44885\n",
            "[879]\tTest-mae:0.44885\n",
            "[880]\tTest-mae:0.44885\n",
            "[881]\tTest-mae:0.44885\n",
            "[882]\tTest-mae:0.44885\n",
            "[883]\tTest-mae:0.44885\n",
            "[884]\tTest-mae:0.44885\n",
            "[885]\tTest-mae:0.44884\n",
            "[886]\tTest-mae:0.44884\n",
            "[887]\tTest-mae:0.44884\n",
            "[888]\tTest-mae:0.44884\n",
            "[889]\tTest-mae:0.44884\n",
            "[890]\tTest-mae:0.44884\n",
            "[891]\tTest-mae:0.44884\n",
            "[892]\tTest-mae:0.44883\n",
            "[893]\tTest-mae:0.44884\n",
            "[894]\tTest-mae:0.44883\n",
            "[895]\tTest-mae:0.44883\n",
            "[896]\tTest-mae:0.44883\n",
            "[897]\tTest-mae:0.44883\n",
            "[898]\tTest-mae:0.44883\n",
            "[899]\tTest-mae:0.44883\n",
            "[900]\tTest-mae:0.44883\n",
            "[901]\tTest-mae:0.44883\n",
            "[902]\tTest-mae:0.44883\n",
            "[903]\tTest-mae:0.44883\n",
            "[904]\tTest-mae:0.44883\n",
            "[905]\tTest-mae:0.44883\n",
            "[906]\tTest-mae:0.44883\n",
            "[907]\tTest-mae:0.44883\n",
            "[908]\tTest-mae:0.44883\n",
            "[909]\tTest-mae:0.44882\n",
            "[910]\tTest-mae:0.44882\n",
            "[911]\tTest-mae:0.44882\n",
            "[912]\tTest-mae:0.44882\n",
            "[913]\tTest-mae:0.44882\n",
            "[914]\tTest-mae:0.44882\n",
            "[915]\tTest-mae:0.44882\n",
            "[916]\tTest-mae:0.44882\n",
            "[917]\tTest-mae:0.44882\n",
            "[918]\tTest-mae:0.44882\n",
            "[919]\tTest-mae:0.44882\n",
            "[920]\tTest-mae:0.44882\n",
            "[921]\tTest-mae:0.44882\n",
            "[922]\tTest-mae:0.44882\n",
            "[923]\tTest-mae:0.44881\n",
            "[924]\tTest-mae:0.44882\n",
            "[925]\tTest-mae:0.44882\n",
            "[926]\tTest-mae:0.44881\n",
            "[927]\tTest-mae:0.44881\n",
            "[928]\tTest-mae:0.44881\n",
            "[929]\tTest-mae:0.44881\n",
            "[930]\tTest-mae:0.44881\n",
            "[931]\tTest-mae:0.44881\n",
            "[932]\tTest-mae:0.44881\n",
            "[933]\tTest-mae:0.44880\n",
            "[934]\tTest-mae:0.44880\n",
            "[935]\tTest-mae:0.44880\n",
            "[936]\tTest-mae:0.44880\n",
            "[937]\tTest-mae:0.44880\n",
            "[938]\tTest-mae:0.44880\n",
            "[939]\tTest-mae:0.44880\n",
            "[940]\tTest-mae:0.44880\n",
            "[941]\tTest-mae:0.44879\n",
            "[942]\tTest-mae:0.44879\n",
            "[943]\tTest-mae:0.44879\n",
            "[944]\tTest-mae:0.44879\n",
            "[945]\tTest-mae:0.44879\n",
            "[946]\tTest-mae:0.44879\n",
            "[947]\tTest-mae:0.44879\n",
            "[948]\tTest-mae:0.44879\n",
            "[949]\tTest-mae:0.44878\n",
            "[950]\tTest-mae:0.44878\n",
            "[951]\tTest-mae:0.44878\n",
            "[952]\tTest-mae:0.44879\n",
            "[953]\tTest-mae:0.44878\n",
            "[954]\tTest-mae:0.44879\n",
            "[955]\tTest-mae:0.44879\n",
            "[956]\tTest-mae:0.44879\n",
            "[957]\tTest-mae:0.44878\n",
            "[958]\tTest-mae:0.44879\n",
            "[959]\tTest-mae:0.44878\n",
            "[960]\tTest-mae:0.44878\n",
            "[961]\tTest-mae:0.44878\n",
            "[962]\tTest-mae:0.44878\n",
            "[963]\tTest-mae:0.44878\n",
            "[964]\tTest-mae:0.44878\n",
            "[965]\tTest-mae:0.44878\n",
            "[966]\tTest-mae:0.44878\n",
            "[967]\tTest-mae:0.44878\n",
            "[968]\tTest-mae:0.44878\n",
            "[969]\tTest-mae:0.44878\n",
            "[970]\tTest-mae:0.44878\n",
            "[971]\tTest-mae:0.44878\n",
            "[972]\tTest-mae:0.44878\n",
            "[973]\tTest-mae:0.44878\n",
            "[974]\tTest-mae:0.44878\n",
            "[975]\tTest-mae:0.44878\n",
            "[976]\tTest-mae:0.44878\n",
            "[977]\tTest-mae:0.44878\n",
            "[978]\tTest-mae:0.44878\n",
            "[979]\tTest-mae:0.44878\n",
            "[980]\tTest-mae:0.44878\n",
            "[981]\tTest-mae:0.44877\n",
            "[982]\tTest-mae:0.44877\n",
            "[983]\tTest-mae:0.44877\n",
            "[984]\tTest-mae:0.44877\n",
            "[985]\tTest-mae:0.44878\n",
            "[986]\tTest-mae:0.44878\n",
            "[987]\tTest-mae:0.44878\n",
            "[988]\tTest-mae:0.44877\n",
            "[989]\tTest-mae:0.44877\n",
            "[990]\tTest-mae:0.44877\n",
            "[991]\tTest-mae:0.44877\n",
            "[992]\tTest-mae:0.44877\n",
            "[993]\tTest-mae:0.44877\n",
            "[994]\tTest-mae:0.44877\n",
            "[995]\tTest-mae:0.44877\n",
            "[996]\tTest-mae:0.44877\n",
            "[997]\tTest-mae:0.44877\n",
            "[998]\tTest-mae:0.44877\n"
          ]
        }
      ]
    },
    {
      "cell_type": "code",
      "source": [
        "mean_absolute_error(best_model.predict(dtest), y_test)"
      ],
      "metadata": {
        "id": "_AP3y8OAUEQq",
        "outputId": "7c558427-ea35-4821-8665-4bf0c36fd97d",
        "colab": {
          "base_uri": "https://localhost:8080/"
        }
      },
      "execution_count": 434,
      "outputs": [
        {
          "output_type": "execute_result",
          "data": {
            "text/plain": [
              "0.4762251904627389"
            ]
          },
          "metadata": {},
          "execution_count": 434
        }
      ]
    },
    {
      "cell_type": "code",
      "source": [
        "params"
      ],
      "metadata": {
        "id": "7uQxLWZtVjlE",
        "outputId": "15971dc3-d8b3-4d0f-a424-1227d9f98fe8",
        "colab": {
          "base_uri": "https://localhost:8080/"
        }
      },
      "execution_count": 433,
      "outputs": [
        {
          "output_type": "execute_result",
          "data": {
            "text/plain": [
              "{'max_depth': 10,\n",
              " 'min_child_weight': 5,\n",
              " 'eta': 0.05,\n",
              " 'subsample': 1,\n",
              " 'colsample_bytree': 1,\n",
              " 'objective': 'reg:squarederror',\n",
              " 'eval_metric': 'mae'}"
            ]
          },
          "metadata": {},
          "execution_count": 433
        }
      ]
    },
    {
      "cell_type": "code",
      "source": [
        "model = XGBClassifier(max_depth= 10, min_child_weight= 5,eta= 0.05,subsample= 1,colsample_bytree= 1)\n",
        "model.fit(X_train, y_train)\n",
        "y_pred_XGB = model.predict(X_test)\n",
        "accuracy_XGB = accuracy_score(y_test, y_pred_XGB)\n",
        "print(\"Accuracy: %.2f%%\" % (accuracy_XGB * 100.0))"
      ],
      "metadata": {
        "id": "1-o_MFL_YNPh",
        "outputId": "86640d37-0512-48bd-ce13-29ee094e7b75",
        "colab": {
          "base_uri": "https://localhost:8080/"
        }
      },
      "execution_count": 439,
      "outputs": [
        {
          "output_type": "stream",
          "name": "stdout",
          "text": [
            "Accuracy: 87.92%\n"
          ]
        }
      ]
    }
  ],
  "metadata": {
    "colab": {
      "provenance": [],
      "authorship_tag": "ABX9TyN7twGtIjjXycwNX/6nGUa6"
    },
    "kernelspec": {
      "display_name": "Python 3",
      "name": "python3"
    },
    "language_info": {
      "name": "python"
    }
  },
  "nbformat": 4,
  "nbformat_minor": 0
}