{
 "cells": [
  {
   "attachments": {},
   "cell_type": "markdown",
   "metadata": {},
   "source": [
    "# Getting started with Task 3"
   ]
  },
  {
   "attachments": {},
   "cell_type": "markdown",
   "metadata": {},
   "source": [
    "Download the dataset from the [Dataset of Simulated Intracardiac Transmembrane Voltage Recordings and ECG Signals](https://library.ucsd.edu/dc/object/bb29449106) using the script `download_intracardiac_dataset.sh`:\n",
    "\n",
    "```bash\n",
    "source download_intracardiac_dataset.sh\n",
    "```"
   ]
  },
  {
   "attachments": {},
   "cell_type": "markdown",
   "metadata": {},
   "source": [
    "## Load Modules and Preprocessing Functions"
   ]
  },
  {
   "attachments": {},
   "cell_type": "markdown",
   "metadata": {},
   "source": [
    "Load modules and preprocessing functions."
   ]
  },
  {
   "cell_type": "code",
   "metadata": {},
   "source": [
    "import glob, re, os\n",
    "import numpy as np\n",
    "import matplotlib.pyplot as plt\n",
    "from typing import List"
   ],
   "outputs": [],
   "execution_count": null
  },
  {
   "attachments": {},
   "cell_type": "markdown",
   "metadata": {},
   "source": [
    "Load the `cardiac_ml_tools` module."
   ]
  },
  {
   "cell_type": "code",
   "metadata": {},
   "source": [
    "%run cardiac_ml_tools.py"
   ],
   "outputs": [],
   "execution_count": null
  },
  {
   "attachments": {},
   "cell_type": "markdown",
   "metadata": {},
   "source": [
    "## Load the dataset"
   ]
  },
  {
   "cell_type": "code",
   "metadata": {},
   "source": [
    "data_dirs = []\n",
    "regex = r'data_hearts_dd_0p2*'\n",
    "DIR='../intracardiac_dataset/' # This should be the path to the intracardiac_dataset, it can be downloaded using data_science_challenge_2023/download_intracardiac_dataset.sh\n",
    "for x in os.listdir(DIR):\n",
    "    if re.match(regex, x):\n",
    "        data_dirs.append(DIR + x)\n",
    "file_pairs = read_data_dirs(data_dirs)\n",
    "print('Number of file pairs: {}'.format(len(file_pairs)))\n",
    "# example of file pair\n",
    "print(\"Example of file pair:\")\n",
    "print(\"{}\\n{}\".format(file_pairs[0][0], file_pairs[0][1]))\n"
   ],
   "outputs": [],
   "execution_count": null
  },
  {
   "attachments": {},
   "cell_type": "markdown",
   "metadata": {},
   "source": [
    "## Dataset details"
   ]
  },
  {
   "attachments": {},
   "cell_type": "markdown",
   "metadata": {},
   "source": [
    "The dataset [Dataset of Simulated Intracardiac Transmembrane Voltage Recordings and ECG Signals](https://library.ucsd.edu/dc/object/bb29449106) \n",
    "consists of pairs of computationally simulated intracardiac transmembrane voltage recordings and ECG signals.\n",
    "In total, 16140 organ-level simulations were conducted to create this dataset.\n",
    "Simulations were performed using Lassen supercomputer at Lawrence Livermore National Lab (LLNL), concurrently utilizing 4 GPUs and 40 CPU cores.\n",
    "Each simulation produced pairs of 500ms-by-10 raw electrode signals and 500ms-by-75 transmembrane voltage signals.\n",
    "For convenience, we collect those signals in matrices and give them the following names:\n",
    "\n",
    "Tensor | Description | Shape | Notes\n",
    "--- | --- | --- | ---\n",
    "$X$ | Row electrode signals | $10 \\times 500$ | 10-lead ECG signals from the simulated torso (in [Dataset of Simulated Intracardiac Transmembrane Voltage Recordings and ECG Signals](https://library.ucsd.edu/dc/object/bb29449106))\n",
    "$V$ | Activation map | $75 \\times 500$ | Transmembrane voltage signals from the simulated heart (in [Dataset of Simulated Intracardiac Transmembrane Voltage Recordings and ECG Signals](https://library.ucsd.edu/dc/object/bb29449106))\n",
    "$E$ | 12-lead ECG signals | $12 \\times 500$ | 12-lead ECG signals obtained by `get_standard_leads`($X$)\n",
    "$A$ | Activation map | $75 \\times 1$ | Activation time, defined as $A_i = \\text{min}_j(V_{ij})$\n",
    "\n",
    "**IMPORTANT** : The raw data in the dataset consists of 10-lead ECG signals and 75-lead transmembrane voltage signals. The 12-lead ECG signals are obtained from the 10-lead ECG signals using the function `get_standard_leads` (in the file `cardiac_ml_tools.py`).\n",
    "\n",
    "The overall generation process is shown in the following image. The ECG signal is recorded using 10 virtual electrodes and the transmembrane voltages are recorded at 75 points within the myocardium. The transmembrane voltages are then used to generate the spatio-temporal activation maps."
   ]
  },
  {
   "attachments": {},
   "cell_type": "markdown",
   "metadata": {},
   "source": [
    "![ECG 10 2 12](../figures/data_generation.png)"
   ]
  },
  {
   "attachments": {},
   "cell_type": "markdown",
   "metadata": {},
   "source": [
    "## Getting the standard 12-lead ECG from the 10-lead ECG\n",
    "\n",
    "The function `get_standard_leads` (in the file `cardiac_ml_tools.py`) is used to obtain the 12-lead ECG signals from the 10-lead ECG signals. It implements the following transformation, where the (Wilson Lead) is defined as $Vw = 1/3*(RA + LA + LL)$:\n",
    "$$\n",
    "\\left\\{\n",
    "\\begin{array}{lll}\n",
    "    X_{:,1}  & \\to  & RA \\\\\n",
    "    X_{:,2}  & \\to  & LA \\\\\n",
    "    X_{:,3}  & \\to  & LL \\\\\n",
    "    X_{:,4}  & \\to  & RL \\\\\n",
    "    X_{:,5}  & \\to  & V1 \\\\\n",
    "    X_{:,6}  & \\to  & V2 \\\\\n",
    "    X_{:,7}  & \\to  & V3 \\\\\n",
    "    X_{:,8}  & \\to  & V4 \\\\\n",
    "    X_{:,9}  & \\to  & V5 \\\\\n",
    "    X_{:,10} & \\to &  V6 \\\\\n",
    "\\end{array}\n",
    "\\right.\n",
    "\\text{        and        }\n",
    "\\left\\{\n",
    "\\begin{array}{lll}          \n",
    "\\text{Lead } I& : & LA - RA \\\\\n",
    "\\text{Lead } II& : & LL - RA \\\\\n",
    "\\text{Lead } III& : & LL - LA \\\\\n",
    "\\text{Lead } aVR& : &  \\frac{3}{2} (RA - Vw) \\\\\n",
    "\\text{Lead } aVL& : &  \\frac{3}{2} (LA - Vw) \\\\\n",
    "\\text{Lead } aVF& : &  \\frac{3}{2} (LL - Vw)\\\\ \n",
    "\\text{Lead } V1 & : & V1 - Vw \\\\\n",
    "\\text{Lead } V2 & : & V2 - Vw \\\\\n",
    "\\text{Lead } V3 & : & V3 - Vw \\\\\n",
    "\\text{Lead } V4 & : & V4 - Vw \\\\\n",
    "\\text{Lead } V5 & : & V5 - Vw \\\\\n",
    "\\text{Lead } V6 & : & V6 - Vw \\\\\n",
    "\\end{array}\n",
    "\\right.\n",
    "$$\n"
   ]
  },
  {
   "cell_type": "code",
   "metadata": {},
   "source": [
    "# Example of file pair\n",
    "case = 213\n",
    "# ECG plot\n",
    "row = 3 \n",
    "column = 4\n",
    "num_timesteps = 500\n",
    "plt.figure(figsize=(10, 7))\n",
    "titles = [\"I\", \"II\", \"III\", \"aVR\", \"aVL\", \"aVF\", \"V1\", \"V2\", \"V3\", \"V4\", \"V5\", \"V6\"]\n",
    "reorder = {1:1,2:5,3:9,4:2,5:6,6:10,7:3,8:7,9:11,10:4,11:8,12:12} # reorder the leads to standard 12-lead ECG display\n",
    "\n",
    "print('Case {} : {}'.format(case, file_pairs[case][0]))\n",
    "pECGData = np.load(file_pairs[case][0])\n",
    "pECGData = get_standard_leads(pECGData)\n",
    "\n",
    "# create a figure with 12 subplots\n",
    "for i in range(pECGData.shape[1]):\n",
    "    plt.subplot(row, column, reorder[i + 1])\n",
    "    plt.plot(pECGData[0:num_timesteps,i],'r')\n",
    "    plt.title(titles[i])\n",
    "    plt.grid(visible=True, which='major', color='#666666', linestyle='-')\n",
    "    plt.minorticks_on()\n",
    "    plt.grid(visible=True, which='minor', color='#999999', linestyle='-', alpha=0.2)\n",
    "    plt.xlabel('msec')\n",
    "    plt.ylabel('mV')\n",
    "plt.tight_layout()\n",
    "plt.show()\n",
    "# close\n",
    "plt.close()"
   ],
   "outputs": [],
   "execution_count": null
  },
  {
   "attachments": {},
   "cell_type": "markdown",
   "metadata": {},
   "source": [
    "## Getting the transmembrane voltages"
   ]
  },
  {
   "cell_type": "code",
   "metadata": {},
   "source": [
    "# Example of file pair\n",
    "case = 213\n",
    "# Vm plot\n",
    "row = 7\n",
    "column = 10\n",
    "plt.figure(figsize=(18, 9))\n",
    "\n",
    "print('Case {} : {}'.format(case, file_pairs[case][0]))\n",
    "VmData = np.load(file_pairs[case][1])\n",
    "\n",
    "for count, i in enumerate(range(VmData.shape[1])):\n",
    "    plt.subplot(8, 10, count + 1)\n",
    "    plt.plot(VmData[0:num_timesteps,i])\n",
    "    plt.title(f'i = {i}')\n",
    "    plt.grid(visible=True, which='major', color='#666666', linestyle='-')\n",
    "    plt.minorticks_on()\n",
    "    plt.grid(visible=True, which='minor', color='#999999', linestyle='-', alpha=0.2)\n",
    "    # plt.xlabel('msec')\n",
    "    # plt.ylabel('mV')\n",
    "plt.tight_layout()\n",
    "plt.show()\n",
    "# close\n",
    "plt.close()\n"
   ],
   "outputs": [],
   "execution_count": null
  },
  {
   "attachments": {},
   "cell_type": "markdown",
   "metadata": {},
   "source": [
    "## Task 4: Learning the mapping from the 12-lead ECG to the 75 transmembrane voltages"
   ]
  },
  {
   "cell_type": "code",
   "metadata": {},
   "source": [
    "# make a plot with the \"pECGData\" -> \"ActTime\"\n",
    "case = 213\n",
    "\n",
    "print('Case {} : {}'.format(case, file_pairs[case][0]))\n",
    "pECGData = np.load(file_pairs[case][0])\n",
    "pECGData = get_standard_leads(pECGData)\n",
    "\n",
    "print('Case {} : {}'.format(case, file_pairs[case][0]))\n",
    "VmData = np.load(file_pairs[case][1])\n",
    "\n",
    "# plot in row the tensors pECGData and ActTime with an arrow pointing to the activation time\n",
    "row = 1\n",
    "column = 3\n",
    "plt.figure(figsize=(20, 5))\n",
    "plt.subplot(row, column, 1)\n",
    "# plot pECGData transposed\n",
    "plt.imshow(pECGData.T, cmap='jet', interpolation='nearest', aspect='auto')\n",
    "plt.title('pECGData')\n",
    "plt.subplot(row, column, 2)\n",
    "# print a text \"->\"\n",
    "plt.text(0.5, 0.5, '-------->', fontsize=40, horizontalalignment='center', verticalalignment='center')\n",
    "plt.axis('off')\n",
    "plt.subplot(row, column, 3)\n",
    "# plot Vm transposed\n",
    "plt.imshow(VmData.T, cmap='jet', interpolation='nearest', aspect='auto')\n",
    "# not xticks\n",
    "plt.xticks([])\n",
    "plt.title('VmData')\n",
    "plt.show()\n",
    "plt.close()"
   ],
   "outputs": [],
   "execution_count": null
  },
  {
   "attachments": {},
   "cell_type": "markdown",
   "metadata": {},
   "source": [
    "# Tricks\n",
    "\n",
    "- As in many machine learning problems, normalization of the data might be helpful or even necessary. Different normalization schemes might be applied."
   ]
  },
  {
   "metadata": {},
   "cell_type": "code",
   "source": "",
   "outputs": [],
   "execution_count": null
  }
 ],
 "metadata": {
  "interpreter": {
   "hash": "31f2aee4e71d21fbe5cf8b01ff0e069b9275f58929596ceb00d14d90e3e16cd6"
  },
  "kernelspec": {
   "display_name": "PyTorch_Kernel",
   "language": "python",
   "name": "python3"
  },
  "language_info": {
   "codemirror_mode": {
    "name": "ipython",
    "version": 3
   },
   "file_extension": ".py",
   "mimetype": "text/x-python",
   "name": "python",
   "nbconvert_exporter": "python",
   "pygments_lexer": "ipython3",
   "version": "3.8.9"
  }
 },
 "nbformat": 4,
 "nbformat_minor": 1
}
