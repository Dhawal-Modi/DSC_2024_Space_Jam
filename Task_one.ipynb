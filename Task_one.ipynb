{
 "cells": [
  {
   "cell_type": "code",
   "id": "initial_id",
   "metadata": {
    "collapsed": true,
    "ExecuteTime": {
     "end_time": "2024-07-22T20:20:21.532155Z",
     "start_time": "2024-07-22T20:20:21.528393Z"
    }
   },
   "source": "#### Data Visualization here",
   "outputs": [],
   "execution_count": 1
  },
  {
   "metadata": {
    "ExecuteTime": {
     "end_time": "2024-07-22T20:20:44.084546Z",
     "start_time": "2024-07-22T20:20:44.082014Z"
    }
   },
   "cell_type": "code",
   "source": "#### Data concatenation and preparation here",
   "id": "de15b4654e3845c9",
   "outputs": [],
   "execution_count": 2
  },
  {
   "metadata": {
    "ExecuteTime": {
     "end_time": "2024-07-22T20:20:53.942105Z",
     "start_time": "2024-07-22T20:20:53.938357Z"
    }
   },
   "cell_type": "code",
   "source": "#### Model init and training here",
   "id": "2c38c269e4d9cea7",
   "outputs": [],
   "execution_count": 3
  },
  {
   "metadata": {},
   "cell_type": "code",
   "outputs": [],
   "execution_count": null,
   "source": "",
   "id": "86ff38e0187fcd1b"
  }
 ],
 "metadata": {
  "kernelspec": {
   "display_name": "Python 3",
   "language": "python",
   "name": "python3"
  },
  "language_info": {
   "codemirror_mode": {
    "name": "ipython",
    "version": 2
   },
   "file_extension": ".py",
   "mimetype": "text/x-python",
   "name": "python",
   "nbconvert_exporter": "python",
   "pygments_lexer": "ipython2",
   "version": "2.7.6"
  }
 },
 "nbformat": 4,
 "nbformat_minor": 5
}
