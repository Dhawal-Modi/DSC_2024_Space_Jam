{
  "cells": [
    {
      "cell_type": "markdown",
      "metadata": {
        "id": "view-in-github",
        "colab_type": "text"
      },
      "source": [
        "<a href=\"https://colab.research.google.com/github/Dhawal-Modi/DSC_2024_Space_Jam/blob/bhoomika/Task2.ipynb\" target=\"_parent\"><img src=\"https://colab.research.google.com/assets/colab-badge.svg\" alt=\"Open In Colab\"/></a>"
      ]
    },
    {
      "cell_type": "code",
      "execution_count": 141,
      "metadata": {
        "id": "jScZUDgLrgZQ"
      },
      "outputs": [],
      "source": [
        "import pandas as pd\n",
        "import numpy as np\n",
        "import matplotlib.pyplot as plt\n",
        "import seaborn as sns"
      ]
    },
    {
      "cell_type": "code",
      "execution_count": 142,
      "metadata": {
        "id": "tGeo1b8Er_ij"
      },
      "outputs": [],
      "source": [
        "mitbih_test = pd.read_csv('mitbih_test.csv', header= None)\n",
        "mitbih_train = pd.read_csv('mitbih_train.csv', header = None)"
      ]
    },
    {
      "cell_type": "code",
      "execution_count": 143,
      "metadata": {
        "colab": {
          "base_uri": "https://localhost:8080/"
        },
        "id": "5rZBW0iXtZwG",
        "outputId": "6254d5ae-db87-46a3-9751-12c9493c172d"
      },
      "outputs": [
        {
          "output_type": "stream",
          "name": "stdout",
          "text": [
            "<class 'pandas.core.frame.DataFrame'>\n",
            "RangeIndex: 21892 entries, 0 to 21891\n",
            "Columns: 188 entries, 0 to 187\n",
            "dtypes: float64(188)\n",
            "memory usage: 31.4 MB\n"
          ]
        }
      ],
      "source": [
        "mitbih_test.info()\n",
        "mitbih_test = mitbih_test.rename(columns={'187': 'labels'})"
      ]
    },
    {
      "cell_type": "code",
      "execution_count": 144,
      "metadata": {
        "colab": {
          "base_uri": "https://localhost:8080/"
        },
        "id": "aAkw9wFstn8Q",
        "outputId": "a11a1325-89ff-4f6f-fa83-3430077728a3"
      },
      "outputs": [
        {
          "output_type": "stream",
          "name": "stdout",
          "text": [
            "<class 'pandas.core.frame.DataFrame'>\n",
            "RangeIndex: 87554 entries, 0 to 87553\n",
            "Columns: 188 entries, 0 to 187\n",
            "dtypes: float64(188)\n",
            "memory usage: 125.6 MB\n"
          ]
        }
      ],
      "source": [
        "mitbih_train.info()\n",
        "mitbih_train = mitbih_train.rename(columns={'187': 'labels'})"
      ]
    },
    {
      "cell_type": "code",
      "source": [
        "df_test = pd.DataFrame(mitbih_test)\n",
        "df_test = df_test.rename(columns ={187 : 'label'})\n",
        "df_test\n",
        "df_test.label.unique()"
      ],
      "metadata": {
        "colab": {
          "base_uri": "https://localhost:8080/"
        },
        "id": "52Os3EAQf89u",
        "outputId": "f7959289-d6d6-44fa-bc2f-f1078a4ac34f"
      },
      "execution_count": 145,
      "outputs": [
        {
          "output_type": "execute_result",
          "data": {
            "text/plain": [
              "array([0., 1., 2., 3., 4.])"
            ]
          },
          "metadata": {},
          "execution_count": 145
        }
      ]
    },
    {
      "cell_type": "code",
      "source": [
        "df_train = pd.DataFrame(mitbih_train)\n",
        "df_train = df_train.rename(columns ={187 : 'label'})\n",
        "df_train\n",
        "df_train.label.unique()"
      ],
      "metadata": {
        "colab": {
          "base_uri": "https://localhost:8080/"
        },
        "id": "LsUTbUhggfhd",
        "outputId": "3a1704d8-0805-4aad-e343-c0125b009b69"
      },
      "execution_count": 146,
      "outputs": [
        {
          "output_type": "execute_result",
          "data": {
            "text/plain": [
              "array([0., 1., 2., 3., 4.])"
            ]
          },
          "metadata": {},
          "execution_count": 146
        }
      ]
    },
    {
      "cell_type": "code",
      "source": [
        "print(\"This is Normal:\", df_train['label'].value_counts()[0])\n",
        "print(\"This is 1:\", df_train['label'].value_counts()[1])\n",
        "print(\"This is 2:\", df_train['label'].value_counts()[2])\n",
        "print(\"This is 3:\", df_train['label'].value_counts()[3])\n",
        "print(\"This is 4:\", df_train['label'].value_counts()[4])"
      ],
      "metadata": {
        "colab": {
          "base_uri": "https://localhost:8080/"
        },
        "id": "Jhr6ahdph9ET",
        "outputId": "7efbd6e7-f61a-4e34-84e3-3946f7516405"
      },
      "execution_count": 147,
      "outputs": [
        {
          "output_type": "stream",
          "name": "stdout",
          "text": [
            "This is Normal: 72471\n",
            "This is 1: 2223\n",
            "This is 2: 5788\n",
            "This is 3: 641\n",
            "This is 4: 6431\n"
          ]
        }
      ]
    },
    {
      "cell_type": "code",
      "source": [
        "plt.figure(figsize=(10, 7))\n",
        "plt.hist(df_train['label'])\n",
        "plt.show()"
      ],
      "metadata": {
        "colab": {
          "base_uri": "https://localhost:8080/",
          "height": 599
        },
        "id": "YYcobWdBfCkk",
        "outputId": "a16fd3db-affa-47e7-8ffa-e0bb48c817a0"
      },
      "execution_count": 148,
      "outputs": [
        {
          "output_type": "display_data",
          "data": {
            "text/plain": [
              "<Figure size 1000x700 with 1 Axes>"
            ],
            "image/png": "[encoded data removed]"
          },
          "metadata": {}
        }
      ]
    },
    {
      "cell_type": "code",
      "source": [
        "df_normal = df_train[df_train['label'] == 0]\n",
        "df_one = df_train[df_train['label'] == 1]\n",
        "df_two = df_train[df_train['label'] == 2]\n",
        "df_three = df_train[df_train['label'] == 3]\n",
        "df_four = df_train[df_train['label'] == 4]"
      ],
      "metadata": {
        "id": "Re9Bmnj0ngsS"
      },
      "execution_count": 149,
      "outputs": []
    },
    {
      "cell_type": "code",
      "source": [
        "import random\n",
        "df_normal = df_normal.sample(n=1200, random_state=1)\n",
        "df_one = df_one.sample(n=1200, random_state=1)\n",
        "df_two = df_two.sample(n=1200, random_state=1)\n",
        "df_four = df_four.sample(n=1200, random_state=1)\n",
        "\n",
        "df_train_normalized = pd.concat([df_normal, df_one, df_two, df_three, df_four])"
      ],
      "metadata": {
        "id": "zjAJux5GmH2g"
      },
      "execution_count": 150,
      "outputs": []
    },
    {
      "cell_type": "code",
      "source": [
        "df_train_normalized.info()"
      ],
      "metadata": {
        "colab": {
          "base_uri": "https://localhost:8080/"
        },
        "id": "v1_8tstEtMFk",
        "outputId": "382a0f80-4cda-4b17-c757-38fbefc44053"
      },
      "execution_count": 151,
      "outputs": [
        {
          "output_type": "stream",
          "name": "stdout",
          "text": [
            "<class 'pandas.core.frame.DataFrame'>\n",
            "Index: 5441 entries, 65728 to 85105\n",
            "Columns: 188 entries, 0 to label\n",
            "dtypes: float64(188)\n",
            "memory usage: 7.8 MB\n"
          ]
        }
      ]
    },
    {
      "cell_type": "code",
      "source": [
        "df_test.info()"
      ],
      "metadata": {
        "colab": {
          "base_uri": "https://localhost:8080/"
        },
        "id": "WkZFwyeMto7y",
        "outputId": "a5f1ec9a-ad7b-4413-da69-d1a72390eaa5"
      },
      "execution_count": 163,
      "outputs": [
        {
          "output_type": "stream",
          "name": "stdout",
          "text": [
            "<class 'pandas.core.frame.DataFrame'>\n",
            "RangeIndex: 21892 entries, 0 to 21891\n",
            "Columns: 188 entries, 0 to label\n",
            "dtypes: float64(188)\n",
            "memory usage: 31.4 MB\n"
          ]
        }
      ]
    },
    {
      "cell_type": "code",
      "source": [
        "df_downsampled_test = df_test.sample(n=1360, random_state=1)"
      ],
      "metadata": {
        "id": "njYqGW8Qp7vv"
      },
      "execution_count": 162,
      "outputs": []
    },
    {
      "cell_type": "code",
      "source": [
        "from sklearn.linear_model import LogisticRegression\n",
        "from sklearn.metrics import confusion_matrix\n",
        "\n",
        "X_train, y_train = df_train_normalized.iloc[:,:187], df_train_normalized.iloc[:,-1:]\n",
        "X_test, y_test = df_downsampled_test.iloc[:,:187], df_downsampled_test.iloc[:,-1:]\n"
      ],
      "metadata": {
        "id": "suQBjQJcqHOr"
      },
      "execution_count": 167,
      "outputs": []
    },
    {
      "cell_type": "code",
      "source": [
        "model = LogisticRegression(penalty='l2', tol=0.0001, max_iter=1000, random_state=1)\n",
        "model = model.fit(X_train, y_train)\n",
        "print(model.score(X_test, y_test)*100, '%')"
      ],
      "metadata": {
        "colab": {
          "base_uri": "https://localhost:8080/"
        },
        "id": "iYFiZjxPq6y6",
        "outputId": "4b90d9ad-b7ba-4d55-a255-4a3ddba6da89"
      },
      "execution_count": 171,
      "outputs": [
        {
          "output_type": "stream",
          "name": "stderr",
          "text": [
            "/usr/local/lib/python3.10/dist-packages/sklearn/utils/validation.py:1143: DataConversionWarning: A column-vector y was passed when a 1d array was expected. Please change the shape of y to (n_samples, ), for example using ravel().\n",
            "  y = column_or_1d(y, warn=True)\n"
          ]
        },
        {
          "output_type": "stream",
          "name": "stdout",
          "text": [
            "66.91176470588235 %\n"
          ]
        }
      ]
    },
    {
      "cell_type": "code",
      "source": [
        "y_predicted = model.predict(X_test)\n",
        "print(y_predicted)\n",
        "confusion_matrix(y_test, y_predicted, normalize='true')"
      ],
      "metadata": {
        "colab": {
          "base_uri": "https://localhost:8080/"
        },
        "id": "93CZfl16rT1J",
        "outputId": "ffb01789-1b96-43ef-ae7e-b38aa8fc5389"
      },
      "execution_count": 169,
      "outputs": [
        {
          "output_type": "stream",
          "name": "stdout",
          "text": [
            "[0. 1. 4. ... 0. 1. 0.]\n"
          ]
        },
        {
          "output_type": "execute_result",
          "data": {
            "text/plain": [
              "array([[0.64438503, 0.11942959, 0.15329768, 0.05614973, 0.02673797],\n",
              "       [0.34285714, 0.48571429, 0.11428571, 0.05714286, 0.        ],\n",
              "       [0.07692308, 0.02197802, 0.78021978, 0.08791209, 0.03296703],\n",
              "       [0.11111111, 0.        , 0.33333333, 0.55555556, 0.        ],\n",
              "       [0.05825243, 0.        , 0.02912621, 0.        , 0.91262136]])"
            ]
          },
          "metadata": {},
          "execution_count": 169
        }
      ]
    },
    {
      "cell_type": "code",
      "source": [
        "from sklearn.neighbors import KNeighborsClassifier\n",
        "from sklearn.metrics import accuracy_score\n",
        "\n",
        "knn = KNeighborsClassifier(n_neighbors=3)\n",
        "knn.fit(X_train, y_train)\n",
        "y_pred = knn.predict(X_test)\n",
        "accuracy = accuracy_score(y_test, y_pred)\n",
        "print(\"Accuracy:\", accuracy)"
      ],
      "metadata": {
        "colab": {
          "base_uri": "https://localhost:8080/"
        },
        "id": "ZjuHbLCir_hw",
        "outputId": "3a05a541-3107-4e97-c5e0-56044c211784"
      },
      "execution_count": 170,
      "outputs": [
        {
          "output_type": "stream",
          "name": "stderr",
          "text": [
            "/usr/local/lib/python3.10/dist-packages/sklearn/neighbors/_classification.py:215: DataConversionWarning: A column-vector y was passed when a 1d array was expected. Please change the shape of y to (n_samples,), for example using ravel().\n",
            "  return self._fit(X, y)\n"
          ]
        },
        {
          "output_type": "stream",
          "name": "stdout",
          "text": [
            "Accuracy: 0.8397058823529412\n"
          ]
        }
      ]
    },
    {
      "cell_type": "code",
      "source": [
        "from sklearn.ensemble import RandomForestClassifier\n",
        "rf = RandomForestClassifier()\n",
        "rf.fit(X_train, y_train)\n",
        "y_pred = rf.predict(X_test)\n",
        "accuracy = accuracy_score(y_test, y_pred)\n",
        "print(\"Accuracy:\", accuracy)"
      ],
      "metadata": {
        "colab": {
          "base_uri": "https://localhost:8080/"
        },
        "id": "bjiRDB6RuseB",
        "outputId": "5df7c870-d47e-4551-8302-241c43c0d634"
      },
      "execution_count": 172,
      "outputs": [
        {
          "output_type": "stream",
          "name": "stderr",
          "text": [
            "<ipython-input-172-664337fda3ee>:3: DataConversionWarning: A column-vector y was passed when a 1d array was expected. Please change the shape of y to (n_samples,), for example using ravel().\n",
            "  rf.fit(X_train, y_train)\n"
          ]
        },
        {
          "output_type": "stream",
          "name": "stdout",
          "text": [
            "Accuracy: 0.9183823529411764\n"
          ]
        }
      ]
    },
    {
      "cell_type": "code",
      "source": [
        "from sklearn.ensemble import AdaBoostClassifier\n",
        "from sklearn import metrics\n",
        "\n",
        "# Create adaboost classifer object\n",
        "abc = AdaBoostClassifier(n_estimators=50, learning_rate=1)\n",
        "# Train Adaboost Classifer\n",
        "model = abc.fit(X_train, y_train)\n",
        "\n",
        "#Predict the response for test dataset\n",
        "y_pred = model.predict(X_test)\n",
        "\n",
        "# Model Accuracy, how often is the classifier correct?\n",
        "print(\"Accuracy:\",metrics.accuracy_score(y_test, y_pred))"
      ],
      "metadata": {
        "colab": {
          "base_uri": "https://localhost:8080/"
        },
        "id": "AwoHM-qOu8p7",
        "outputId": "135a0f76-9cd7-43a4-ed70-5ca5f1f20955"
      },
      "execution_count": 174,
      "outputs": [
        {
          "output_type": "stream",
          "name": "stderr",
          "text": [
            "/usr/local/lib/python3.10/dist-packages/sklearn/utils/validation.py:1143: DataConversionWarning: A column-vector y was passed when a 1d array was expected. Please change the shape of y to (n_samples, ), for example using ravel().\n",
            "  y = column_or_1d(y, warn=True)\n"
          ]
        },
        {
          "output_type": "stream",
          "name": "stdout",
          "text": [
            "Accuracy: 0.5154411764705882\n"
          ]
        }
      ]
    },
    {
      "cell_type": "code",
      "source": [],
      "metadata": {
        "id": "jLCnEOEkvkVn"
      },
      "execution_count": 175,
      "outputs": []
    }
  ],
  "metadata": {
    "colab": {
      "provenance": [],
      "authorship_tag": "ABX9TyO2+15q2q3TcCKMw8Mg6f41",
      "include_colab_link": true
    },
    "kernelspec": {
      "display_name": "Python 3",
      "name": "python3"
    },
    "language_info": {
      "name": "python"
    }
  },
  "nbformat": 4,
  "nbformat_minor": 0
}