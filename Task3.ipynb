{
  "nbformat": 4,
  "nbformat_minor": 0,
  "metadata": {
    "colab": {
      "provenance": [],
      "mount_file_id": "10se3VGrnTYlOlsN7cxIvVup77LQRlEK9",
      "authorship_tag": "ABX9TyNc+05TiaDdAcPvnvxGoEL/",
      "include_colab_link": true
    },
    "kernelspec": {
      "name": "python3",
      "display_name": "Python 3"
    },
    "language_info": {
      "name": "python"
    }
  },
  "cells": [
    {
      "cell_type": "markdown",
      "metadata": {
        "id": "view-in-github",
        "colab_type": "text"
      },
      "source": [
        "<a href=\"https://colab.research.google.com/github/Dhawal-Modi/DSC_2024_Space_Jam/blob/nikhil/Task3.ipynb\" target=\"_parent\"><img src=\"https://colab.research.google.com/assets/colab-badge.svg\" alt=\"Open In Colab\"/></a>"
      ]
    },
    {
      "cell_type": "code",
      "source": [
        "import sys\n",
        "sys.path.append(\"/content/drive/MyDrive/task3\")"
      ],
      "metadata": {
        "id": "BAbVdL--ELzp"
      },
      "execution_count": 4,
      "outputs": []
    },
    {
      "cell_type": "code",
      "source": [
        "import torch\n",
        "from torchsummary import summary\n",
        "class FireModule(torch.nn.Module):\n",
        "    def __init__(self, in_channels, squeeze_channels, expand1x1_channels, expand1x3_channels):\n",
        "        super(FireModule, self).__init__()\n",
        "        self.squeeze = torch.nn.Conv1d(in_channels, squeeze_channels, kernel_size=1)\n",
        "        self.relu = torch.nn.ReLU(inplace=True)\n",
        "        self.expand1x1 = torch.nn.Conv1d(squeeze_channels, expand1x1_channels, kernel_size=1)\n",
        "        self.expand1x3 = torch.nn.Conv1d(squeeze_channels, expand1x3_channels, kernel_size=3, padding=1)\n",
        "\n",
        "    def forward(self, x):\n",
        "        x = self.squeeze(x)\n",
        "        x = self.relu(x)\n",
        "        out1x1 = self.expand1x1(x)\n",
        "        out1x3 = self.expand1x3(x)\n",
        "        out = torch.cat([out1x1, out1x3], dim=1)\n",
        "        return self.relu(out)\n",
        "\n",
        "\n",
        "class SqueezeNet(torch.nn.Module):\n",
        "    def __init__(self,in_channels,classes):\n",
        "        super(SqueezeNet, self).__init__()\n",
        "        self.features = torch.nn.Sequential(\n",
        "            # conv1\n",
        "            torch.nn.Conv1d(in_channels, 64, kernel_size=3, stride=2, padding=1),\n",
        "            torch.nn.ReLU(inplace=True),\n",
        "            # maxpool1\n",
        "            torch.nn.MaxPool1d(kernel_size=3, stride=2, padding=1),\n",
        "            # Fire2\n",
        "            FireModule(64, 16, 64, 64),\n",
        "            # Fire3\n",
        "            FireModule(128, 16, 64, 64),\n",
        "            # maxpool4\n",
        "            torch.nn.MaxPool1d(kernel_size=3, stride=2, padding=1),\n",
        "            # Fire5\n",
        "            FireModule(128, 32, 128, 128),\n",
        "            # Fire6\n",
        "            FireModule(256, 32, 128, 128),\n",
        "            #maxpool7\n",
        "            torch.nn.MaxPool1d(kernel_size=3, stride=2, padding=1),\n",
        "            # Fire8\n",
        "            FireModule(256, 48, 192, 192),\n",
        "            # Fire9\n",
        "            FireModule(384, 48, 192, 192),\n",
        "            #Fire10\n",
        "            FireModule(384, 64, 256, 256),\n",
        "            # Fire11\n",
        "            FireModule(512, 64, 256, 256),\n",
        "            #dropout12\n",
        "            torch.nn.Dropout(p=0.1, inplace=False),\n",
        "        )\n",
        "\n",
        "        self.classifier = torch.nn.Sequential(\n",
        "            torch.nn.Conv1d(512, 75, kernel_size=3, stride=2, padding=0),\n",
        "            torch.nn.AdaptiveAvgPool1d(1),\n",
        "            torch.nn.Conv1d(75, 75, kernel_size=3, stride=2, padding=0)\n",
        "        )\n",
        "\n",
        "    def forward(self, x):\n",
        "        x = self.features(x)\n",
        "        x = torch.flatten(x, 1)\n",
        "        return x"
      ],
      "metadata": {
        "colab": {
          "base_uri": "https://localhost:8080/",
          "height": 280
        },
        "id": "wPOLKvBHzm0B",
        "outputId": "b4557fb7-7bc2-4a35-e610-00caeb7d4579"
      },
      "execution_count": 5,
      "outputs": [
        {
          "output_type": "stream",
          "name": "stdout",
          "text": [
            "Number of file pairs: 0\n",
            "Example of file pair:\n"
          ]
        },
        {
          "output_type": "error",
          "ename": "IndexError",
          "evalue": "list index out of range",
          "traceback": [
            "\u001b[0;31m---------------------------------------------------------------------------\u001b[0m",
            "\u001b[0;31mIndexError\u001b[0m                                Traceback (most recent call last)",
            "\u001b[0;32m<ipython-input-5-86f4245a1649>\u001b[0m in \u001b[0;36m<cell line: 48>\u001b[0;34m()\u001b[0m\n\u001b[1;32m     46\u001b[0m \u001b[0;31m# example of file pair\u001b[0m\u001b[0;34m\u001b[0m\u001b[0;34m\u001b[0m\u001b[0m\n\u001b[1;32m     47\u001b[0m \u001b[0mprint\u001b[0m\u001b[0;34m(\u001b[0m\u001b[0;34m\"Example of file pair:\"\u001b[0m\u001b[0;34m)\u001b[0m\u001b[0;34m\u001b[0m\u001b[0;34m\u001b[0m\u001b[0m\n\u001b[0;32m---> 48\u001b[0;31m \u001b[0mprint\u001b[0m\u001b[0;34m(\u001b[0m\u001b[0;34m\"{}\\n{}\"\u001b[0m\u001b[0;34m.\u001b[0m\u001b[0mformat\u001b[0m\u001b[0;34m(\u001b[0m\u001b[0mfile_pairs\u001b[0m\u001b[0;34m[\u001b[0m\u001b[0;36m0\u001b[0m\u001b[0;34m]\u001b[0m\u001b[0;34m[\u001b[0m\u001b[0;36m0\u001b[0m\u001b[0;34m]\u001b[0m\u001b[0;34m,\u001b[0m \u001b[0mfile_pairs\u001b[0m\u001b[0;34m[\u001b[0m\u001b[0;36m0\u001b[0m\u001b[0;34m]\u001b[0m\u001b[0;34m[\u001b[0m\u001b[0;36m1\u001b[0m\u001b[0;34m]\u001b[0m\u001b[0;34m)\u001b[0m\u001b[0;34m)\u001b[0m\u001b[0;34m\u001b[0m\u001b[0;34m\u001b[0m\u001b[0m\n\u001b[0m\u001b[1;32m     49\u001b[0m \u001b[0mprint\u001b[0m\u001b[0;34m(\u001b[0m\u001b[0;34m\"{}\"\u001b[0m\u001b[0;34m.\u001b[0m\u001b[0mformat\u001b[0m\u001b[0;34m(\u001b[0m\u001b[0mfile_pairs\u001b[0m\u001b[0;34m[\u001b[0m\u001b[0;36m1\u001b[0m\u001b[0;34m]\u001b[0m\u001b[0;34m)\u001b[0m\u001b[0;34m)\u001b[0m\u001b[0;34m\u001b[0m\u001b[0;34m\u001b[0m\u001b[0m\n\u001b[1;32m     50\u001b[0m \u001b[0;34m\u001b[0m\u001b[0m\n",
            "\u001b[0;31mIndexError\u001b[0m: list index out of range"
          ]
        }
      ]
    }
  ]
}