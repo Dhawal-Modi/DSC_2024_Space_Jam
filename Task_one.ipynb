{
 "cells": [
  {
   "cell_type": "code",
   "source": [
    "import pandas as pd\n",
    "import numpy as np\n",
    "import matplotlib.pyplot as plt"
   ],
   "metadata": {
    "id": "rUf2NvfSH2ey"
   },
   "id": "rUf2NvfSH2ey",
   "outputs": [],
   "execution_count": null
  },
  {
   "cell_type": "code",
   "source": [
    "#### Data Visualization here\n",
    "\n",
    "data_normal = pd.read_csv('ecg_dataset/ptbdb_normal.csv', header = None)\n",
    "data_abnormal = pd.read_csv('ecg_dataset/ptbdb_abnormal.csv', header = None)\n",
    "classes_names = {0 : \"normal\",\n",
    "                 1 : \"abnormal\"}\n",
    "\n",
    "num_cols = data_normal.shape[1] - 1\n",
    "time = np.arange(0, num_cols) / 125\n",
    "time = time * 1000\n",
    "data_normal.columns = list(time) + [\"label\"]\n",
    "data_abnormal.columns = list(time) + [\"label\"]\n",
    "df_ptbd = pd.concat([data_normal, data_abnormal], axis = 0)\n",
    "counts = df_ptbd[\"label\"].value_counts()\n",
    "counts.index = counts.index.map(classes_names)"
   ],
   "metadata": {
    "id": "kjFKZxChKPcf"
   },
   "id": "kjFKZxChKPcf",
   "outputs": [],
   "execution_count": null
  },
  {
   "cell_type": "code",
   "source": [
    "# create a figure\n",
    "plt.figure(figsize = (10, 5))\n",
    "# plot a bar chart\n",
    "counts.plot(kind = \"bar\")\n",
    "# plot xticks in angle\n",
    "plt.xticks(rotation = 0)\n",
    "plt.title(\"Number of samples in each class\")\n",
    "plt.show()\n",
    "plt.close()"
   ],
   "metadata": {
    "id": "Zcztr5WPKT0k"
   },
   "id": "Zcztr5WPKT0k",
   "outputs": [],
   "execution_count": null
  },
  {
   "metadata": {
    "id": "de15b4654e3845c9"
   },
   "cell_type": "code",
   "source": [
    "#### Data concatenation and preparation here\n",
    "normal_df = pd.read_csv(\"ecg_dataset/ptbdb_normal.csv\", header=None)\n",
    "abnormal_df = pd.read_csv(\"ecg_dataset/ptbdb_abnormal.csv\", header=None)\n",
    "\n",
    "abnormal_df.rename(columns={'187': \"Label\"}, inplace=True)\n",
    "normal_df.rename(columns={'187': \"Label\"}, inplace=True)\n",
    "\n",
    "#downsample the abnormal df to a size closer to the normal df\n",
    "abnormal_df = abnormal_df.sample(n=5000, random_state=1)\n",
    "total_df = pd.concat([normal_df, abnormal_df])\n",
    "\n",
    "len(total_df)"
   ],
   "id": "de15b4654e3845c9",
   "outputs": [],
   "execution_count": null
  },
  {
   "metadata": {
    "id": "2c38c269e4d9cea7",
    "jupyter": {
     "is_executing": true
    }
   },
   "cell_type": "code",
   "source": [
    "#### Model init and training here\n",
    "\n",
    "from sklearn.model_selection import train_test_split\n",
    "from sklearn.model_selection import cross_val_score\n",
    "from sklearn.linear_model import LogisticRegression\n",
    "from sklearn.naive_bayes import GaussianNB\n",
    "from sklearn.ensemble import RandomForestClassifier\n",
    "from sklearn.ensemble import VotingClassifier\n",
    "\n",
    "X, y = total_df.iloc[:,:187], total_df.iloc[:,-1:]\n",
    "\n",
    "#X_train, X_test, y_train, y_test = train_test_split(X, y, test_size=0.2, random_state=42, shuffle=True)\n",
    "\n",
    "clf1 = LogisticRegression(random_state=1)\n",
    "clf2 = RandomForestClassifier(n_estimators=50, random_state=1)\n",
    "clf3 = GaussianNB()\n",
    "\n",
    "eclf = VotingClassifier(\n",
    "    estimators=[('lr', clf1), ('rf', clf2), ('gnb', clf3)],\n",
    "    voting='soft', weights=[2,1,2])\n",
    "\n",
    "for clf, label in zip([clf1, clf2, clf3, eclf], ['Logistic Regression', 'Random Forest', 'naive Bayes', 'Ensemble']):\n",
    "    scores = cross_val_score(clf, X, y.values.ravel(), scoring='accuracy', cv=5)\n",
    "    print(\"Accuracy: %0.2f (+/- %0.2f) [%s]\" % (scores.mean(), scores.std(), label))"
   ],
   "id": "2c38c269e4d9cea7",
   "outputs": [],
   "execution_count": null
  },
  {
   "metadata": {
    "id": "86ff38e0187fcd1b"
   },
   "cell_type": "code",
   "source": [],
   "id": "86ff38e0187fcd1b",
   "outputs": [],
   "execution_count": null
  }
 ],
 "metadata": {
  "kernelspec": {
   "display_name": "Python 3",
   "language": "python",
   "name": "python3"
  },
  "language_info": {
   "codemirror_mode": {
    "name": "ipython",
    "version": 2
   },
   "file_extension": ".py",
   "mimetype": "text/x-python",
   "name": "python",
   "nbconvert_exporter": "python",
   "pygments_lexer": "ipython2",
   "version": "2.7.6"
  },
  "colab": {
   "provenance": [],
   "include_colab_link": true
  }
 },
 "nbformat": 4,
 "nbformat_minor": 5
}
